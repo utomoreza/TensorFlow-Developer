{
  "nbformat": 4,
  "nbformat_minor": 0,
  "metadata": {
    "accelerator": "GPU",
    "colab": {
      "name": "Course 3 - Week 3 - Lesson 2d.ipynb",
      "provenance": [],
      "collapsed_sections": []
    },
    "kernelspec": {
      "display_name": "Python 3",
      "name": "python3"
    },
    "widgets": {
      "application/vnd.jupyter.widget-state+json": {
        "ba39b8dbdfd2493a9c0d60e7fd6cee7f": {
          "model_module": "@jupyter-widgets/controls",
          "model_name": "HBoxModel",
          "state": {
            "_view_name": "HBoxView",
            "_dom_classes": [],
            "_model_name": "HBoxModel",
            "_view_module": "@jupyter-widgets/controls",
            "_model_module_version": "1.5.0",
            "_view_count": null,
            "_view_module_version": "1.5.0",
            "box_style": "",
            "layout": "IPY_MODEL_57fe391cf4a84fe8bd20f1275bcb34e8",
            "_model_module": "@jupyter-widgets/controls",
            "children": [
              "IPY_MODEL_0aa2b5b4dfa34b5b89da8f675531578b",
              "IPY_MODEL_ae16f7630cbf4861af22da10b401ac3d"
            ]
          }
        },
        "57fe391cf4a84fe8bd20f1275bcb34e8": {
          "model_module": "@jupyter-widgets/base",
          "model_name": "LayoutModel",
          "state": {
            "_view_name": "LayoutView",
            "grid_template_rows": null,
            "right": null,
            "justify_content": null,
            "_view_module": "@jupyter-widgets/base",
            "overflow": null,
            "_model_module_version": "1.2.0",
            "_view_count": null,
            "flex_flow": null,
            "width": null,
            "min_width": null,
            "border": null,
            "align_items": null,
            "bottom": null,
            "_model_module": "@jupyter-widgets/base",
            "top": null,
            "grid_column": null,
            "overflow_y": null,
            "overflow_x": null,
            "grid_auto_flow": null,
            "grid_area": null,
            "grid_template_columns": null,
            "flex": null,
            "_model_name": "LayoutModel",
            "justify_items": null,
            "grid_row": null,
            "max_height": null,
            "align_content": null,
            "visibility": null,
            "align_self": null,
            "height": null,
            "min_height": null,
            "padding": null,
            "grid_auto_rows": null,
            "grid_gap": null,
            "max_width": null,
            "order": null,
            "_view_module_version": "1.2.0",
            "grid_template_areas": null,
            "object_position": null,
            "object_fit": null,
            "grid_auto_columns": null,
            "margin": null,
            "display": null,
            "left": null
          }
        },
        "0aa2b5b4dfa34b5b89da8f675531578b": {
          "model_module": "@jupyter-widgets/controls",
          "model_name": "FloatProgressModel",
          "state": {
            "_view_name": "ProgressView",
            "style": "IPY_MODEL_7f1fbdc78e344cbdb5ed01f5402675f9",
            "_dom_classes": [],
            "description": "Dl Completed...: 100%",
            "_model_name": "FloatProgressModel",
            "bar_style": "success",
            "max": 1,
            "_view_module": "@jupyter-widgets/controls",
            "_model_module_version": "1.5.0",
            "value": 1,
            "_view_count": null,
            "_view_module_version": "1.5.0",
            "orientation": "horizontal",
            "min": 0,
            "description_tooltip": null,
            "_model_module": "@jupyter-widgets/controls",
            "layout": "IPY_MODEL_6690ac83db884cb991bb76299d09c451"
          }
        },
        "ae16f7630cbf4861af22da10b401ac3d": {
          "model_module": "@jupyter-widgets/controls",
          "model_name": "HTMLModel",
          "state": {
            "_view_name": "HTMLView",
            "style": "IPY_MODEL_f4337f3d0314496bb465690426ccc29b",
            "_dom_classes": [],
            "description": "",
            "_model_name": "HTMLModel",
            "placeholder": "​",
            "_view_module": "@jupyter-widgets/controls",
            "_model_module_version": "1.5.0",
            "value": " 1/1 [00:01&lt;00:00,  1.78s/ url]",
            "_view_count": null,
            "_view_module_version": "1.5.0",
            "description_tooltip": null,
            "_model_module": "@jupyter-widgets/controls",
            "layout": "IPY_MODEL_e70068af4b8141a29f39dc91082b91e4"
          }
        },
        "7f1fbdc78e344cbdb5ed01f5402675f9": {
          "model_module": "@jupyter-widgets/controls",
          "model_name": "ProgressStyleModel",
          "state": {
            "_view_name": "StyleView",
            "_model_name": "ProgressStyleModel",
            "description_width": "initial",
            "_view_module": "@jupyter-widgets/base",
            "_model_module_version": "1.5.0",
            "_view_count": null,
            "_view_module_version": "1.2.0",
            "bar_color": null,
            "_model_module": "@jupyter-widgets/controls"
          }
        },
        "6690ac83db884cb991bb76299d09c451": {
          "model_module": "@jupyter-widgets/base",
          "model_name": "LayoutModel",
          "state": {
            "_view_name": "LayoutView",
            "grid_template_rows": null,
            "right": null,
            "justify_content": null,
            "_view_module": "@jupyter-widgets/base",
            "overflow": null,
            "_model_module_version": "1.2.0",
            "_view_count": null,
            "flex_flow": null,
            "width": null,
            "min_width": null,
            "border": null,
            "align_items": null,
            "bottom": null,
            "_model_module": "@jupyter-widgets/base",
            "top": null,
            "grid_column": null,
            "overflow_y": null,
            "overflow_x": null,
            "grid_auto_flow": null,
            "grid_area": null,
            "grid_template_columns": null,
            "flex": null,
            "_model_name": "LayoutModel",
            "justify_items": null,
            "grid_row": null,
            "max_height": null,
            "align_content": null,
            "visibility": null,
            "align_self": null,
            "height": null,
            "min_height": null,
            "padding": null,
            "grid_auto_rows": null,
            "grid_gap": null,
            "max_width": null,
            "order": null,
            "_view_module_version": "1.2.0",
            "grid_template_areas": null,
            "object_position": null,
            "object_fit": null,
            "grid_auto_columns": null,
            "margin": null,
            "display": null,
            "left": null
          }
        },
        "f4337f3d0314496bb465690426ccc29b": {
          "model_module": "@jupyter-widgets/controls",
          "model_name": "DescriptionStyleModel",
          "state": {
            "_view_name": "StyleView",
            "_model_name": "DescriptionStyleModel",
            "description_width": "",
            "_view_module": "@jupyter-widgets/base",
            "_model_module_version": "1.5.0",
            "_view_count": null,
            "_view_module_version": "1.2.0",
            "_model_module": "@jupyter-widgets/controls"
          }
        },
        "e70068af4b8141a29f39dc91082b91e4": {
          "model_module": "@jupyter-widgets/base",
          "model_name": "LayoutModel",
          "state": {
            "_view_name": "LayoutView",
            "grid_template_rows": null,
            "right": null,
            "justify_content": null,
            "_view_module": "@jupyter-widgets/base",
            "overflow": null,
            "_model_module_version": "1.2.0",
            "_view_count": null,
            "flex_flow": null,
            "width": null,
            "min_width": null,
            "border": null,
            "align_items": null,
            "bottom": null,
            "_model_module": "@jupyter-widgets/base",
            "top": null,
            "grid_column": null,
            "overflow_y": null,
            "overflow_x": null,
            "grid_auto_flow": null,
            "grid_area": null,
            "grid_template_columns": null,
            "flex": null,
            "_model_name": "LayoutModel",
            "justify_items": null,
            "grid_row": null,
            "max_height": null,
            "align_content": null,
            "visibility": null,
            "align_self": null,
            "height": null,
            "min_height": null,
            "padding": null,
            "grid_auto_rows": null,
            "grid_gap": null,
            "max_width": null,
            "order": null,
            "_view_module_version": "1.2.0",
            "grid_template_areas": null,
            "object_position": null,
            "object_fit": null,
            "grid_auto_columns": null,
            "margin": null,
            "display": null,
            "left": null
          }
        },
        "dc00b78f221445d7bc9fb3d216619ae1": {
          "model_module": "@jupyter-widgets/controls",
          "model_name": "HBoxModel",
          "state": {
            "_view_name": "HBoxView",
            "_dom_classes": [],
            "_model_name": "HBoxModel",
            "_view_module": "@jupyter-widgets/controls",
            "_model_module_version": "1.5.0",
            "_view_count": null,
            "_view_module_version": "1.5.0",
            "box_style": "",
            "layout": "IPY_MODEL_b22190b167174e0088e3da74a8b5d6da",
            "_model_module": "@jupyter-widgets/controls",
            "children": [
              "IPY_MODEL_fae608eee31c44a88d539006f6de35d1",
              "IPY_MODEL_51c8e92b0f594f46acb5cfcfeb3a2477"
            ]
          }
        },
        "b22190b167174e0088e3da74a8b5d6da": {
          "model_module": "@jupyter-widgets/base",
          "model_name": "LayoutModel",
          "state": {
            "_view_name": "LayoutView",
            "grid_template_rows": null,
            "right": null,
            "justify_content": null,
            "_view_module": "@jupyter-widgets/base",
            "overflow": null,
            "_model_module_version": "1.2.0",
            "_view_count": null,
            "flex_flow": null,
            "width": null,
            "min_width": null,
            "border": null,
            "align_items": null,
            "bottom": null,
            "_model_module": "@jupyter-widgets/base",
            "top": null,
            "grid_column": null,
            "overflow_y": null,
            "overflow_x": null,
            "grid_auto_flow": null,
            "grid_area": null,
            "grid_template_columns": null,
            "flex": null,
            "_model_name": "LayoutModel",
            "justify_items": null,
            "grid_row": null,
            "max_height": null,
            "align_content": null,
            "visibility": null,
            "align_self": null,
            "height": null,
            "min_height": null,
            "padding": null,
            "grid_auto_rows": null,
            "grid_gap": null,
            "max_width": null,
            "order": null,
            "_view_module_version": "1.2.0",
            "grid_template_areas": null,
            "object_position": null,
            "object_fit": null,
            "grid_auto_columns": null,
            "margin": null,
            "display": null,
            "left": null
          }
        },
        "fae608eee31c44a88d539006f6de35d1": {
          "model_module": "@jupyter-widgets/controls",
          "model_name": "FloatProgressModel",
          "state": {
            "_view_name": "ProgressView",
            "style": "IPY_MODEL_7597a3ed6422442bb5b248a9aac31fa2",
            "_dom_classes": [],
            "description": "Dl Size...: 100%",
            "_model_name": "FloatProgressModel",
            "bar_style": "success",
            "max": 1,
            "_view_module": "@jupyter-widgets/controls",
            "_model_module_version": "1.5.0",
            "value": 1,
            "_view_count": null,
            "_view_module_version": "1.5.0",
            "orientation": "horizontal",
            "min": 0,
            "description_tooltip": null,
            "_model_module": "@jupyter-widgets/controls",
            "layout": "IPY_MODEL_d53e017bc41d45febeb61cede3330678"
          }
        },
        "51c8e92b0f594f46acb5cfcfeb3a2477": {
          "model_module": "@jupyter-widgets/controls",
          "model_name": "HTMLModel",
          "state": {
            "_view_name": "HTMLView",
            "style": "IPY_MODEL_e21ee5ddd27441c683b78a640819f57b",
            "_dom_classes": [],
            "description": "",
            "_model_name": "HTMLModel",
            "placeholder": "​",
            "_view_module": "@jupyter-widgets/controls",
            "_model_module_version": "1.5.0",
            "value": " 80/80 [00:01&lt;00:00, 45.63 MiB/s]",
            "_view_count": null,
            "_view_module_version": "1.5.0",
            "description_tooltip": null,
            "_model_module": "@jupyter-widgets/controls",
            "layout": "IPY_MODEL_3dc7ca09a0fc4add99e9b6c1ce84793b"
          }
        },
        "7597a3ed6422442bb5b248a9aac31fa2": {
          "model_module": "@jupyter-widgets/controls",
          "model_name": "ProgressStyleModel",
          "state": {
            "_view_name": "StyleView",
            "_model_name": "ProgressStyleModel",
            "description_width": "initial",
            "_view_module": "@jupyter-widgets/base",
            "_model_module_version": "1.5.0",
            "_view_count": null,
            "_view_module_version": "1.2.0",
            "bar_color": null,
            "_model_module": "@jupyter-widgets/controls"
          }
        },
        "d53e017bc41d45febeb61cede3330678": {
          "model_module": "@jupyter-widgets/base",
          "model_name": "LayoutModel",
          "state": {
            "_view_name": "LayoutView",
            "grid_template_rows": null,
            "right": null,
            "justify_content": null,
            "_view_module": "@jupyter-widgets/base",
            "overflow": null,
            "_model_module_version": "1.2.0",
            "_view_count": null,
            "flex_flow": null,
            "width": null,
            "min_width": null,
            "border": null,
            "align_items": null,
            "bottom": null,
            "_model_module": "@jupyter-widgets/base",
            "top": null,
            "grid_column": null,
            "overflow_y": null,
            "overflow_x": null,
            "grid_auto_flow": null,
            "grid_area": null,
            "grid_template_columns": null,
            "flex": null,
            "_model_name": "LayoutModel",
            "justify_items": null,
            "grid_row": null,
            "max_height": null,
            "align_content": null,
            "visibility": null,
            "align_self": null,
            "height": null,
            "min_height": null,
            "padding": null,
            "grid_auto_rows": null,
            "grid_gap": null,
            "max_width": null,
            "order": null,
            "_view_module_version": "1.2.0",
            "grid_template_areas": null,
            "object_position": null,
            "object_fit": null,
            "grid_auto_columns": null,
            "margin": null,
            "display": null,
            "left": null
          }
        },
        "e21ee5ddd27441c683b78a640819f57b": {
          "model_module": "@jupyter-widgets/controls",
          "model_name": "DescriptionStyleModel",
          "state": {
            "_view_name": "StyleView",
            "_model_name": "DescriptionStyleModel",
            "description_width": "",
            "_view_module": "@jupyter-widgets/base",
            "_model_module_version": "1.5.0",
            "_view_count": null,
            "_view_module_version": "1.2.0",
            "_model_module": "@jupyter-widgets/controls"
          }
        },
        "3dc7ca09a0fc4add99e9b6c1ce84793b": {
          "model_module": "@jupyter-widgets/base",
          "model_name": "LayoutModel",
          "state": {
            "_view_name": "LayoutView",
            "grid_template_rows": null,
            "right": null,
            "justify_content": null,
            "_view_module": "@jupyter-widgets/base",
            "overflow": null,
            "_model_module_version": "1.2.0",
            "_view_count": null,
            "flex_flow": null,
            "width": null,
            "min_width": null,
            "border": null,
            "align_items": null,
            "bottom": null,
            "_model_module": "@jupyter-widgets/base",
            "top": null,
            "grid_column": null,
            "overflow_y": null,
            "overflow_x": null,
            "grid_auto_flow": null,
            "grid_area": null,
            "grid_template_columns": null,
            "flex": null,
            "_model_name": "LayoutModel",
            "justify_items": null,
            "grid_row": null,
            "max_height": null,
            "align_content": null,
            "visibility": null,
            "align_self": null,
            "height": null,
            "min_height": null,
            "padding": null,
            "grid_auto_rows": null,
            "grid_gap": null,
            "max_width": null,
            "order": null,
            "_view_module_version": "1.2.0",
            "grid_template_areas": null,
            "object_position": null,
            "object_fit": null,
            "grid_auto_columns": null,
            "margin": null,
            "display": null,
            "left": null
          }
        },
        "1841d8fbb8364a50bad0beb128f74a90": {
          "model_module": "@jupyter-widgets/controls",
          "model_name": "HBoxModel",
          "state": {
            "_view_name": "HBoxView",
            "_dom_classes": [],
            "_model_name": "HBoxModel",
            "_view_module": "@jupyter-widgets/controls",
            "_model_module_version": "1.5.0",
            "_view_count": null,
            "_view_module_version": "1.5.0",
            "box_style": "",
            "layout": "IPY_MODEL_0f412ccec9e04613b449a041de0bc589",
            "_model_module": "@jupyter-widgets/controls",
            "children": [
              "IPY_MODEL_e9c0cf5fda154984be3e071fa8f17f83",
              "IPY_MODEL_d49859ce14b544299f8f807457fa30a7"
            ]
          }
        },
        "0f412ccec9e04613b449a041de0bc589": {
          "model_module": "@jupyter-widgets/base",
          "model_name": "LayoutModel",
          "state": {
            "_view_name": "LayoutView",
            "grid_template_rows": null,
            "right": null,
            "justify_content": null,
            "_view_module": "@jupyter-widgets/base",
            "overflow": null,
            "_model_module_version": "1.2.0",
            "_view_count": null,
            "flex_flow": null,
            "width": null,
            "min_width": null,
            "border": null,
            "align_items": null,
            "bottom": null,
            "_model_module": "@jupyter-widgets/base",
            "top": null,
            "grid_column": null,
            "overflow_y": null,
            "overflow_x": null,
            "grid_auto_flow": null,
            "grid_area": null,
            "grid_template_columns": null,
            "flex": null,
            "_model_name": "LayoutModel",
            "justify_items": null,
            "grid_row": null,
            "max_height": null,
            "align_content": null,
            "visibility": null,
            "align_self": null,
            "height": null,
            "min_height": null,
            "padding": null,
            "grid_auto_rows": null,
            "grid_gap": null,
            "max_width": null,
            "order": null,
            "_view_module_version": "1.2.0",
            "grid_template_areas": null,
            "object_position": null,
            "object_fit": null,
            "grid_auto_columns": null,
            "margin": null,
            "display": null,
            "left": null
          }
        },
        "e9c0cf5fda154984be3e071fa8f17f83": {
          "model_module": "@jupyter-widgets/controls",
          "model_name": "FloatProgressModel",
          "state": {
            "_view_name": "ProgressView",
            "style": "IPY_MODEL_f002036ff9084fb89caa4f83066f10b7",
            "_dom_classes": [],
            "description": "",
            "_model_name": "FloatProgressModel",
            "bar_style": "info",
            "max": 1,
            "_view_module": "@jupyter-widgets/controls",
            "_model_module_version": "1.5.0",
            "value": 1,
            "_view_count": null,
            "_view_module_version": "1.5.0",
            "orientation": "horizontal",
            "min": 0,
            "description_tooltip": null,
            "_model_module": "@jupyter-widgets/controls",
            "layout": "IPY_MODEL_ceaf8e0effad4b2ab81867c89b148500"
          }
        },
        "d49859ce14b544299f8f807457fa30a7": {
          "model_module": "@jupyter-widgets/controls",
          "model_name": "HTMLModel",
          "state": {
            "_view_name": "HTMLView",
            "style": "IPY_MODEL_8f9430eb94d54d57a7c5b90a246334bf",
            "_dom_classes": [],
            "description": "",
            "_model_name": "HTMLModel",
            "placeholder": "​",
            "_view_module": "@jupyter-widgets/controls",
            "_model_module_version": "1.5.0",
            "value": " 25000/0 [00:11&lt;00:00, 4019.32 examples/s]",
            "_view_count": null,
            "_view_module_version": "1.5.0",
            "description_tooltip": null,
            "_model_module": "@jupyter-widgets/controls",
            "layout": "IPY_MODEL_78fb6b88a219467caf94d47df6424fd7"
          }
        },
        "f002036ff9084fb89caa4f83066f10b7": {
          "model_module": "@jupyter-widgets/controls",
          "model_name": "ProgressStyleModel",
          "state": {
            "_view_name": "StyleView",
            "_model_name": "ProgressStyleModel",
            "description_width": "initial",
            "_view_module": "@jupyter-widgets/base",
            "_model_module_version": "1.5.0",
            "_view_count": null,
            "_view_module_version": "1.2.0",
            "bar_color": null,
            "_model_module": "@jupyter-widgets/controls"
          }
        },
        "ceaf8e0effad4b2ab81867c89b148500": {
          "model_module": "@jupyter-widgets/base",
          "model_name": "LayoutModel",
          "state": {
            "_view_name": "LayoutView",
            "grid_template_rows": null,
            "right": null,
            "justify_content": null,
            "_view_module": "@jupyter-widgets/base",
            "overflow": null,
            "_model_module_version": "1.2.0",
            "_view_count": null,
            "flex_flow": null,
            "width": null,
            "min_width": null,
            "border": null,
            "align_items": null,
            "bottom": null,
            "_model_module": "@jupyter-widgets/base",
            "top": null,
            "grid_column": null,
            "overflow_y": null,
            "overflow_x": null,
            "grid_auto_flow": null,
            "grid_area": null,
            "grid_template_columns": null,
            "flex": null,
            "_model_name": "LayoutModel",
            "justify_items": null,
            "grid_row": null,
            "max_height": null,
            "align_content": null,
            "visibility": null,
            "align_self": null,
            "height": null,
            "min_height": null,
            "padding": null,
            "grid_auto_rows": null,
            "grid_gap": null,
            "max_width": null,
            "order": null,
            "_view_module_version": "1.2.0",
            "grid_template_areas": null,
            "object_position": null,
            "object_fit": null,
            "grid_auto_columns": null,
            "margin": null,
            "display": null,
            "left": null
          }
        },
        "8f9430eb94d54d57a7c5b90a246334bf": {
          "model_module": "@jupyter-widgets/controls",
          "model_name": "DescriptionStyleModel",
          "state": {
            "_view_name": "StyleView",
            "_model_name": "DescriptionStyleModel",
            "description_width": "",
            "_view_module": "@jupyter-widgets/base",
            "_model_module_version": "1.5.0",
            "_view_count": null,
            "_view_module_version": "1.2.0",
            "_model_module": "@jupyter-widgets/controls"
          }
        },
        "78fb6b88a219467caf94d47df6424fd7": {
          "model_module": "@jupyter-widgets/base",
          "model_name": "LayoutModel",
          "state": {
            "_view_name": "LayoutView",
            "grid_template_rows": null,
            "right": null,
            "justify_content": null,
            "_view_module": "@jupyter-widgets/base",
            "overflow": null,
            "_model_module_version": "1.2.0",
            "_view_count": null,
            "flex_flow": null,
            "width": null,
            "min_width": null,
            "border": null,
            "align_items": null,
            "bottom": null,
            "_model_module": "@jupyter-widgets/base",
            "top": null,
            "grid_column": null,
            "overflow_y": null,
            "overflow_x": null,
            "grid_auto_flow": null,
            "grid_area": null,
            "grid_template_columns": null,
            "flex": null,
            "_model_name": "LayoutModel",
            "justify_items": null,
            "grid_row": null,
            "max_height": null,
            "align_content": null,
            "visibility": null,
            "align_self": null,
            "height": null,
            "min_height": null,
            "padding": null,
            "grid_auto_rows": null,
            "grid_gap": null,
            "max_width": null,
            "order": null,
            "_view_module_version": "1.2.0",
            "grid_template_areas": null,
            "object_position": null,
            "object_fit": null,
            "grid_auto_columns": null,
            "margin": null,
            "display": null,
            "left": null
          }
        },
        "815f6bd5a7324ab28522049556fd4e64": {
          "model_module": "@jupyter-widgets/controls",
          "model_name": "HBoxModel",
          "state": {
            "_view_name": "HBoxView",
            "_dom_classes": [],
            "_model_name": "HBoxModel",
            "_view_module": "@jupyter-widgets/controls",
            "_model_module_version": "1.5.0",
            "_view_count": null,
            "_view_module_version": "1.5.0",
            "box_style": "",
            "layout": "IPY_MODEL_2c7aa87895e54ae5a1faee1ef51ee10a",
            "_model_module": "@jupyter-widgets/controls",
            "children": [
              "IPY_MODEL_ce74e2361e9849ee840b62fa2a22e376",
              "IPY_MODEL_8da21a0d9bd54ffba502f8680201ecb4"
            ]
          }
        },
        "2c7aa87895e54ae5a1faee1ef51ee10a": {
          "model_module": "@jupyter-widgets/base",
          "model_name": "LayoutModel",
          "state": {
            "_view_name": "LayoutView",
            "grid_template_rows": null,
            "right": null,
            "justify_content": null,
            "_view_module": "@jupyter-widgets/base",
            "overflow": null,
            "_model_module_version": "1.2.0",
            "_view_count": null,
            "flex_flow": null,
            "width": null,
            "min_width": null,
            "border": null,
            "align_items": null,
            "bottom": null,
            "_model_module": "@jupyter-widgets/base",
            "top": null,
            "grid_column": null,
            "overflow_y": null,
            "overflow_x": null,
            "grid_auto_flow": null,
            "grid_area": null,
            "grid_template_columns": null,
            "flex": null,
            "_model_name": "LayoutModel",
            "justify_items": null,
            "grid_row": null,
            "max_height": null,
            "align_content": null,
            "visibility": null,
            "align_self": null,
            "height": null,
            "min_height": null,
            "padding": null,
            "grid_auto_rows": null,
            "grid_gap": null,
            "max_width": null,
            "order": null,
            "_view_module_version": "1.2.0",
            "grid_template_areas": null,
            "object_position": null,
            "object_fit": null,
            "grid_auto_columns": null,
            "margin": null,
            "display": null,
            "left": null
          }
        },
        "ce74e2361e9849ee840b62fa2a22e376": {
          "model_module": "@jupyter-widgets/controls",
          "model_name": "FloatProgressModel",
          "state": {
            "_view_name": "ProgressView",
            "style": "IPY_MODEL_1d2f298970e84d069d12fec2ce250b5c",
            "_dom_classes": [],
            "description": " 60%",
            "_model_name": "FloatProgressModel",
            "bar_style": "danger",
            "max": 25000,
            "_view_module": "@jupyter-widgets/controls",
            "_model_module_version": "1.5.0",
            "value": 14899,
            "_view_count": null,
            "_view_module_version": "1.5.0",
            "orientation": "horizontal",
            "min": 0,
            "description_tooltip": null,
            "_model_module": "@jupyter-widgets/controls",
            "layout": "IPY_MODEL_b4b78389262f45a9a3caef05d92cfa62"
          }
        },
        "8da21a0d9bd54ffba502f8680201ecb4": {
          "model_module": "@jupyter-widgets/controls",
          "model_name": "HTMLModel",
          "state": {
            "_view_name": "HTMLView",
            "style": "IPY_MODEL_c06985c16e484d15b3fbb17ba27d1de9",
            "_dom_classes": [],
            "description": "",
            "_model_name": "HTMLModel",
            "placeholder": "​",
            "_view_module": "@jupyter-widgets/controls",
            "_model_module_version": "1.5.0",
            "value": " 14899/25000 [00:00&lt;00:00, 148978.07 examples/s]",
            "_view_count": null,
            "_view_module_version": "1.5.0",
            "description_tooltip": null,
            "_model_module": "@jupyter-widgets/controls",
            "layout": "IPY_MODEL_b7df699a2851458591112b0b0ea03567"
          }
        },
        "1d2f298970e84d069d12fec2ce250b5c": {
          "model_module": "@jupyter-widgets/controls",
          "model_name": "ProgressStyleModel",
          "state": {
            "_view_name": "StyleView",
            "_model_name": "ProgressStyleModel",
            "description_width": "initial",
            "_view_module": "@jupyter-widgets/base",
            "_model_module_version": "1.5.0",
            "_view_count": null,
            "_view_module_version": "1.2.0",
            "bar_color": null,
            "_model_module": "@jupyter-widgets/controls"
          }
        },
        "b4b78389262f45a9a3caef05d92cfa62": {
          "model_module": "@jupyter-widgets/base",
          "model_name": "LayoutModel",
          "state": {
            "_view_name": "LayoutView",
            "grid_template_rows": null,
            "right": null,
            "justify_content": null,
            "_view_module": "@jupyter-widgets/base",
            "overflow": null,
            "_model_module_version": "1.2.0",
            "_view_count": null,
            "flex_flow": null,
            "width": null,
            "min_width": null,
            "border": null,
            "align_items": null,
            "bottom": null,
            "_model_module": "@jupyter-widgets/base",
            "top": null,
            "grid_column": null,
            "overflow_y": null,
            "overflow_x": null,
            "grid_auto_flow": null,
            "grid_area": null,
            "grid_template_columns": null,
            "flex": null,
            "_model_name": "LayoutModel",
            "justify_items": null,
            "grid_row": null,
            "max_height": null,
            "align_content": null,
            "visibility": null,
            "align_self": null,
            "height": null,
            "min_height": null,
            "padding": null,
            "grid_auto_rows": null,
            "grid_gap": null,
            "max_width": null,
            "order": null,
            "_view_module_version": "1.2.0",
            "grid_template_areas": null,
            "object_position": null,
            "object_fit": null,
            "grid_auto_columns": null,
            "margin": null,
            "display": null,
            "left": null
          }
        },
        "c06985c16e484d15b3fbb17ba27d1de9": {
          "model_module": "@jupyter-widgets/controls",
          "model_name": "DescriptionStyleModel",
          "state": {
            "_view_name": "StyleView",
            "_model_name": "DescriptionStyleModel",
            "description_width": "",
            "_view_module": "@jupyter-widgets/base",
            "_model_module_version": "1.5.0",
            "_view_count": null,
            "_view_module_version": "1.2.0",
            "_model_module": "@jupyter-widgets/controls"
          }
        },
        "b7df699a2851458591112b0b0ea03567": {
          "model_module": "@jupyter-widgets/base",
          "model_name": "LayoutModel",
          "state": {
            "_view_name": "LayoutView",
            "grid_template_rows": null,
            "right": null,
            "justify_content": null,
            "_view_module": "@jupyter-widgets/base",
            "overflow": null,
            "_model_module_version": "1.2.0",
            "_view_count": null,
            "flex_flow": null,
            "width": null,
            "min_width": null,
            "border": null,
            "align_items": null,
            "bottom": null,
            "_model_module": "@jupyter-widgets/base",
            "top": null,
            "grid_column": null,
            "overflow_y": null,
            "overflow_x": null,
            "grid_auto_flow": null,
            "grid_area": null,
            "grid_template_columns": null,
            "flex": null,
            "_model_name": "LayoutModel",
            "justify_items": null,
            "grid_row": null,
            "max_height": null,
            "align_content": null,
            "visibility": null,
            "align_self": null,
            "height": null,
            "min_height": null,
            "padding": null,
            "grid_auto_rows": null,
            "grid_gap": null,
            "max_width": null,
            "order": null,
            "_view_module_version": "1.2.0",
            "grid_template_areas": null,
            "object_position": null,
            "object_fit": null,
            "grid_auto_columns": null,
            "margin": null,
            "display": null,
            "left": null
          }
        },
        "f2e64f317c3b4429b53fbeb18f6c1235": {
          "model_module": "@jupyter-widgets/controls",
          "model_name": "HBoxModel",
          "state": {
            "_view_name": "HBoxView",
            "_dom_classes": [],
            "_model_name": "HBoxModel",
            "_view_module": "@jupyter-widgets/controls",
            "_model_module_version": "1.5.0",
            "_view_count": null,
            "_view_module_version": "1.5.0",
            "box_style": "",
            "layout": "IPY_MODEL_141787412e974e87a21f62cd089ad84e",
            "_model_module": "@jupyter-widgets/controls",
            "children": [
              "IPY_MODEL_0724b17c594c40a5b0ac83591f5427db",
              "IPY_MODEL_0a004b482bda4cdabf5ed187a0b228f0"
            ]
          }
        },
        "141787412e974e87a21f62cd089ad84e": {
          "model_module": "@jupyter-widgets/base",
          "model_name": "LayoutModel",
          "state": {
            "_view_name": "LayoutView",
            "grid_template_rows": null,
            "right": null,
            "justify_content": null,
            "_view_module": "@jupyter-widgets/base",
            "overflow": null,
            "_model_module_version": "1.2.0",
            "_view_count": null,
            "flex_flow": null,
            "width": null,
            "min_width": null,
            "border": null,
            "align_items": null,
            "bottom": null,
            "_model_module": "@jupyter-widgets/base",
            "top": null,
            "grid_column": null,
            "overflow_y": null,
            "overflow_x": null,
            "grid_auto_flow": null,
            "grid_area": null,
            "grid_template_columns": null,
            "flex": null,
            "_model_name": "LayoutModel",
            "justify_items": null,
            "grid_row": null,
            "max_height": null,
            "align_content": null,
            "visibility": null,
            "align_self": null,
            "height": null,
            "min_height": null,
            "padding": null,
            "grid_auto_rows": null,
            "grid_gap": null,
            "max_width": null,
            "order": null,
            "_view_module_version": "1.2.0",
            "grid_template_areas": null,
            "object_position": null,
            "object_fit": null,
            "grid_auto_columns": null,
            "margin": null,
            "display": null,
            "left": null
          }
        },
        "0724b17c594c40a5b0ac83591f5427db": {
          "model_module": "@jupyter-widgets/controls",
          "model_name": "FloatProgressModel",
          "state": {
            "_view_name": "ProgressView",
            "style": "IPY_MODEL_6eb258da1adc417f8c14a2c87b7d793d",
            "_dom_classes": [],
            "description": "",
            "_model_name": "FloatProgressModel",
            "bar_style": "info",
            "max": 1,
            "_view_module": "@jupyter-widgets/controls",
            "_model_module_version": "1.5.0",
            "value": 1,
            "_view_count": null,
            "_view_module_version": "1.5.0",
            "orientation": "horizontal",
            "min": 0,
            "description_tooltip": null,
            "_model_module": "@jupyter-widgets/controls",
            "layout": "IPY_MODEL_bdf6604f81c745d8b8e499f8325b8bed"
          }
        },
        "0a004b482bda4cdabf5ed187a0b228f0": {
          "model_module": "@jupyter-widgets/controls",
          "model_name": "HTMLModel",
          "state": {
            "_view_name": "HTMLView",
            "style": "IPY_MODEL_80603c181b624a88ac3cb545328d0e8a",
            "_dom_classes": [],
            "description": "",
            "_model_name": "HTMLModel",
            "placeholder": "​",
            "_view_module": "@jupyter-widgets/controls",
            "_model_module_version": "1.5.0",
            "value": " 25000/0 [00:11&lt;00:00, 4078.34 examples/s]",
            "_view_count": null,
            "_view_module_version": "1.5.0",
            "description_tooltip": null,
            "_model_module": "@jupyter-widgets/controls",
            "layout": "IPY_MODEL_1ca32014b89c4571b642737b993c67e3"
          }
        },
        "6eb258da1adc417f8c14a2c87b7d793d": {
          "model_module": "@jupyter-widgets/controls",
          "model_name": "ProgressStyleModel",
          "state": {
            "_view_name": "StyleView",
            "_model_name": "ProgressStyleModel",
            "description_width": "initial",
            "_view_module": "@jupyter-widgets/base",
            "_model_module_version": "1.5.0",
            "_view_count": null,
            "_view_module_version": "1.2.0",
            "bar_color": null,
            "_model_module": "@jupyter-widgets/controls"
          }
        },
        "bdf6604f81c745d8b8e499f8325b8bed": {
          "model_module": "@jupyter-widgets/base",
          "model_name": "LayoutModel",
          "state": {
            "_view_name": "LayoutView",
            "grid_template_rows": null,
            "right": null,
            "justify_content": null,
            "_view_module": "@jupyter-widgets/base",
            "overflow": null,
            "_model_module_version": "1.2.0",
            "_view_count": null,
            "flex_flow": null,
            "width": null,
            "min_width": null,
            "border": null,
            "align_items": null,
            "bottom": null,
            "_model_module": "@jupyter-widgets/base",
            "top": null,
            "grid_column": null,
            "overflow_y": null,
            "overflow_x": null,
            "grid_auto_flow": null,
            "grid_area": null,
            "grid_template_columns": null,
            "flex": null,
            "_model_name": "LayoutModel",
            "justify_items": null,
            "grid_row": null,
            "max_height": null,
            "align_content": null,
            "visibility": null,
            "align_self": null,
            "height": null,
            "min_height": null,
            "padding": null,
            "grid_auto_rows": null,
            "grid_gap": null,
            "max_width": null,
            "order": null,
            "_view_module_version": "1.2.0",
            "grid_template_areas": null,
            "object_position": null,
            "object_fit": null,
            "grid_auto_columns": null,
            "margin": null,
            "display": null,
            "left": null
          }
        },
        "80603c181b624a88ac3cb545328d0e8a": {
          "model_module": "@jupyter-widgets/controls",
          "model_name": "DescriptionStyleModel",
          "state": {
            "_view_name": "StyleView",
            "_model_name": "DescriptionStyleModel",
            "description_width": "",
            "_view_module": "@jupyter-widgets/base",
            "_model_module_version": "1.5.0",
            "_view_count": null,
            "_view_module_version": "1.2.0",
            "_model_module": "@jupyter-widgets/controls"
          }
        },
        "1ca32014b89c4571b642737b993c67e3": {
          "model_module": "@jupyter-widgets/base",
          "model_name": "LayoutModel",
          "state": {
            "_view_name": "LayoutView",
            "grid_template_rows": null,
            "right": null,
            "justify_content": null,
            "_view_module": "@jupyter-widgets/base",
            "overflow": null,
            "_model_module_version": "1.2.0",
            "_view_count": null,
            "flex_flow": null,
            "width": null,
            "min_width": null,
            "border": null,
            "align_items": null,
            "bottom": null,
            "_model_module": "@jupyter-widgets/base",
            "top": null,
            "grid_column": null,
            "overflow_y": null,
            "overflow_x": null,
            "grid_auto_flow": null,
            "grid_area": null,
            "grid_template_columns": null,
            "flex": null,
            "_model_name": "LayoutModel",
            "justify_items": null,
            "grid_row": null,
            "max_height": null,
            "align_content": null,
            "visibility": null,
            "align_self": null,
            "height": null,
            "min_height": null,
            "padding": null,
            "grid_auto_rows": null,
            "grid_gap": null,
            "max_width": null,
            "order": null,
            "_view_module_version": "1.2.0",
            "grid_template_areas": null,
            "object_position": null,
            "object_fit": null,
            "grid_auto_columns": null,
            "margin": null,
            "display": null,
            "left": null
          }
        },
        "75e2c1180390497e97aa02488630c39d": {
          "model_module": "@jupyter-widgets/controls",
          "model_name": "HBoxModel",
          "state": {
            "_view_name": "HBoxView",
            "_dom_classes": [],
            "_model_name": "HBoxModel",
            "_view_module": "@jupyter-widgets/controls",
            "_model_module_version": "1.5.0",
            "_view_count": null,
            "_view_module_version": "1.5.0",
            "box_style": "",
            "layout": "IPY_MODEL_3e856c6132c842f4b91be4b7c5675d2a",
            "_model_module": "@jupyter-widgets/controls",
            "children": [
              "IPY_MODEL_30a5d5fca0cd4d7dabd9c4f69e56b72a",
              "IPY_MODEL_f1e0d3b886644eed8d624069c40a4bb9"
            ]
          }
        },
        "3e856c6132c842f4b91be4b7c5675d2a": {
          "model_module": "@jupyter-widgets/base",
          "model_name": "LayoutModel",
          "state": {
            "_view_name": "LayoutView",
            "grid_template_rows": null,
            "right": null,
            "justify_content": null,
            "_view_module": "@jupyter-widgets/base",
            "overflow": null,
            "_model_module_version": "1.2.0",
            "_view_count": null,
            "flex_flow": null,
            "width": null,
            "min_width": null,
            "border": null,
            "align_items": null,
            "bottom": null,
            "_model_module": "@jupyter-widgets/base",
            "top": null,
            "grid_column": null,
            "overflow_y": null,
            "overflow_x": null,
            "grid_auto_flow": null,
            "grid_area": null,
            "grid_template_columns": null,
            "flex": null,
            "_model_name": "LayoutModel",
            "justify_items": null,
            "grid_row": null,
            "max_height": null,
            "align_content": null,
            "visibility": null,
            "align_self": null,
            "height": null,
            "min_height": null,
            "padding": null,
            "grid_auto_rows": null,
            "grid_gap": null,
            "max_width": null,
            "order": null,
            "_view_module_version": "1.2.0",
            "grid_template_areas": null,
            "object_position": null,
            "object_fit": null,
            "grid_auto_columns": null,
            "margin": null,
            "display": null,
            "left": null
          }
        },
        "30a5d5fca0cd4d7dabd9c4f69e56b72a": {
          "model_module": "@jupyter-widgets/controls",
          "model_name": "FloatProgressModel",
          "state": {
            "_view_name": "ProgressView",
            "style": "IPY_MODEL_58b6f1a4bd7f4994ad8e2d3df7e5b7ba",
            "_dom_classes": [],
            "description": " 59%",
            "_model_name": "FloatProgressModel",
            "bar_style": "danger",
            "max": 25000,
            "_view_module": "@jupyter-widgets/controls",
            "_model_module_version": "1.5.0",
            "value": 14751,
            "_view_count": null,
            "_view_module_version": "1.5.0",
            "orientation": "horizontal",
            "min": 0,
            "description_tooltip": null,
            "_model_module": "@jupyter-widgets/controls",
            "layout": "IPY_MODEL_f12e831ce63d43aab516897d103b1f91"
          }
        },
        "f1e0d3b886644eed8d624069c40a4bb9": {
          "model_module": "@jupyter-widgets/controls",
          "model_name": "HTMLModel",
          "state": {
            "_view_name": "HTMLView",
            "style": "IPY_MODEL_0b23924d880b4eedb5c1c94cc19228d1",
            "_dom_classes": [],
            "description": "",
            "_model_name": "HTMLModel",
            "placeholder": "​",
            "_view_module": "@jupyter-widgets/controls",
            "_model_module_version": "1.5.0",
            "value": " 14751/25000 [00:00&lt;00:00, 147505.57 examples/s]",
            "_view_count": null,
            "_view_module_version": "1.5.0",
            "description_tooltip": null,
            "_model_module": "@jupyter-widgets/controls",
            "layout": "IPY_MODEL_0a5a3e4172bd42609348a78fa3ed5a81"
          }
        },
        "58b6f1a4bd7f4994ad8e2d3df7e5b7ba": {
          "model_module": "@jupyter-widgets/controls",
          "model_name": "ProgressStyleModel",
          "state": {
            "_view_name": "StyleView",
            "_model_name": "ProgressStyleModel",
            "description_width": "initial",
            "_view_module": "@jupyter-widgets/base",
            "_model_module_version": "1.5.0",
            "_view_count": null,
            "_view_module_version": "1.2.0",
            "bar_color": null,
            "_model_module": "@jupyter-widgets/controls"
          }
        },
        "f12e831ce63d43aab516897d103b1f91": {
          "model_module": "@jupyter-widgets/base",
          "model_name": "LayoutModel",
          "state": {
            "_view_name": "LayoutView",
            "grid_template_rows": null,
            "right": null,
            "justify_content": null,
            "_view_module": "@jupyter-widgets/base",
            "overflow": null,
            "_model_module_version": "1.2.0",
            "_view_count": null,
            "flex_flow": null,
            "width": null,
            "min_width": null,
            "border": null,
            "align_items": null,
            "bottom": null,
            "_model_module": "@jupyter-widgets/base",
            "top": null,
            "grid_column": null,
            "overflow_y": null,
            "overflow_x": null,
            "grid_auto_flow": null,
            "grid_area": null,
            "grid_template_columns": null,
            "flex": null,
            "_model_name": "LayoutModel",
            "justify_items": null,
            "grid_row": null,
            "max_height": null,
            "align_content": null,
            "visibility": null,
            "align_self": null,
            "height": null,
            "min_height": null,
            "padding": null,
            "grid_auto_rows": null,
            "grid_gap": null,
            "max_width": null,
            "order": null,
            "_view_module_version": "1.2.0",
            "grid_template_areas": null,
            "object_position": null,
            "object_fit": null,
            "grid_auto_columns": null,
            "margin": null,
            "display": null,
            "left": null
          }
        },
        "0b23924d880b4eedb5c1c94cc19228d1": {
          "model_module": "@jupyter-widgets/controls",
          "model_name": "DescriptionStyleModel",
          "state": {
            "_view_name": "StyleView",
            "_model_name": "DescriptionStyleModel",
            "description_width": "",
            "_view_module": "@jupyter-widgets/base",
            "_model_module_version": "1.5.0",
            "_view_count": null,
            "_view_module_version": "1.2.0",
            "_model_module": "@jupyter-widgets/controls"
          }
        },
        "0a5a3e4172bd42609348a78fa3ed5a81": {
          "model_module": "@jupyter-widgets/base",
          "model_name": "LayoutModel",
          "state": {
            "_view_name": "LayoutView",
            "grid_template_rows": null,
            "right": null,
            "justify_content": null,
            "_view_module": "@jupyter-widgets/base",
            "overflow": null,
            "_model_module_version": "1.2.0",
            "_view_count": null,
            "flex_flow": null,
            "width": null,
            "min_width": null,
            "border": null,
            "align_items": null,
            "bottom": null,
            "_model_module": "@jupyter-widgets/base",
            "top": null,
            "grid_column": null,
            "overflow_y": null,
            "overflow_x": null,
            "grid_auto_flow": null,
            "grid_area": null,
            "grid_template_columns": null,
            "flex": null,
            "_model_name": "LayoutModel",
            "justify_items": null,
            "grid_row": null,
            "max_height": null,
            "align_content": null,
            "visibility": null,
            "align_self": null,
            "height": null,
            "min_height": null,
            "padding": null,
            "grid_auto_rows": null,
            "grid_gap": null,
            "max_width": null,
            "order": null,
            "_view_module_version": "1.2.0",
            "grid_template_areas": null,
            "object_position": null,
            "object_fit": null,
            "grid_auto_columns": null,
            "margin": null,
            "display": null,
            "left": null
          }
        },
        "bc6788d287ab4a5983a3b0c5dbed4861": {
          "model_module": "@jupyter-widgets/controls",
          "model_name": "HBoxModel",
          "state": {
            "_view_name": "HBoxView",
            "_dom_classes": [],
            "_model_name": "HBoxModel",
            "_view_module": "@jupyter-widgets/controls",
            "_model_module_version": "1.5.0",
            "_view_count": null,
            "_view_module_version": "1.5.0",
            "box_style": "",
            "layout": "IPY_MODEL_0a428d79315041898851dcc717a3eeed",
            "_model_module": "@jupyter-widgets/controls",
            "children": [
              "IPY_MODEL_7cb0825c298c49a28a7cab8ec978d2cb",
              "IPY_MODEL_f9de35b8a304441386f10ad325a89cda"
            ]
          }
        },
        "0a428d79315041898851dcc717a3eeed": {
          "model_module": "@jupyter-widgets/base",
          "model_name": "LayoutModel",
          "state": {
            "_view_name": "LayoutView",
            "grid_template_rows": null,
            "right": null,
            "justify_content": null,
            "_view_module": "@jupyter-widgets/base",
            "overflow": null,
            "_model_module_version": "1.2.0",
            "_view_count": null,
            "flex_flow": null,
            "width": null,
            "min_width": null,
            "border": null,
            "align_items": null,
            "bottom": null,
            "_model_module": "@jupyter-widgets/base",
            "top": null,
            "grid_column": null,
            "overflow_y": null,
            "overflow_x": null,
            "grid_auto_flow": null,
            "grid_area": null,
            "grid_template_columns": null,
            "flex": null,
            "_model_name": "LayoutModel",
            "justify_items": null,
            "grid_row": null,
            "max_height": null,
            "align_content": null,
            "visibility": null,
            "align_self": null,
            "height": null,
            "min_height": null,
            "padding": null,
            "grid_auto_rows": null,
            "grid_gap": null,
            "max_width": null,
            "order": null,
            "_view_module_version": "1.2.0",
            "grid_template_areas": null,
            "object_position": null,
            "object_fit": null,
            "grid_auto_columns": null,
            "margin": null,
            "display": null,
            "left": null
          }
        },
        "7cb0825c298c49a28a7cab8ec978d2cb": {
          "model_module": "@jupyter-widgets/controls",
          "model_name": "FloatProgressModel",
          "state": {
            "_view_name": "ProgressView",
            "style": "IPY_MODEL_677292743b6b43fc8d7df5f7eea23299",
            "_dom_classes": [],
            "description": "",
            "_model_name": "FloatProgressModel",
            "bar_style": "info",
            "max": 1,
            "_view_module": "@jupyter-widgets/controls",
            "_model_module_version": "1.5.0",
            "value": 1,
            "_view_count": null,
            "_view_module_version": "1.5.0",
            "orientation": "horizontal",
            "min": 0,
            "description_tooltip": null,
            "_model_module": "@jupyter-widgets/controls",
            "layout": "IPY_MODEL_dadfc0870f5642038d03323caf5b10e3"
          }
        },
        "f9de35b8a304441386f10ad325a89cda": {
          "model_module": "@jupyter-widgets/controls",
          "model_name": "HTMLModel",
          "state": {
            "_view_name": "HTMLView",
            "style": "IPY_MODEL_2a24d5cfccdb415e9259a45e31c7d075",
            "_dom_classes": [],
            "description": "",
            "_model_name": "HTMLModel",
            "placeholder": "​",
            "_view_module": "@jupyter-widgets/controls",
            "_model_module_version": "1.5.0",
            "value": " 50000/0 [00:16&lt;00:00, 3941.38 examples/s]",
            "_view_count": null,
            "_view_module_version": "1.5.0",
            "description_tooltip": null,
            "_model_module": "@jupyter-widgets/controls",
            "layout": "IPY_MODEL_83714b6c584449bfbd94a13d241fda40"
          }
        },
        "677292743b6b43fc8d7df5f7eea23299": {
          "model_module": "@jupyter-widgets/controls",
          "model_name": "ProgressStyleModel",
          "state": {
            "_view_name": "StyleView",
            "_model_name": "ProgressStyleModel",
            "description_width": "initial",
            "_view_module": "@jupyter-widgets/base",
            "_model_module_version": "1.5.0",
            "_view_count": null,
            "_view_module_version": "1.2.0",
            "bar_color": null,
            "_model_module": "@jupyter-widgets/controls"
          }
        },
        "dadfc0870f5642038d03323caf5b10e3": {
          "model_module": "@jupyter-widgets/base",
          "model_name": "LayoutModel",
          "state": {
            "_view_name": "LayoutView",
            "grid_template_rows": null,
            "right": null,
            "justify_content": null,
            "_view_module": "@jupyter-widgets/base",
            "overflow": null,
            "_model_module_version": "1.2.0",
            "_view_count": null,
            "flex_flow": null,
            "width": null,
            "min_width": null,
            "border": null,
            "align_items": null,
            "bottom": null,
            "_model_module": "@jupyter-widgets/base",
            "top": null,
            "grid_column": null,
            "overflow_y": null,
            "overflow_x": null,
            "grid_auto_flow": null,
            "grid_area": null,
            "grid_template_columns": null,
            "flex": null,
            "_model_name": "LayoutModel",
            "justify_items": null,
            "grid_row": null,
            "max_height": null,
            "align_content": null,
            "visibility": null,
            "align_self": null,
            "height": null,
            "min_height": null,
            "padding": null,
            "grid_auto_rows": null,
            "grid_gap": null,
            "max_width": null,
            "order": null,
            "_view_module_version": "1.2.0",
            "grid_template_areas": null,
            "object_position": null,
            "object_fit": null,
            "grid_auto_columns": null,
            "margin": null,
            "display": null,
            "left": null
          }
        },
        "2a24d5cfccdb415e9259a45e31c7d075": {
          "model_module": "@jupyter-widgets/controls",
          "model_name": "DescriptionStyleModel",
          "state": {
            "_view_name": "StyleView",
            "_model_name": "DescriptionStyleModel",
            "description_width": "",
            "_view_module": "@jupyter-widgets/base",
            "_model_module_version": "1.5.0",
            "_view_count": null,
            "_view_module_version": "1.2.0",
            "_model_module": "@jupyter-widgets/controls"
          }
        },
        "83714b6c584449bfbd94a13d241fda40": {
          "model_module": "@jupyter-widgets/base",
          "model_name": "LayoutModel",
          "state": {
            "_view_name": "LayoutView",
            "grid_template_rows": null,
            "right": null,
            "justify_content": null,
            "_view_module": "@jupyter-widgets/base",
            "overflow": null,
            "_model_module_version": "1.2.0",
            "_view_count": null,
            "flex_flow": null,
            "width": null,
            "min_width": null,
            "border": null,
            "align_items": null,
            "bottom": null,
            "_model_module": "@jupyter-widgets/base",
            "top": null,
            "grid_column": null,
            "overflow_y": null,
            "overflow_x": null,
            "grid_auto_flow": null,
            "grid_area": null,
            "grid_template_columns": null,
            "flex": null,
            "_model_name": "LayoutModel",
            "justify_items": null,
            "grid_row": null,
            "max_height": null,
            "align_content": null,
            "visibility": null,
            "align_self": null,
            "height": null,
            "min_height": null,
            "padding": null,
            "grid_auto_rows": null,
            "grid_gap": null,
            "max_width": null,
            "order": null,
            "_view_module_version": "1.2.0",
            "grid_template_areas": null,
            "object_position": null,
            "object_fit": null,
            "grid_auto_columns": null,
            "margin": null,
            "display": null,
            "left": null
          }
        },
        "2ea2ffb1637742aa9d0f7073d265b05d": {
          "model_module": "@jupyter-widgets/controls",
          "model_name": "HBoxModel",
          "state": {
            "_view_name": "HBoxView",
            "_dom_classes": [],
            "_model_name": "HBoxModel",
            "_view_module": "@jupyter-widgets/controls",
            "_model_module_version": "1.5.0",
            "_view_count": null,
            "_view_module_version": "1.5.0",
            "box_style": "",
            "layout": "IPY_MODEL_cc2ca2e8127b40fc99dd6bba38711637",
            "_model_module": "@jupyter-widgets/controls",
            "children": [
              "IPY_MODEL_d6276cabdd324769b1bc3ad801d046c4",
              "IPY_MODEL_e3dc07ac10694d0fb5881c5a9df74639"
            ]
          }
        },
        "cc2ca2e8127b40fc99dd6bba38711637": {
          "model_module": "@jupyter-widgets/base",
          "model_name": "LayoutModel",
          "state": {
            "_view_name": "LayoutView",
            "grid_template_rows": null,
            "right": null,
            "justify_content": null,
            "_view_module": "@jupyter-widgets/base",
            "overflow": null,
            "_model_module_version": "1.2.0",
            "_view_count": null,
            "flex_flow": null,
            "width": null,
            "min_width": null,
            "border": null,
            "align_items": null,
            "bottom": null,
            "_model_module": "@jupyter-widgets/base",
            "top": null,
            "grid_column": null,
            "overflow_y": null,
            "overflow_x": null,
            "grid_auto_flow": null,
            "grid_area": null,
            "grid_template_columns": null,
            "flex": null,
            "_model_name": "LayoutModel",
            "justify_items": null,
            "grid_row": null,
            "max_height": null,
            "align_content": null,
            "visibility": null,
            "align_self": null,
            "height": null,
            "min_height": null,
            "padding": null,
            "grid_auto_rows": null,
            "grid_gap": null,
            "max_width": null,
            "order": null,
            "_view_module_version": "1.2.0",
            "grid_template_areas": null,
            "object_position": null,
            "object_fit": null,
            "grid_auto_columns": null,
            "margin": null,
            "display": null,
            "left": null
          }
        },
        "d6276cabdd324769b1bc3ad801d046c4": {
          "model_module": "@jupyter-widgets/controls",
          "model_name": "FloatProgressModel",
          "state": {
            "_view_name": "ProgressView",
            "style": "IPY_MODEL_f1b7f6ba12754e388f0cf4920955513d",
            "_dom_classes": [],
            "description": " 91%",
            "_model_name": "FloatProgressModel",
            "bar_style": "danger",
            "max": 50000,
            "_view_module": "@jupyter-widgets/controls",
            "_model_module_version": "1.5.0",
            "value": 45428,
            "_view_count": null,
            "_view_module_version": "1.5.0",
            "orientation": "horizontal",
            "min": 0,
            "description_tooltip": null,
            "_model_module": "@jupyter-widgets/controls",
            "layout": "IPY_MODEL_612c5b5aace6489e914eafbc72e65252"
          }
        },
        "e3dc07ac10694d0fb5881c5a9df74639": {
          "model_module": "@jupyter-widgets/controls",
          "model_name": "HTMLModel",
          "state": {
            "_view_name": "HTMLView",
            "style": "IPY_MODEL_327cd4c3ea9a4964b50cd76f14fc8ba8",
            "_dom_classes": [],
            "description": "",
            "_model_name": "HTMLModel",
            "placeholder": "​",
            "_view_module": "@jupyter-widgets/controls",
            "_model_module_version": "1.5.0",
            "value": " 45428/50000 [00:05&lt;00:00, 70186.19 examples/s]",
            "_view_count": null,
            "_view_module_version": "1.5.0",
            "description_tooltip": null,
            "_model_module": "@jupyter-widgets/controls",
            "layout": "IPY_MODEL_d51575b1fb9a47ae8bd778db8c5a4c69"
          }
        },
        "f1b7f6ba12754e388f0cf4920955513d": {
          "model_module": "@jupyter-widgets/controls",
          "model_name": "ProgressStyleModel",
          "state": {
            "_view_name": "StyleView",
            "_model_name": "ProgressStyleModel",
            "description_width": "initial",
            "_view_module": "@jupyter-widgets/base",
            "_model_module_version": "1.5.0",
            "_view_count": null,
            "_view_module_version": "1.2.0",
            "bar_color": null,
            "_model_module": "@jupyter-widgets/controls"
          }
        },
        "612c5b5aace6489e914eafbc72e65252": {
          "model_module": "@jupyter-widgets/base",
          "model_name": "LayoutModel",
          "state": {
            "_view_name": "LayoutView",
            "grid_template_rows": null,
            "right": null,
            "justify_content": null,
            "_view_module": "@jupyter-widgets/base",
            "overflow": null,
            "_model_module_version": "1.2.0",
            "_view_count": null,
            "flex_flow": null,
            "width": null,
            "min_width": null,
            "border": null,
            "align_items": null,
            "bottom": null,
            "_model_module": "@jupyter-widgets/base",
            "top": null,
            "grid_column": null,
            "overflow_y": null,
            "overflow_x": null,
            "grid_auto_flow": null,
            "grid_area": null,
            "grid_template_columns": null,
            "flex": null,
            "_model_name": "LayoutModel",
            "justify_items": null,
            "grid_row": null,
            "max_height": null,
            "align_content": null,
            "visibility": null,
            "align_self": null,
            "height": null,
            "min_height": null,
            "padding": null,
            "grid_auto_rows": null,
            "grid_gap": null,
            "max_width": null,
            "order": null,
            "_view_module_version": "1.2.0",
            "grid_template_areas": null,
            "object_position": null,
            "object_fit": null,
            "grid_auto_columns": null,
            "margin": null,
            "display": null,
            "left": null
          }
        },
        "327cd4c3ea9a4964b50cd76f14fc8ba8": {
          "model_module": "@jupyter-widgets/controls",
          "model_name": "DescriptionStyleModel",
          "state": {
            "_view_name": "StyleView",
            "_model_name": "DescriptionStyleModel",
            "description_width": "",
            "_view_module": "@jupyter-widgets/base",
            "_model_module_version": "1.5.0",
            "_view_count": null,
            "_view_module_version": "1.2.0",
            "_model_module": "@jupyter-widgets/controls"
          }
        },
        "d51575b1fb9a47ae8bd778db8c5a4c69": {
          "model_module": "@jupyter-widgets/base",
          "model_name": "LayoutModel",
          "state": {
            "_view_name": "LayoutView",
            "grid_template_rows": null,
            "right": null,
            "justify_content": null,
            "_view_module": "@jupyter-widgets/base",
            "overflow": null,
            "_model_module_version": "1.2.0",
            "_view_count": null,
            "flex_flow": null,
            "width": null,
            "min_width": null,
            "border": null,
            "align_items": null,
            "bottom": null,
            "_model_module": "@jupyter-widgets/base",
            "top": null,
            "grid_column": null,
            "overflow_y": null,
            "overflow_x": null,
            "grid_auto_flow": null,
            "grid_area": null,
            "grid_template_columns": null,
            "flex": null,
            "_model_name": "LayoutModel",
            "justify_items": null,
            "grid_row": null,
            "max_height": null,
            "align_content": null,
            "visibility": null,
            "align_self": null,
            "height": null,
            "min_height": null,
            "padding": null,
            "grid_auto_rows": null,
            "grid_gap": null,
            "max_width": null,
            "order": null,
            "_view_module_version": "1.2.0",
            "grid_template_areas": null,
            "object_position": null,
            "object_fit": null,
            "grid_auto_columns": null,
            "margin": null,
            "display": null,
            "left": null
          }
        }
      }
    }
  },
  "cells": [
    {
      "cell_type": "code",
      "metadata": {
        "id": "zX4Kg8DUTKWO"
      },
      "source": [
        "#@title Licensed under the Apache License, Version 2.0 (the \"License\");\n",
        "# you may not use this file except in compliance with the License.\n",
        "# You may obtain a copy of the License at\n",
        "#\n",
        "# https://www.apache.org/licenses/LICENSE-2.0\n",
        "#\n",
        "# Unless required by applicable law or agreed to in writing, software\n",
        "# distributed under the License is distributed on an \"AS IS\" BASIS,\n",
        "# WITHOUT WARRANTIES OR CONDITIONS OF ANY KIND, either express or implied.\n",
        "# See the License for the specific language governing permissions and\n",
        "# limitations under the License."
      ],
      "execution_count": null,
      "outputs": []
    },
    {
      "cell_type": "code",
      "metadata": {
        "colab": {
          "base_uri": "https://localhost:8080/"
        },
        "id": "P-AhVYeBWgQ3",
        "outputId": "579d1d92-2b0b-4bc0-ea45-3cc6f6ac2e94"
      },
      "source": [
        "import tensorflow as tf\n",
        "print(tf.__version__)\n",
        "\n",
        "# !pip install -q tensorflow-datasets"
      ],
      "execution_count": 1,
      "outputs": [
        {
          "output_type": "stream",
          "text": [
            "2.4.0\n"
          ],
          "name": "stdout"
        }
      ]
    },
    {
      "cell_type": "code",
      "metadata": {
        "colab": {
          "base_uri": "https://localhost:8080/",
          "height": 365,
          "referenced_widgets": [
            "ba39b8dbdfd2493a9c0d60e7fd6cee7f",
            "57fe391cf4a84fe8bd20f1275bcb34e8",
            "0aa2b5b4dfa34b5b89da8f675531578b",
            "ae16f7630cbf4861af22da10b401ac3d",
            "7f1fbdc78e344cbdb5ed01f5402675f9",
            "6690ac83db884cb991bb76299d09c451",
            "f4337f3d0314496bb465690426ccc29b",
            "e70068af4b8141a29f39dc91082b91e4",
            "dc00b78f221445d7bc9fb3d216619ae1",
            "b22190b167174e0088e3da74a8b5d6da",
            "fae608eee31c44a88d539006f6de35d1",
            "51c8e92b0f594f46acb5cfcfeb3a2477",
            "7597a3ed6422442bb5b248a9aac31fa2",
            "d53e017bc41d45febeb61cede3330678",
            "e21ee5ddd27441c683b78a640819f57b",
            "3dc7ca09a0fc4add99e9b6c1ce84793b",
            "1841d8fbb8364a50bad0beb128f74a90",
            "0f412ccec9e04613b449a041de0bc589",
            "e9c0cf5fda154984be3e071fa8f17f83",
            "d49859ce14b544299f8f807457fa30a7",
            "f002036ff9084fb89caa4f83066f10b7",
            "ceaf8e0effad4b2ab81867c89b148500",
            "8f9430eb94d54d57a7c5b90a246334bf",
            "78fb6b88a219467caf94d47df6424fd7",
            "815f6bd5a7324ab28522049556fd4e64",
            "2c7aa87895e54ae5a1faee1ef51ee10a",
            "ce74e2361e9849ee840b62fa2a22e376",
            "8da21a0d9bd54ffba502f8680201ecb4",
            "1d2f298970e84d069d12fec2ce250b5c",
            "b4b78389262f45a9a3caef05d92cfa62",
            "c06985c16e484d15b3fbb17ba27d1de9",
            "b7df699a2851458591112b0b0ea03567",
            "f2e64f317c3b4429b53fbeb18f6c1235",
            "141787412e974e87a21f62cd089ad84e",
            "0724b17c594c40a5b0ac83591f5427db",
            "0a004b482bda4cdabf5ed187a0b228f0",
            "6eb258da1adc417f8c14a2c87b7d793d",
            "bdf6604f81c745d8b8e499f8325b8bed",
            "80603c181b624a88ac3cb545328d0e8a",
            "1ca32014b89c4571b642737b993c67e3",
            "75e2c1180390497e97aa02488630c39d",
            "3e856c6132c842f4b91be4b7c5675d2a",
            "30a5d5fca0cd4d7dabd9c4f69e56b72a",
            "f1e0d3b886644eed8d624069c40a4bb9",
            "58b6f1a4bd7f4994ad8e2d3df7e5b7ba",
            "f12e831ce63d43aab516897d103b1f91",
            "0b23924d880b4eedb5c1c94cc19228d1",
            "0a5a3e4172bd42609348a78fa3ed5a81",
            "bc6788d287ab4a5983a3b0c5dbed4861",
            "0a428d79315041898851dcc717a3eeed",
            "7cb0825c298c49a28a7cab8ec978d2cb",
            "f9de35b8a304441386f10ad325a89cda",
            "677292743b6b43fc8d7df5f7eea23299",
            "dadfc0870f5642038d03323caf5b10e3",
            "2a24d5cfccdb415e9259a45e31c7d075",
            "83714b6c584449bfbd94a13d241fda40",
            "2ea2ffb1637742aa9d0f7073d265b05d",
            "cc2ca2e8127b40fc99dd6bba38711637",
            "d6276cabdd324769b1bc3ad801d046c4",
            "e3dc07ac10694d0fb5881c5a9df74639",
            "f1b7f6ba12754e388f0cf4920955513d",
            "612c5b5aace6489e914eafbc72e65252",
            "327cd4c3ea9a4964b50cd76f14fc8ba8",
            "d51575b1fb9a47ae8bd778db8c5a4c69"
          ]
        },
        "id": "_IoM4VFxWpMR",
        "outputId": "259f15e3-848e-4a83-efdb-6cd19bf0a7ef"
      },
      "source": [
        "import tensorflow_datasets as tfds\n",
        "imdb, info = tfds.load(\"imdb_reviews\", with_info=True, as_supervised=True)\n"
      ],
      "execution_count": 2,
      "outputs": [
        {
          "output_type": "stream",
          "text": [
            "\u001b[1mDownloading and preparing dataset imdb_reviews/plain_text/1.0.0 (download: 80.23 MiB, generated: Unknown size, total: 80.23 MiB) to /root/tensorflow_datasets/imdb_reviews/plain_text/1.0.0...\u001b[0m\n"
          ],
          "name": "stdout"
        },
        {
          "output_type": "display_data",
          "data": {
            "application/vnd.jupyter.widget-view+json": {
              "model_id": "ba39b8dbdfd2493a9c0d60e7fd6cee7f",
              "version_minor": 0,
              "version_major": 2
            },
            "text/plain": [
              "HBox(children=(FloatProgress(value=1.0, bar_style='info', description='Dl Completed...', max=1.0, style=Progre…"
            ]
          },
          "metadata": {
            "tags": []
          }
        },
        {
          "output_type": "display_data",
          "data": {
            "application/vnd.jupyter.widget-view+json": {
              "model_id": "dc00b78f221445d7bc9fb3d216619ae1",
              "version_minor": 0,
              "version_major": 2
            },
            "text/plain": [
              "HBox(children=(FloatProgress(value=1.0, bar_style='info', description='Dl Size...', max=1.0, style=ProgressSty…"
            ]
          },
          "metadata": {
            "tags": []
          }
        },
        {
          "output_type": "stream",
          "text": [
            "\n",
            "\n",
            "\n",
            "\n"
          ],
          "name": "stdout"
        },
        {
          "output_type": "display_data",
          "data": {
            "application/vnd.jupyter.widget-view+json": {
              "model_id": "1841d8fbb8364a50bad0beb128f74a90",
              "version_minor": 0,
              "version_major": 2
            },
            "text/plain": [
              "HBox(children=(FloatProgress(value=1.0, bar_style='info', max=1.0), HTML(value='')))"
            ]
          },
          "metadata": {
            "tags": []
          }
        },
        {
          "output_type": "stream",
          "text": [
            "\rShuffling and writing examples to /root/tensorflow_datasets/imdb_reviews/plain_text/1.0.0.incompleteDJWSUI/imdb_reviews-train.tfrecord\n"
          ],
          "name": "stdout"
        },
        {
          "output_type": "display_data",
          "data": {
            "application/vnd.jupyter.widget-view+json": {
              "model_id": "815f6bd5a7324ab28522049556fd4e64",
              "version_minor": 0,
              "version_major": 2
            },
            "text/plain": [
              "HBox(children=(FloatProgress(value=0.0, max=25000.0), HTML(value='')))"
            ]
          },
          "metadata": {
            "tags": []
          }
        },
        {
          "output_type": "stream",
          "text": [
            "\r"
          ],
          "name": "stdout"
        },
        {
          "output_type": "display_data",
          "data": {
            "application/vnd.jupyter.widget-view+json": {
              "model_id": "f2e64f317c3b4429b53fbeb18f6c1235",
              "version_minor": 0,
              "version_major": 2
            },
            "text/plain": [
              "HBox(children=(FloatProgress(value=1.0, bar_style='info', max=1.0), HTML(value='')))"
            ]
          },
          "metadata": {
            "tags": []
          }
        },
        {
          "output_type": "stream",
          "text": [
            "\rShuffling and writing examples to /root/tensorflow_datasets/imdb_reviews/plain_text/1.0.0.incompleteDJWSUI/imdb_reviews-test.tfrecord\n"
          ],
          "name": "stdout"
        },
        {
          "output_type": "display_data",
          "data": {
            "application/vnd.jupyter.widget-view+json": {
              "model_id": "75e2c1180390497e97aa02488630c39d",
              "version_minor": 0,
              "version_major": 2
            },
            "text/plain": [
              "HBox(children=(FloatProgress(value=0.0, max=25000.0), HTML(value='')))"
            ]
          },
          "metadata": {
            "tags": []
          }
        },
        {
          "output_type": "stream",
          "text": [
            "\r"
          ],
          "name": "stdout"
        },
        {
          "output_type": "display_data",
          "data": {
            "application/vnd.jupyter.widget-view+json": {
              "model_id": "bc6788d287ab4a5983a3b0c5dbed4861",
              "version_minor": 0,
              "version_major": 2
            },
            "text/plain": [
              "HBox(children=(FloatProgress(value=1.0, bar_style='info', max=1.0), HTML(value='')))"
            ]
          },
          "metadata": {
            "tags": []
          }
        },
        {
          "output_type": "stream",
          "text": [
            "\rShuffling and writing examples to /root/tensorflow_datasets/imdb_reviews/plain_text/1.0.0.incompleteDJWSUI/imdb_reviews-unsupervised.tfrecord\n"
          ],
          "name": "stdout"
        },
        {
          "output_type": "display_data",
          "data": {
            "application/vnd.jupyter.widget-view+json": {
              "model_id": "2ea2ffb1637742aa9d0f7073d265b05d",
              "version_minor": 0,
              "version_major": 2
            },
            "text/plain": [
              "HBox(children=(FloatProgress(value=0.0, max=50000.0), HTML(value='')))"
            ]
          },
          "metadata": {
            "tags": []
          }
        },
        {
          "output_type": "stream",
          "text": [
            "WARNING:absl:Dataset is using deprecated text encoder API which will be removed soon. Please use the plain_text version of the dataset and migrate to `tensorflow_text`.\n"
          ],
          "name": "stderr"
        },
        {
          "output_type": "stream",
          "text": [
            "\u001b[1mDataset imdb_reviews downloaded and prepared to /root/tensorflow_datasets/imdb_reviews/plain_text/1.0.0. Subsequent calls will reuse this data.\u001b[0m\n"
          ],
          "name": "stdout"
        }
      ]
    },
    {
      "cell_type": "code",
      "metadata": {
        "id": "wHQ2Ko0zl7M4"
      },
      "source": [
        "import numpy as np\n",
        "\n",
        "train_data, test_data = imdb['train'], imdb['test']\n",
        "\n",
        "training_sentences = []\n",
        "training_labels = []\n",
        "\n",
        "testing_sentences = []\n",
        "testing_labels = []\n",
        "\n",
        "# str(s.tonumpy()) is needed in Python3 instead of just s.numpy()\n",
        "for s,l in train_data:\n",
        "  training_sentences.append(str(s.numpy()))\n",
        "  training_labels.append(l.numpy())\n",
        "  \n",
        "for s,l in test_data:\n",
        "  testing_sentences.append(str(s.numpy()))\n",
        "  testing_labels.append(l.numpy())\n",
        "  \n",
        "training_labels_final = np.array(training_labels)\n",
        "testing_labels_final = np.array(testing_labels)\n"
      ],
      "execution_count": 3,
      "outputs": []
    },
    {
      "cell_type": "code",
      "metadata": {
        "id": "7n15yyMdmoH1"
      },
      "source": [
        "vocab_size = 10000\n",
        "embedding_dim = 16\n",
        "max_length = 120\n",
        "trunc_type='post'\n",
        "oov_tok = \"<OOV>\"\n",
        "\n",
        "\n",
        "from tensorflow.keras.preprocessing.text import Tokenizer\n",
        "from tensorflow.keras.preprocessing.sequence import pad_sequences\n",
        "\n",
        "tokenizer = Tokenizer(num_words = vocab_size, oov_token=oov_tok)\n",
        "tokenizer.fit_on_texts(training_sentences)\n",
        "word_index = tokenizer.word_index\n",
        "sequences = tokenizer.texts_to_sequences(training_sentences)\n",
        "padded = pad_sequences(sequences,maxlen=max_length, truncating=trunc_type)\n",
        "\n",
        "testing_sequences = tokenizer.texts_to_sequences(testing_sentences)\n",
        "testing_padded = pad_sequences(testing_sequences,maxlen=max_length)\n"
      ],
      "execution_count": 4,
      "outputs": []
    },
    {
      "cell_type": "code",
      "metadata": {
        "colab": {
          "base_uri": "https://localhost:8080/"
        },
        "id": "9axf0uIXVMhO",
        "outputId": "f7f0e9f2-ab0e-4611-842a-75c6ee474ac5"
      },
      "source": [
        "reverse_word_index = dict([(value, key) for (key, value) in word_index.items()])\n",
        "\n",
        "def decode_review(text):\n",
        "    return ' '.join([reverse_word_index.get(i, '?') for i in text])\n",
        "\n",
        "print(decode_review(padded[1]))\n",
        "print(training_sentences[1])"
      ],
      "execution_count": 5,
      "outputs": [
        {
          "output_type": "stream",
          "text": [
            "? ? ? ? ? ? ? b'i have been known to fall asleep during films but this is usually due to a combination of things including really tired being warm and comfortable on the <OOV> and having just eaten a lot however on this occasion i fell asleep because the film was rubbish the plot development was constant constantly slow and boring things seemed to happen but with no explanation of what was causing them or why i admit i may have missed part of the film but i watched the majority of it and everything just seemed to happen of its own <OOV> without any real concern for anything else i cant recommend this film at all '\n",
            "b'I have been known to fall asleep during films, but this is usually due to a combination of things including, really tired, being warm and comfortable on the sette and having just eaten a lot. However on this occasion I fell asleep because the film was rubbish. The plot development was constant. Constantly slow and boring. Things seemed to happen, but with no explanation of what was causing them or why. I admit, I may have missed part of the film, but i watched the majority of it and everything just seemed to happen of its own accord without any real concern for anything else. I cant recommend this film at all.'\n"
          ],
          "name": "stdout"
        }
      ]
    },
    {
      "cell_type": "code",
      "metadata": {
        "colab": {
          "base_uri": "https://localhost:8080/"
        },
        "id": "5NEpdhb8AxID",
        "outputId": "9cfbfcbf-fb08-4fc9-9532-4a6e62292b6b"
      },
      "source": [
        "model = tf.keras.Sequential([\n",
        "    tf.keras.layers.Embedding(vocab_size, embedding_dim, input_length=max_length),\n",
        "    tf.keras.layers.Bidirectional(tf.keras.layers.GRU(32)),\n",
        "    tf.keras.layers.Dense(6, activation='relu'),\n",
        "    tf.keras.layers.Dense(1, activation='sigmoid')\n",
        "])\n",
        "model.compile(loss='binary_crossentropy',optimizer='adam',metrics=['accuracy'])\n",
        "model.summary()\n"
      ],
      "execution_count": 6,
      "outputs": [
        {
          "output_type": "stream",
          "text": [
            "Model: \"sequential\"\n",
            "_________________________________________________________________\n",
            "Layer (type)                 Output Shape              Param #   \n",
            "=================================================================\n",
            "embedding (Embedding)        (None, 120, 16)           160000    \n",
            "_________________________________________________________________\n",
            "bidirectional (Bidirectional (None, 64)                9600      \n",
            "_________________________________________________________________\n",
            "dense (Dense)                (None, 6)                 390       \n",
            "_________________________________________________________________\n",
            "dense_1 (Dense)              (None, 1)                 7         \n",
            "=================================================================\n",
            "Total params: 169,997\n",
            "Trainable params: 169,997\n",
            "Non-trainable params: 0\n",
            "_________________________________________________________________\n"
          ],
          "name": "stdout"
        }
      ]
    },
    {
      "cell_type": "code",
      "metadata": {
        "colab": {
          "base_uri": "https://localhost:8080/"
        },
        "id": "V5LLrXC-uNX6",
        "outputId": "0f929da6-84de-47eb-f084-e01bdb63a8d6"
      },
      "source": [
        "num_epochs = 10\n",
        "history = model.fit(padded, training_labels_final, epochs=num_epochs, validation_data=(testing_padded, testing_labels_final))"
      ],
      "execution_count": 7,
      "outputs": [
        {
          "output_type": "stream",
          "text": [
            "Epoch 1/50\n",
            "782/782 [==============================] - 24s 20ms/step - loss: 0.6453 - accuracy: 0.5920 - val_loss: 0.4051 - val_accuracy: 0.8210\n",
            "Epoch 2/50\n",
            "782/782 [==============================] - 15s 19ms/step - loss: 0.3391 - accuracy: 0.8586 - val_loss: 0.3567 - val_accuracy: 0.8433\n",
            "Epoch 3/50\n",
            "782/782 [==============================] - 15s 20ms/step - loss: 0.2454 - accuracy: 0.9067 - val_loss: 0.3833 - val_accuracy: 0.8366\n",
            "Epoch 4/50\n",
            "782/782 [==============================] - 15s 19ms/step - loss: 0.1786 - accuracy: 0.9360 - val_loss: 0.4011 - val_accuracy: 0.8316\n",
            "Epoch 5/50\n",
            "782/782 [==============================] - 14s 18ms/step - loss: 0.1286 - accuracy: 0.9565 - val_loss: 0.4601 - val_accuracy: 0.8220\n",
            "Epoch 6/50\n",
            "782/782 [==============================] - 14s 18ms/step - loss: 0.0847 - accuracy: 0.9737 - val_loss: 0.5637 - val_accuracy: 0.8108\n",
            "Epoch 7/50\n",
            "782/782 [==============================] - 14s 18ms/step - loss: 0.0586 - accuracy: 0.9815 - val_loss: 0.6426 - val_accuracy: 0.8212\n",
            "Epoch 8/50\n",
            "782/782 [==============================] - 15s 19ms/step - loss: 0.0364 - accuracy: 0.9900 - val_loss: 0.7372 - val_accuracy: 0.8179\n",
            "Epoch 9/50\n",
            "782/782 [==============================] - 15s 19ms/step - loss: 0.0270 - accuracy: 0.9918 - val_loss: 0.8619 - val_accuracy: 0.8148\n",
            "Epoch 10/50\n",
            "782/782 [==============================] - 14s 18ms/step - loss: 0.0181 - accuracy: 0.9942 - val_loss: 0.8988 - val_accuracy: 0.8176\n",
            "Epoch 11/50\n",
            "782/782 [==============================] - 15s 19ms/step - loss: 0.0140 - accuracy: 0.9959 - val_loss: 0.9890 - val_accuracy: 0.8104\n",
            "Epoch 12/50\n",
            "782/782 [==============================] - 15s 19ms/step - loss: 0.0158 - accuracy: 0.9948 - val_loss: 0.9784 - val_accuracy: 0.8092\n",
            "Epoch 13/50\n",
            "782/782 [==============================] - 15s 19ms/step - loss: 0.0099 - accuracy: 0.9969 - val_loss: 1.0406 - val_accuracy: 0.8025\n",
            "Epoch 14/50\n",
            "782/782 [==============================] - 15s 19ms/step - loss: 0.0109 - accuracy: 0.9962 - val_loss: 1.1633 - val_accuracy: 0.8081\n",
            "Epoch 15/50\n",
            "782/782 [==============================] - 15s 19ms/step - loss: 0.0077 - accuracy: 0.9971 - val_loss: 1.2287 - val_accuracy: 0.8081\n",
            "Epoch 16/50\n",
            "782/782 [==============================] - 15s 19ms/step - loss: 0.0028 - accuracy: 0.9994 - val_loss: 1.1946 - val_accuracy: 0.7993\n",
            "Epoch 17/50\n",
            "782/782 [==============================] - 15s 19ms/step - loss: 0.0112 - accuracy: 0.9962 - val_loss: 1.2867 - val_accuracy: 0.8060\n",
            "Epoch 18/50\n",
            "782/782 [==============================] - 14s 18ms/step - loss: 0.0082 - accuracy: 0.9974 - val_loss: 1.2212 - val_accuracy: 0.8058\n",
            "Epoch 19/50\n",
            "782/782 [==============================] - 15s 19ms/step - loss: 0.0053 - accuracy: 0.9980 - val_loss: 1.2885 - val_accuracy: 0.8150\n",
            "Epoch 20/50\n",
            "782/782 [==============================] - 15s 19ms/step - loss: 0.0032 - accuracy: 0.9991 - val_loss: 1.2821 - val_accuracy: 0.8036\n",
            "Epoch 21/50\n",
            "782/782 [==============================] - 14s 19ms/step - loss: 0.0028 - accuracy: 0.9993 - val_loss: 1.3224 - val_accuracy: 0.8054\n",
            "Epoch 22/50\n",
            "782/782 [==============================] - 14s 18ms/step - loss: 0.0050 - accuracy: 0.9986 - val_loss: 1.3728 - val_accuracy: 0.8094\n",
            "Epoch 23/50\n",
            "782/782 [==============================] - 15s 19ms/step - loss: 0.0066 - accuracy: 0.9978 - val_loss: 1.3587 - val_accuracy: 0.8032\n",
            "Epoch 24/50\n",
            "782/782 [==============================] - 15s 19ms/step - loss: 0.0027 - accuracy: 0.9993 - val_loss: 1.3501 - val_accuracy: 0.8074\n",
            "Epoch 25/50\n",
            "782/782 [==============================] - 15s 19ms/step - loss: 0.0040 - accuracy: 0.9987 - val_loss: 1.4183 - val_accuracy: 0.8006\n",
            "Epoch 26/50\n",
            "782/782 [==============================] - 15s 19ms/step - loss: 0.0043 - accuracy: 0.9989 - val_loss: 1.4653 - val_accuracy: 0.8058\n",
            "Epoch 27/50\n",
            "782/782 [==============================] - 15s 19ms/step - loss: 0.0048 - accuracy: 0.9987 - val_loss: 1.3674 - val_accuracy: 0.8074\n",
            "Epoch 28/50\n",
            "782/782 [==============================] - 15s 19ms/step - loss: 0.0029 - accuracy: 0.9988 - val_loss: 1.3998 - val_accuracy: 0.8032\n",
            "Epoch 29/50\n",
            "782/782 [==============================] - 15s 19ms/step - loss: 7.3872e-04 - accuracy: 1.0000 - val_loss: 1.4082 - val_accuracy: 0.8033\n",
            "Epoch 30/50\n",
            "782/782 [==============================] - 15s 19ms/step - loss: 6.5064e-04 - accuracy: 0.9999 - val_loss: 1.5728 - val_accuracy: 0.8045\n",
            "Epoch 31/50\n",
            "782/782 [==============================] - 15s 19ms/step - loss: 0.0033 - accuracy: 0.9986 - val_loss: 1.7025 - val_accuracy: 0.7968\n",
            "Epoch 32/50\n",
            "782/782 [==============================] - 15s 19ms/step - loss: 0.0054 - accuracy: 0.9984 - val_loss: 1.4928 - val_accuracy: 0.8040\n",
            "Epoch 33/50\n",
            "782/782 [==============================] - 15s 19ms/step - loss: 0.0026 - accuracy: 0.9992 - val_loss: 1.6739 - val_accuracy: 0.8066\n",
            "Epoch 34/50\n",
            "782/782 [==============================] - 15s 19ms/step - loss: 3.4906e-04 - accuracy: 0.9999 - val_loss: 1.7312 - val_accuracy: 0.8042\n",
            "Epoch 35/50\n",
            "781/782 [============================>.] - ETA: 0s - loss: 1.3236e-04 - accuracy: 1.0000Epoch 36/50\n",
            "782/782 [==============================] - 14s 18ms/step - loss: 1.6920e-05 - accuracy: 1.0000 - val_loss: 1.7860 - val_accuracy: 0.8065\n",
            "Epoch 37/50\n",
            "782/782 [==============================] - 14s 18ms/step - loss: 9.5741e-06 - accuracy: 1.0000 - val_loss: 1.8210 - val_accuracy: 0.8065\n",
            "Epoch 38/50\n",
            "782/782 [==============================] - 15s 19ms/step - loss: 6.9626e-06 - accuracy: 1.0000 - val_loss: 1.8607 - val_accuracy: 0.8070\n",
            "Epoch 39/50\n",
            "782/782 [==============================] - 15s 19ms/step - loss: 5.1307e-06 - accuracy: 1.0000 - val_loss: 1.9054 - val_accuracy: 0.8069\n",
            "Epoch 40/50\n",
            "782/782 [==============================] - 14s 18ms/step - loss: 3.6698e-06 - accuracy: 1.0000 - val_loss: 1.9501 - val_accuracy: 0.8071\n",
            "Epoch 41/50\n",
            "782/782 [==============================] - 15s 19ms/step - loss: 2.6766e-06 - accuracy: 1.0000 - val_loss: 1.9998 - val_accuracy: 0.8067\n",
            "Epoch 42/50\n",
            "782/782 [==============================] - 14s 19ms/step - loss: 1.8012e-06 - accuracy: 1.0000 - val_loss: 2.0506 - val_accuracy: 0.8068\n",
            "Epoch 43/50\n",
            "782/782 [==============================] - 15s 19ms/step - loss: 1.2754e-06 - accuracy: 1.0000 - val_loss: 2.1046 - val_accuracy: 0.8066\n",
            "Epoch 44/50\n",
            "782/782 [==============================] - 14s 19ms/step - loss: 8.3161e-07 - accuracy: 1.0000 - val_loss: 2.1589 - val_accuracy: 0.8066\n",
            "Epoch 45/50\n",
            "782/782 [==============================] - 15s 19ms/step - loss: 5.6410e-07 - accuracy: 1.0000 - val_loss: 2.2175 - val_accuracy: 0.8066\n",
            "Epoch 46/50\n",
            "782/782 [==============================] - 14s 18ms/step - loss: 3.7669e-07 - accuracy: 1.0000 - val_loss: 2.2755 - val_accuracy: 0.8068\n",
            "Epoch 47/50\n",
            "782/782 [==============================] - 15s 19ms/step - loss: 2.5924e-07 - accuracy: 1.0000 - val_loss: 2.3358 - val_accuracy: 0.8066\n",
            "Epoch 48/50\n",
            "782/782 [==============================] - 15s 19ms/step - loss: 1.7364e-07 - accuracy: 1.0000 - val_loss: 2.3957 - val_accuracy: 0.8065\n",
            "Epoch 49/50\n",
            "782/782 [==============================] - 15s 19ms/step - loss: 1.2102e-07 - accuracy: 1.0000 - val_loss: 2.4583 - val_accuracy: 0.8066\n",
            "Epoch 50/50\n",
            "782/782 [==============================] - 15s 19ms/step - loss: 8.3458e-08 - accuracy: 1.0000 - val_loss: 2.5171 - val_accuracy: 0.8065\n"
          ],
          "name": "stdout"
        }
      ]
    },
    {
      "cell_type": "code",
      "metadata": {
        "colab": {
          "base_uri": "https://localhost:8080/",
          "height": 541
        },
        "id": "nHGYuU4jPYaj",
        "outputId": "92e225d3-1780-427e-fcfe-571db83eb98c"
      },
      "source": [
        "import matplotlib.pyplot as plt\n",
        "\n",
        "\n",
        "def plot_graphs(history, string):\n",
        "  plt.plot(history.history[string])\n",
        "  plt.plot(history.history['val_'+string])\n",
        "  plt.xlabel(\"Epochs\")\n",
        "  plt.ylabel(string)\n",
        "  plt.legend([string, 'val_'+string])\n",
        "  plt.show()\n",
        "\n",
        "plot_graphs(history, 'accuracy')\n",
        "plot_graphs(history, 'loss')"
      ],
      "execution_count": 8,
      "outputs": [
        {
          "output_type": "display_data",
          "data": {
            "image/png": "[encoded data removed]",
            "text/plain": [
              "<Figure size 432x288 with 1 Axes>"
            ]
          },
          "metadata": {
            "tags": [],
            "needs_background": "light"
          }
        },
        {
          "output_type": "display_data",
          "data": {
            "image/png": "[encoded data removed]",
            "text/plain": [
              "<Figure size 432x288 with 1 Axes>"
            ]
          },
          "metadata": {
            "tags": [],
            "needs_background": "light"
          }
        }
      ]
    },
    {
      "cell_type": "code",
      "metadata": {
        "id": "QzW5crs4tAZw"
      },
      "source": [
        ""
      ],
      "execution_count": null,
      "outputs": []
    },
    {
      "cell_type": "markdown",
      "metadata": {
        "id": "8lXQfg0KXJjL"
      },
      "source": [
        "# Test"
      ]
    },
    {
      "cell_type": "code",
      "metadata": {
        "id": "UANLpi9OZ1YU"
      },
      "source": [
        "import numpy as np\r\n",
        "\r\n",
        "from tensorflow.keras.preprocessing.sequence import pad_sequences"
      ],
      "execution_count": 9,
      "outputs": []
    },
    {
      "cell_type": "code",
      "metadata": {
        "id": "1WklJevbWxXC"
      },
      "source": [
        "sample_texts = [\"If you liked the animation of the season 1 of demon slayer you will simply adore this film this is a true masterpiece with a captivating story and music that will make you cry , a must watch for any fan of the show .\", \r\n",
        "                '''These days it's not easy for us to go out to leisure facilities, needless to say, due to covid-19. Movie theaters are a few exceptions even in Japan where infection hasn't been relatively severe. That most foreign films don't play this year helps only domestic films such as \"Demon Slayer\" play unusually many times a day. Covid also brought a serious blow to Japanese businesses which had already been in an economic slump for many years. Particularly in the pandemic era, people are likely to lose their ways and not to have an idea what they should do. Demons originally symbolize unknown terrors to humans like earthquake, eruption, flood, or plague. The very classic story line, \"a brave boy who has a sense of justice beats demons\", gives people a hope of salvation and brings about catharsis. The old-fashioned and creepy ambience depicted by a lavish, high-quality animation exactly fits with the current time.''',\r\n",
        "                '''The story had very strong beginning and the graphics was very fine, too. Unfortunately lost me the story at the half of film and dropped me. What happens? A guy from the future appeared to help his former self to save his great love but the guy isn't from the future. He enters a kind of matrix and everybody there is just a recording. So, would the mission fail, reset...reload the backup and start again. And thats the problem, during the second half of the film I don't care about the characters because they were just recordings. Sure at the end is a turn over, but it couldn't compensate the former 40 minutes.''',\r\n",
        "                \"Yeah, only watched the movie for 20 minutes. It is the most disjointed, nonsensical film I've had the pleasure of starting in years. To the executive producers who bankrolled this film: I hope that $750K was worth being an actor/actress in a feature-length presentation. To the writer, Schitty: you should've stayed at LSU. To the director: stick to accounting. The first 6 scenes in this movie do nothing to set a stage or develop characters...they exists solely to push played-out jokes onto us (Porky's, etc). The transitions/editing is also pretty horrible. Don't bother watching this film because you're curious. You'll regret any minute wasted...I do.\",\r\n",
        "                \"I really was beyond bored out of this world that I sat through the whole of this film. It had the worst acting I'd ever seen. The kind you see in cheap ass porno flicks. The camera work was so bad and amateur. Most of the shots were so unimaginative, uninspired and zero hints of any form of creativity in it. All the characters had absolutely no dept. The worst part about the film is the script. Who ever wrote it, wow. All I can say, one of the worst scripts ever read on camera. Plain bland, unimaginative, overly simple and really really cheap dialogue. An all round disaster. Actually, now I want all 92 minutes of my life back.\",\r\n",
        "                '''I really wanted to like this film, and give it a fair chance with such a great cast (although I feel this was Milla Jovovich's worst acting to date), but it failed. The score was annoying start to finish. The washed out, dim and faded cinematography was the worst I've seen. The directing was ok in some areas, terrible in others - especially the cheesy fade-out/fad-ins. The writing was all over the place and I'm shocked that with 19 producers attached to this project, not once questioned the convoluted screenplay with major plot issues and roller coaster scenes. How difficult was it to alter the fact that Prince walked for days to the drug den with an injured Ash, then days later the bikers all show up? Don't get me started on Ash and Rosie's little ridiculous session in the cell. This film did have its short lived entertaining moments, especially with Snoop Dogg and the post credits scene and some decent location visuals, but it was still an embarrassment to the films it was trying to play homage to.''',\r\n",
        "                '''I can't remember the last time I saw a movie that contained as many genres as 'Parasite'. The movie starts out almost like an 'Ocean's Eleven' heist film and then expands into a comedy, mystery, thriller, drama, romance, crime and even horror film. It really did have everything and it was strikingly good at all of them too. I love a film that respects its audience. There are so many details in this movie that are crucially important and yet the film trusts its audience to notice them and acknowledge them without ramming them down our throats. There are a lot of layers to this film and I suspect for this reason its rewatch-ability factor will be very high. The film was incredibly entertaining too. I can't think of a boring scene in this movie and yet on the surface for large parts of the film you would say not a lot is happening, at least in terms of action. Fascinating characters and brilliant dialogue are what create this. I had a great time with 'Parasite' and I think most that give it a chance will too.''',\r\n",
        "                '''Well, I've always known I was a little slow to the party but this movie was hard to follow! It might have been the cinema sound mix but my wife and I kept asking each other what they were saying.. the script was hard to hear let alone understand in its abstract form.. we got the gist of the concept but was still hard to piece everything together in the end! I think it's a movie that requires a few watches to wrap ya head round it, but then again i am a little slow.. lol''',\r\n",
        "                '''Endgame is a great popcorn action movie to \"finish\" a saga of popcorn action movies. This isn't serious entertainment and shouldn't be considered as such, and it reminds me of how George Lucas made Star Wars as an homage to the cheap serials like Flash Gordon. Especially as comic-sourced material, this is what the MCU is. Some part of me is actually a bit pained to like it as much as I do, given that it is just playing on base emotions to make money for a massive conglomerate like Disney. BUT... what a great way to end several major storylines that they invested in over the past 11 years. For people who have watched the saga, I feel like this is just the cherry on the top. My only complaint is something that you can't really get away from in superhero stories: the character \"powers\" are totally inconsistent from scene to scene, and movie to movie. This is a trope that there's no getting away from, because if characters like Captain Marvel, Thor, Scarlet Witch, and Hulk were always as powerful as they show flashes of, then the story wouldn't even be a thing. Any one of them could destroy Thanos in the blink of an eye, and have done similar feats in other stories (and even in other scenes within a given story). That they sometimes \"reduce\" their power to a lower level, without an explained mechanism, is pretty laughable, and makes some parts of the story a bit nonsensical. Yes, this constant Ex Machina is needed to maintain the drama and keep the plot going, but it's still something that takes me out of the story. What I really love about this movie, and the saga as a whole, is how good it is at developing the actual characters and their relationships. There are some similarities, but nobody is the same, and most of the arcs are believable. Thor's story, and apparent PTSD, is to me the best-done, but all of the majors (and some of the minors) are almost as good. I believed them. And for a popcorn action movie saga based on a comic series, I think that's a pretty high compliment.''']\r\n",
        "sample_labels = [1, 1, 0, 0, 0, 0, 1, 0, 1]"
      ],
      "execution_count": 10,
      "outputs": []
    },
    {
      "cell_type": "code",
      "metadata": {
        "id": "xeKqYLkTYQ3R"
      },
      "source": [
        "# convert to encoded sequences then pad them\r\n",
        "sampletexts_seq = tokenizer.texts_to_sequences(sample_texts)\r\n",
        "sample_padded = pad_sequences(sampletexts_seq, maxlen=max_length, truncating=trunc_type)"
      ],
      "execution_count": 17,
      "outputs": []
    },
    {
      "cell_type": "code",
      "metadata": {
        "id": "9NB2WpUEyYyZ",
        "outputId": "09a2a3dd-6417-4244-caf8-51a4a85776a1",
        "colab": {
          "base_uri": "https://localhost:8080/"
        }
      },
      "source": [
        "preds = model.predict(sample_padded)\r\n",
        "\r\n",
        "for p, t in zip(preds, sample_labels):\r\n",
        "    print('predicted label:', p[0])\r\n",
        "    print('true label:', t)\r\n",
        "    if abs(t - p[0]) < 0.5:\r\n",
        "        print('CORRECT')\r\n",
        "    else:\r\n",
        "        print('INCORRECT')\r\n",
        "\r\n",
        "    print('\\n')"
      ],
      "execution_count": 20,
      "outputs": [
        {
          "output_type": "stream",
          "text": [
            "predicted label: 1.0\n",
            "true label: 1\n",
            "CORRECT\n",
            "\n",
            "\n",
            "predicted label: 1.0\n",
            "true label: 1\n",
            "CORRECT\n",
            "\n",
            "\n",
            "predicted label: 2.743813e-10\n",
            "true label: 0\n",
            "CORRECT\n",
            "\n",
            "\n",
            "predicted label: 6.867637e-20\n",
            "true label: 0\n",
            "CORRECT\n",
            "\n",
            "\n",
            "predicted label: 3.6248805e-14\n",
            "true label: 0\n",
            "CORRECT\n",
            "\n",
            "\n",
            "predicted label: 2.8204822e-10\n",
            "true label: 0\n",
            "CORRECT\n",
            "\n",
            "\n",
            "predicted label: 1.0\n",
            "true label: 1\n",
            "CORRECT\n",
            "\n",
            "\n",
            "predicted label: 3.0176905e-06\n",
            "true label: 0\n",
            "CORRECT\n",
            "\n",
            "\n",
            "predicted label: 0.99748564\n",
            "true label: 1\n",
            "CORRECT\n",
            "\n",
            "\n"
          ],
          "name": "stdout"
        }
      ]
    },
    {
      "cell_type": "markdown",
      "metadata": {
        "id": "513lk2hRtBZa"
      },
      "source": [
        "# Compare to other models"
      ]
    },
    {
      "cell_type": "code",
      "metadata": {
        "id": "wSualgGPPK0S"
      },
      "source": [
        "# Model Definition with LSTM\n",
        "model = tf.keras.Sequential([\n",
        "    tf.keras.layers.Embedding(vocab_size, embedding_dim, input_length=max_length),\n",
        "    tf.keras.layers.Bidirectional(tf.keras.layers.LSTM(32)),\n",
        "    tf.keras.layers.Dense(6, activation='relu'),\n",
        "    tf.keras.layers.Dense(1, activation='sigmoid')\n",
        "])\n",
        "model.compile(loss='binary_crossentropy',optimizer='adam',metrics=['accuracy'])\n",
        "model.summary()\n"
      ],
      "execution_count": null,
      "outputs": []
    },
    {
      "cell_type": "code",
      "metadata": {
        "id": "K_Jc7cY3Qxke"
      },
      "source": [
        "# Model Definition with Conv1D\n",
        "model = tf.keras.Sequential([\n",
        "    tf.keras.layers.Embedding(vocab_size, embedding_dim, input_length=max_length),\n",
        "    tf.keras.layers.Conv1D(128, 5, activation='relu'),\n",
        "    tf.keras.layers.GlobalAveragePooling1D(),\n",
        "    tf.keras.layers.Dense(6, activation='relu'),\n",
        "    tf.keras.layers.Dense(1, activation='sigmoid')\n",
        "])\n",
        "model.compile(loss='binary_crossentropy',optimizer='adam',metrics=['accuracy'])\n",
        "model.summary()\n"
      ],
      "execution_count": null,
      "outputs": []
    }
  ]
}