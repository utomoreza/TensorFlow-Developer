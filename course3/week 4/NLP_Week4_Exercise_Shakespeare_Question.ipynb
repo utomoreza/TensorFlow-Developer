{
  "nbformat": 4,
  "nbformat_minor": 0,
  "metadata": {
    "accelerator": "GPU",
    "colab": {
      "name": "NLP_Week4_Exercise_Shakespeare_Question.ipynb",
      "provenance": []
    },
    "kernelspec": {
      "display_name": "Python 3",
      "name": "python3"
    }
  },
  "cells": [
    {
      "cell_type": "code",
      "metadata": {
        "id": "zX4Kg8DUTKWO"
      },
      "source": [
        "#@title Licensed under the Apache License, Version 2.0 (the \"License\");\n",
        "# you may not use this file except in compliance with the License.\n",
        "# You may obtain a copy of the License at\n",
        "#\n",
        "# https://www.apache.org/licenses/LICENSE-2.0\n",
        "#\n",
        "# Unless required by applicable law or agreed to in writing, software\n",
        "# distributed under the License is distributed on an \"AS IS\" BASIS,\n",
        "# WITHOUT WARRANTIES OR CONDITIONS OF ANY KIND, either express or implied.\n",
        "# See the License for the specific language governing permissions and\n",
        "# limitations under the License."
      ],
      "execution_count": null,
      "outputs": []
    },
    {
      "cell_type": "code",
      "metadata": {
        "id": "BOwsuGQQY9OL"
      },
      "source": [
        "from tensorflow.keras.preprocessing.sequence import pad_sequences\n",
        "from tensorflow.keras.layers import Embedding, LSTM, Dense, Dropout, Bidirectional\n",
        "from tensorflow.keras.preprocessing.text import Tokenizer\n",
        "from tensorflow.keras.models import Sequential\n",
        "from tensorflow.keras.optimizers import Adam\n",
        "### YOUR CODE HERE\n",
        "# Figure out how to import regularizers\n",
        "from tensorflow.keras.regularizers import L1L2\n",
        "###\n",
        "import tensorflow.keras.utils as ku \n",
        "\n",
        "from tensorflow.keras.optimizers import Adam\n",
        "from tensorflow.keras.metrics import Precision, Recall\n",
        "\n",
        "from tensorflow.keras.callbacks import Callback\n",
        "\n",
        "import numpy as np"
      ],
      "execution_count": 6,
      "outputs": []
    },
    {
      "cell_type": "code",
      "metadata": {
        "id": "Ivk-VWBCG38Z",
        "outputId": "6c9ef662-8318-47d3-d11a-3f38c239261d",
        "colab": {
          "base_uri": "https://localhost:8080/"
        }
      },
      "source": [
        "!wget --no-check-certificate \\\r\n",
        "    https://storage.googleapis.com/laurencemoroney-blog.appspot.com/sonnets.txt \\\r\n",
        "    -O /tmp/sonnets.txt"
      ],
      "execution_count": 3,
      "outputs": [
        {
          "output_type": "stream",
          "text": [
            "--2021-01-21 01:15:12--  https://storage.googleapis.com/laurencemoroney-blog.appspot.com/sonnets.txt\n",
            "Resolving storage.googleapis.com (storage.googleapis.com)... 142.250.73.240, 172.217.5.240, 172.217.13.80, ...\n",
            "Connecting to storage.googleapis.com (storage.googleapis.com)|142.250.73.240|:443... connected.\n",
            "HTTP request sent, awaiting response... 200 OK\n",
            "Length: 93578 (91K) [text/plain]\n",
            "Saving to: ‘/tmp/sonnets.txt’\n",
            "\n",
            "\r/tmp/sonnets.txt      0%[                    ]       0  --.-KB/s               \r/tmp/sonnets.txt    100%[===================>]  91.38K  --.-KB/s    in 0.001s  \n",
            "\n",
            "2021-01-21 01:15:12 (126 MB/s) - ‘/tmp/sonnets.txt’ saved [93578/93578]\n",
            "\n"
          ],
          "name": "stdout"
        }
      ]
    },
    {
      "cell_type": "code",
      "metadata": {
        "id": "PRnDnCW-Z7qv"
      },
      "source": [
        "data = open('/tmp/sonnets.txt').read()\n",
        "\n",
        "corpus = data.lower().split(\"\\n\")\n",
        "\n",
        "tokenizer = Tokenizer()\n",
        "tokenizer.fit_on_texts(corpus)\n",
        "total_words = len(tokenizer.word_index) + 1\n",
        "\n",
        "# create input sequences using list of tokens\n",
        "input_sequences = []\n",
        "for line in corpus:\n",
        "\ttoken_list = tokenizer.texts_to_sequences([line])[0]\n",
        "\tfor i in range(1, len(token_list)):\n",
        "\t\tn_gram_sequence = token_list[:i+1]\n",
        "\t\tinput_sequences.append(n_gram_sequence)\n",
        "\n",
        "\n",
        "# pad sequences \n",
        "max_sequence_len = max([len(x) for x in input_sequences])\n",
        "input_sequences = np.array(pad_sequences(input_sequences, maxlen=max_sequence_len, padding='pre'))\n",
        "\n",
        "# create predictors and label\n",
        "predictors, label = input_sequences[:,:-1],input_sequences[:,-1]\n",
        "\n",
        "label = ku.to_categorical(label, num_classes=total_words)"
      ],
      "execution_count": 4,
      "outputs": []
    },
    {
      "cell_type": "code",
      "metadata": {
        "id": "4mNTRqazghCh",
        "outputId": "d0922c61-9e34-4701-e7fb-aa2321a82c3d",
        "colab": {
          "base_uri": "https://localhost:8080/"
        }
      },
      "source": [
        "predictors.shape"
      ],
      "execution_count": 5,
      "outputs": [
        {
          "output_type": "execute_result",
          "data": {
            "text/plain": [
              "(15462, 10)"
            ]
          },
          "metadata": {
            "tags": []
          },
          "execution_count": 5
        }
      ]
    },
    {
      "cell_type": "code",
      "metadata": {
        "id": "M47AwcoTHY0X"
      },
      "source": [
        "# set hyperparameters\r\n",
        "emb_dim = 150\r\n",
        "num_epochs = 100\r\n",
        "DO_rate = 0.05\r\n",
        "LSTM1_unit = 128\r\n",
        "LSTM2_unit = 128\r\n",
        "Dense_unit = 2056\r\n",
        "l1_param = 0.001\r\n",
        "l2_param = 0.001\r\n",
        "lr = 0.001\r\n",
        "batch_size = 16"
      ],
      "execution_count": 7,
      "outputs": []
    },
    {
      "cell_type": "code",
      "metadata": {
        "colab": {
          "base_uri": "https://localhost:8080/"
        },
        "id": "w9vH8Y59ajYL",
        "outputId": "ea9cf6e1-800c-47b3-b258-07efec41fc4f"
      },
      "source": [
        "model = Sequential(name='week4_exercise_question_model')\n",
        "model.add(Embedding(input_dim=total_words, output_dim=emb_dim, input_length=max_sequence_len-1))\n",
        "model.add(Bidirectional(LSTM(units=LSTM2_unit, return_sequences=True)))\n",
        "model.add(Dropout(rate=DO_rate))\n",
        "model.add(Bidirectional(LSTM(units=LSTM2_unit)))\n",
        "model.add(Dense(units=Dense_unit, activation='relu', kernel_regularizer=L1L2(l1=l1_param, l2=l2_param)))\n",
        "model.add(Dense(units=total_words, activation='softmax'))\n",
        "# Pick an optimizer\n",
        "model.compile(optimizer=Adam(learning_rate=lr), loss='categorical_crossentropy', metrics=['accuracy', Precision(), Recall()])\n",
        "print(model.summary())"
      ],
      "execution_count": 14,
      "outputs": [
        {
          "output_type": "stream",
          "text": [
            "Model: \"week4_exercise_question_model\"\n",
            "_________________________________________________________________\n",
            "Layer (type)                 Output Shape              Param #   \n",
            "=================================================================\n",
            "embedding_2 (Embedding)      (None, 10, 150)           481650    \n",
            "_________________________________________________________________\n",
            "bidirectional_4 (Bidirection (None, 10, 256)           285696    \n",
            "_________________________________________________________________\n",
            "dropout_2 (Dropout)          (None, 10, 256)           0         \n",
            "_________________________________________________________________\n",
            "bidirectional_5 (Bidirection (None, 256)               394240    \n",
            "_________________________________________________________________\n",
            "dense_4 (Dense)              (None, 2056)              528392    \n",
            "_________________________________________________________________\n",
            "dense_5 (Dense)              (None, 3211)              6605027   \n",
            "=================================================================\n",
            "Total params: 8,295,005\n",
            "Trainable params: 8,295,005\n",
            "Non-trainable params: 0\n",
            "_________________________________________________________________\n",
            "None\n"
          ],
          "name": "stdout"
        }
      ]
    },
    {
      "cell_type": "code",
      "metadata": {
        "id": "5YMnSMZOSs3y"
      },
      "source": [
        "class myCallback(Callback):\r\n",
        "    def on_epoch_end(self, epoch, logs={}):\r\n",
        "        if logs.get('precision_2') > 0.95 and logs.get('recall_2') > 0.95:\r\n",
        "            print('Precision and Recall reached more than 95%. Training terminated.')\r\n",
        "            self.model.stop_training = True\r\n",
        "\r\n",
        "callback = myCallback()"
      ],
      "execution_count": 15,
      "outputs": []
    },
    {
      "cell_type": "code",
      "metadata": {
        "colab": {
          "base_uri": "https://localhost:8080/"
        },
        "id": "AIg2f1HBxqof",
        "outputId": "0d6c83a0-0cb2-4db7-83cf-74aa11ffe6a7"
      },
      "source": [
        "history = model.fit(predictors, label, epochs=num_epochs, verbose=1, batch_size=batch_size, callbacks=[callback])"
      ],
      "execution_count": 16,
      "outputs": [
        {
          "output_type": "stream",
          "text": [
            "Epoch 1/100\n",
            "967/967 [==============================] - 19s 14ms/step - loss: 8.4466 - accuracy: 0.0192 - precision_2: 0.0000e+00 - recall_2: 0.0000e+00\n",
            "Epoch 2/100\n",
            "967/967 [==============================] - 14s 14ms/step - loss: 6.5647 - accuracy: 0.0225 - precision_2: 0.0000e+00 - recall_2: 0.0000e+00\n",
            "Epoch 3/100\n",
            "967/967 [==============================] - 14s 14ms/step - loss: 6.4486 - accuracy: 0.0278 - precision_2: 0.0000e+00 - recall_2: 0.0000e+00\n",
            "Epoch 4/100\n",
            "967/967 [==============================] - 14s 14ms/step - loss: 6.3169 - accuracy: 0.0379 - precision_2: 0.0000e+00 - recall_2: 0.0000e+00\n",
            "Epoch 5/100\n",
            "967/967 [==============================] - 14s 14ms/step - loss: 6.1987 - accuracy: 0.0390 - precision_2: 0.0000e+00 - recall_2: 0.0000e+00\n",
            "Epoch 6/100\n",
            "967/967 [==============================] - 14s 14ms/step - loss: 6.0479 - accuracy: 0.0416 - precision_2: 0.0000e+00 - recall_2: 0.0000e+00\n",
            "Epoch 7/100\n",
            "967/967 [==============================] - 14s 15ms/step - loss: 5.9352 - accuracy: 0.0521 - precision_2: 0.0000e+00 - recall_2: 0.0000e+00\n",
            "Epoch 8/100\n",
            "967/967 [==============================] - 14s 15ms/step - loss: 5.8312 - accuracy: 0.0554 - precision_2: 0.9056 - recall_2: 0.0031\n",
            "Epoch 9/100\n",
            "967/967 [==============================] - 14s 15ms/step - loss: 5.7401 - accuracy: 0.0568 - precision_2: 0.5657 - recall_2: 0.0014\n",
            "Epoch 10/100\n",
            "967/967 [==============================] - 14s 15ms/step - loss: 5.6721 - accuracy: 0.0617 - precision_2: 0.8124 - recall_2: 0.0046\n",
            "Epoch 11/100\n",
            "967/967 [==============================] - 14s 14ms/step - loss: 5.5244 - accuracy: 0.0719 - precision_2: 0.8096 - recall_2: 0.0078\n",
            "Epoch 12/100\n",
            "967/967 [==============================] - 14s 14ms/step - loss: 5.4641 - accuracy: 0.0767 - precision_2: 0.7965 - recall_2: 0.0110\n",
            "Epoch 13/100\n",
            "967/967 [==============================] - 14s 15ms/step - loss: 5.3129 - accuracy: 0.0888 - precision_2: 0.8675 - recall_2: 0.0137\n",
            "Epoch 14/100\n",
            "967/967 [==============================] - 14s 15ms/step - loss: 5.2082 - accuracy: 0.1014 - precision_2: 0.8541 - recall_2: 0.0215\n",
            "Epoch 15/100\n",
            "967/967 [==============================] - 14s 14ms/step - loss: 5.1021 - accuracy: 0.1116 - precision_2: 0.8505 - recall_2: 0.0207\n",
            "Epoch 16/100\n",
            "967/967 [==============================] - 14s 14ms/step - loss: 5.0217 - accuracy: 0.1186 - precision_2: 0.8494 - recall_2: 0.0291\n",
            "Epoch 17/100\n",
            "967/967 [==============================] - 14s 14ms/step - loss: 4.8977 - accuracy: 0.1282 - precision_2: 0.8238 - recall_2: 0.0354\n",
            "Epoch 18/100\n",
            "967/967 [==============================] - 14s 14ms/step - loss: 4.7695 - accuracy: 0.1460 - precision_2: 0.8820 - recall_2: 0.0496\n",
            "Epoch 19/100\n",
            "967/967 [==============================] - 14s 15ms/step - loss: 4.6872 - accuracy: 0.1568 - precision_2: 0.8758 - recall_2: 0.0585\n",
            "Epoch 20/100\n",
            "967/967 [==============================] - 14s 14ms/step - loss: 4.5642 - accuracy: 0.1753 - precision_2: 0.8757 - recall_2: 0.0639\n",
            "Epoch 21/100\n",
            "967/967 [==============================] - 14s 14ms/step - loss: 4.4779 - accuracy: 0.1881 - precision_2: 0.8934 - recall_2: 0.0751\n",
            "Epoch 22/100\n",
            "967/967 [==============================] - 14s 15ms/step - loss: 4.3499 - accuracy: 0.2014 - precision_2: 0.8827 - recall_2: 0.0896\n",
            "Epoch 23/100\n",
            "967/967 [==============================] - 14s 14ms/step - loss: 4.2302 - accuracy: 0.2224 - precision_2: 0.8684 - recall_2: 0.1000\n",
            "Epoch 24/100\n",
            "967/967 [==============================] - 14s 14ms/step - loss: 4.1477 - accuracy: 0.2251 - precision_2: 0.8882 - recall_2: 0.1128\n",
            "Epoch 25/100\n",
            "967/967 [==============================] - 14s 14ms/step - loss: 4.0347 - accuracy: 0.2486 - precision_2: 0.8998 - recall_2: 0.1247\n",
            "Epoch 26/100\n",
            "967/967 [==============================] - 14s 14ms/step - loss: 3.9578 - accuracy: 0.2589 - precision_2: 0.9020 - recall_2: 0.1323\n",
            "Epoch 27/100\n",
            "967/967 [==============================] - 14s 14ms/step - loss: 3.8262 - accuracy: 0.2815 - precision_2: 0.9300 - recall_2: 0.1532\n",
            "Epoch 28/100\n",
            "967/967 [==============================] - 14s 14ms/step - loss: 3.7069 - accuracy: 0.3001 - precision_2: 0.9138 - recall_2: 0.1628\n",
            "Epoch 29/100\n",
            "967/967 [==============================] - 14s 14ms/step - loss: 3.6265 - accuracy: 0.3167 - precision_2: 0.9236 - recall_2: 0.1738\n",
            "Epoch 30/100\n",
            "967/967 [==============================] - 14s 14ms/step - loss: 3.5552 - accuracy: 0.3195 - precision_2: 0.9211 - recall_2: 0.1797\n",
            "Epoch 31/100\n",
            "967/967 [==============================] - 14s 14ms/step - loss: 3.4214 - accuracy: 0.3433 - precision_2: 0.9258 - recall_2: 0.1934\n",
            "Epoch 32/100\n",
            "967/967 [==============================] - 14s 14ms/step - loss: 3.3289 - accuracy: 0.3659 - precision_2: 0.9310 - recall_2: 0.2035\n",
            "Epoch 33/100\n",
            "967/967 [==============================] - 14s 14ms/step - loss: 3.2307 - accuracy: 0.3809 - precision_2: 0.9305 - recall_2: 0.2153\n",
            "Epoch 34/100\n",
            "967/967 [==============================] - 14s 14ms/step - loss: 3.1191 - accuracy: 0.4027 - precision_2: 0.9393 - recall_2: 0.2305\n",
            "Epoch 35/100\n",
            "967/967 [==============================] - 14s 14ms/step - loss: 3.0173 - accuracy: 0.4295 - precision_2: 0.9448 - recall_2: 0.2465\n",
            "Epoch 36/100\n",
            "967/967 [==============================] - 14s 14ms/step - loss: 2.9914 - accuracy: 0.4387 - precision_2: 0.9331 - recall_2: 0.2466\n",
            "Epoch 37/100\n",
            "967/967 [==============================] - 14s 14ms/step - loss: 2.8618 - accuracy: 0.4656 - precision_2: 0.9391 - recall_2: 0.2701\n",
            "Epoch 38/100\n",
            "967/967 [==============================] - 14s 14ms/step - loss: 2.7518 - accuracy: 0.4931 - precision_2: 0.9526 - recall_2: 0.2908\n",
            "Epoch 39/100\n",
            "967/967 [==============================] - 14s 14ms/step - loss: 2.7172 - accuracy: 0.5005 - precision_2: 0.9413 - recall_2: 0.2939\n",
            "Epoch 40/100\n",
            "967/967 [==============================] - 14s 14ms/step - loss: 2.6263 - accuracy: 0.5174 - precision_2: 0.9391 - recall_2: 0.3127\n",
            "Epoch 41/100\n",
            "967/967 [==============================] - 14s 14ms/step - loss: 2.5424 - accuracy: 0.5401 - precision_2: 0.9532 - recall_2: 0.3225\n",
            "Epoch 42/100\n",
            "967/967 [==============================] - 14s 14ms/step - loss: 2.4638 - accuracy: 0.5578 - precision_2: 0.9503 - recall_2: 0.3430\n",
            "Epoch 43/100\n",
            "967/967 [==============================] - 14s 14ms/step - loss: 2.4164 - accuracy: 0.5681 - precision_2: 0.9474 - recall_2: 0.3574\n",
            "Epoch 44/100\n",
            "967/967 [==============================] - 14s 15ms/step - loss: 2.3149 - accuracy: 0.5920 - precision_2: 0.9500 - recall_2: 0.3827\n",
            "Epoch 45/100\n",
            "967/967 [==============================] - 14s 14ms/step - loss: 2.2668 - accuracy: 0.6043 - precision_2: 0.9582 - recall_2: 0.3921\n",
            "Epoch 46/100\n",
            "967/967 [==============================] - 14s 14ms/step - loss: 2.2336 - accuracy: 0.6118 - precision_2: 0.9530 - recall_2: 0.4037\n",
            "Epoch 47/100\n",
            "967/967 [==============================] - 14s 14ms/step - loss: 2.1981 - accuracy: 0.6195 - precision_2: 0.9573 - recall_2: 0.4158\n",
            "Epoch 48/100\n",
            "967/967 [==============================] - 14s 14ms/step - loss: 2.1250 - accuracy: 0.6334 - precision_2: 0.9531 - recall_2: 0.4332\n",
            "Epoch 49/100\n",
            "967/967 [==============================] - 14s 14ms/step - loss: 2.0188 - accuracy: 0.6603 - precision_2: 0.9623 - recall_2: 0.4650\n",
            "Epoch 50/100\n",
            "967/967 [==============================] - 14s 14ms/step - loss: 1.9911 - accuracy: 0.6632 - precision_2: 0.9642 - recall_2: 0.4805\n",
            "Epoch 51/100\n",
            "967/967 [==============================] - 14s 14ms/step - loss: 1.9731 - accuracy: 0.6688 - precision_2: 0.9597 - recall_2: 0.4942\n",
            "Epoch 52/100\n",
            "967/967 [==============================] - 14s 14ms/step - loss: 1.9033 - accuracy: 0.6859 - precision_2: 0.9595 - recall_2: 0.5081\n",
            "Epoch 53/100\n",
            "967/967 [==============================] - 14s 14ms/step - loss: 1.8990 - accuracy: 0.6853 - precision_2: 0.9595 - recall_2: 0.5134\n",
            "Epoch 54/100\n",
            "967/967 [==============================] - 14s 14ms/step - loss: 1.8758 - accuracy: 0.6835 - precision_2: 0.9587 - recall_2: 0.5193\n",
            "Epoch 55/100\n",
            "967/967 [==============================] - 14s 14ms/step - loss: 1.8118 - accuracy: 0.7039 - precision_2: 0.9686 - recall_2: 0.5425\n",
            "Epoch 56/100\n",
            "967/967 [==============================] - 14s 14ms/step - loss: 1.7632 - accuracy: 0.7116 - precision_2: 0.9683 - recall_2: 0.5590\n",
            "Epoch 57/100\n",
            "967/967 [==============================] - 14s 14ms/step - loss: 1.7528 - accuracy: 0.7208 - precision_2: 0.9670 - recall_2: 0.5676\n",
            "Epoch 58/100\n",
            "967/967 [==============================] - 14s 14ms/step - loss: 1.7215 - accuracy: 0.7209 - precision_2: 0.9627 - recall_2: 0.5803\n",
            "Epoch 59/100\n",
            "967/967 [==============================] - 14s 14ms/step - loss: 1.6521 - accuracy: 0.7382 - precision_2: 0.9673 - recall_2: 0.6004\n",
            "Epoch 60/100\n",
            "967/967 [==============================] - 14s 14ms/step - loss: 1.6500 - accuracy: 0.7384 - precision_2: 0.9698 - recall_2: 0.5989\n",
            "Epoch 61/100\n",
            "967/967 [==============================] - 14s 14ms/step - loss: 1.6704 - accuracy: 0.7344 - precision_2: 0.9642 - recall_2: 0.5981\n",
            "Epoch 62/100\n",
            "967/967 [==============================] - 14s 14ms/step - loss: 1.6036 - accuracy: 0.7517 - precision_2: 0.9680 - recall_2: 0.6209\n",
            "Epoch 63/100\n",
            "967/967 [==============================] - 14s 14ms/step - loss: 1.5779 - accuracy: 0.7507 - precision_2: 0.9682 - recall_2: 0.6282\n",
            "Epoch 64/100\n",
            "967/967 [==============================] - 14s 15ms/step - loss: 1.5312 - accuracy: 0.7591 - precision_2: 0.9659 - recall_2: 0.6396\n",
            "Epoch 65/100\n",
            "967/967 [==============================] - 14s 14ms/step - loss: 1.5493 - accuracy: 0.7565 - precision_2: 0.9598 - recall_2: 0.6275\n",
            "Epoch 66/100\n",
            "967/967 [==============================] - 14s 15ms/step - loss: 1.4887 - accuracy: 0.7698 - precision_2: 0.9707 - recall_2: 0.6542\n",
            "Epoch 67/100\n",
            "967/967 [==============================] - 14s 15ms/step - loss: 1.4698 - accuracy: 0.7745 - precision_2: 0.9703 - recall_2: 0.6602\n",
            "Epoch 68/100\n",
            "967/967 [==============================] - 14s 14ms/step - loss: 1.4426 - accuracy: 0.7756 - precision_2: 0.9690 - recall_2: 0.6695\n",
            "Epoch 69/100\n",
            "967/967 [==============================] - 14s 14ms/step - loss: 1.4670 - accuracy: 0.7698 - precision_2: 0.9670 - recall_2: 0.6615\n",
            "Epoch 70/100\n",
            "967/967 [==============================] - 14s 14ms/step - loss: 1.4120 - accuracy: 0.7817 - precision_2: 0.9690 - recall_2: 0.6717\n",
            "Epoch 71/100\n",
            "967/967 [==============================] - 14s 14ms/step - loss: 1.4104 - accuracy: 0.7852 - precision_2: 0.9666 - recall_2: 0.6798\n",
            "Epoch 72/100\n",
            "967/967 [==============================] - 14s 15ms/step - loss: 1.3955 - accuracy: 0.7859 - precision_2: 0.9695 - recall_2: 0.6848\n",
            "Epoch 73/100\n",
            "967/967 [==============================] - 14s 15ms/step - loss: 1.3494 - accuracy: 0.7885 - precision_2: 0.9654 - recall_2: 0.6919\n",
            "Epoch 74/100\n",
            "967/967 [==============================] - 14s 14ms/step - loss: 1.3836 - accuracy: 0.7832 - precision_2: 0.9671 - recall_2: 0.6857\n",
            "Epoch 75/100\n",
            "967/967 [==============================] - 14s 15ms/step - loss: 1.3475 - accuracy: 0.7927 - precision_2: 0.9708 - recall_2: 0.7000\n",
            "Epoch 76/100\n",
            "967/967 [==============================] - 14s 14ms/step - loss: 1.3318 - accuracy: 0.7906 - precision_2: 0.9647 - recall_2: 0.7031\n",
            "Epoch 77/100\n",
            "967/967 [==============================] - 14s 15ms/step - loss: 1.2976 - accuracy: 0.7983 - precision_2: 0.9699 - recall_2: 0.7140\n",
            "Epoch 78/100\n",
            "967/967 [==============================] - 14s 15ms/step - loss: 1.2985 - accuracy: 0.8018 - precision_2: 0.9665 - recall_2: 0.7149\n",
            "Epoch 79/100\n",
            "967/967 [==============================] - 14s 15ms/step - loss: 1.2768 - accuracy: 0.8023 - precision_2: 0.9659 - recall_2: 0.7183\n",
            "Epoch 80/100\n",
            "967/967 [==============================] - 14s 14ms/step - loss: 1.2502 - accuracy: 0.8086 - precision_2: 0.9726 - recall_2: 0.7236\n",
            "Epoch 81/100\n",
            "967/967 [==============================] - 14s 14ms/step - loss: 1.2859 - accuracy: 0.8002 - precision_2: 0.9698 - recall_2: 0.7194\n",
            "Epoch 82/100\n",
            "967/967 [==============================] - 14s 14ms/step - loss: 1.2494 - accuracy: 0.8071 - precision_2: 0.9668 - recall_2: 0.7255\n",
            "Epoch 83/100\n",
            "967/967 [==============================] - 14s 14ms/step - loss: 1.2394 - accuracy: 0.8107 - precision_2: 0.9724 - recall_2: 0.7346\n",
            "Epoch 84/100\n",
            "967/967 [==============================] - 14s 14ms/step - loss: 1.1998 - accuracy: 0.8167 - precision_2: 0.9727 - recall_2: 0.7443\n",
            "Epoch 85/100\n",
            "967/967 [==============================] - 14s 14ms/step - loss: 1.1913 - accuracy: 0.8180 - precision_2: 0.9759 - recall_2: 0.7456\n",
            "Epoch 86/100\n",
            "967/967 [==============================] - 14s 14ms/step - loss: 1.1952 - accuracy: 0.8130 - precision_2: 0.9678 - recall_2: 0.7406\n",
            "Epoch 87/100\n",
            "967/967 [==============================] - 14s 14ms/step - loss: 1.2002 - accuracy: 0.8134 - precision_2: 0.9674 - recall_2: 0.7423\n",
            "Epoch 88/100\n",
            "967/967 [==============================] - 14s 14ms/step - loss: 1.1696 - accuracy: 0.8195 - precision_2: 0.9683 - recall_2: 0.7438\n",
            "Epoch 89/100\n",
            "967/967 [==============================] - 14s 15ms/step - loss: 1.1649 - accuracy: 0.8199 - precision_2: 0.9714 - recall_2: 0.7550\n",
            "Epoch 90/100\n",
            "967/967 [==============================] - 14s 14ms/step - loss: 1.1522 - accuracy: 0.8161 - precision_2: 0.9660 - recall_2: 0.7518\n",
            "Epoch 91/100\n",
            "967/967 [==============================] - 14s 14ms/step - loss: 1.1696 - accuracy: 0.8192 - precision_2: 0.9683 - recall_2: 0.7526\n",
            "Epoch 92/100\n",
            "967/967 [==============================] - 14s 14ms/step - loss: 1.1426 - accuracy: 0.8201 - precision_2: 0.9706 - recall_2: 0.7553\n",
            "Epoch 93/100\n",
            "967/967 [==============================] - 14s 14ms/step - loss: 1.1510 - accuracy: 0.8235 - precision_2: 0.9726 - recall_2: 0.7583\n",
            "Epoch 94/100\n",
            "967/967 [==============================] - 14s 14ms/step - loss: 1.1322 - accuracy: 0.8233 - precision_2: 0.9720 - recall_2: 0.7610\n",
            "Epoch 95/100\n",
            "967/967 [==============================] - 14s 14ms/step - loss: 1.1061 - accuracy: 0.8293 - precision_2: 0.9752 - recall_2: 0.7653\n",
            "Epoch 96/100\n",
            "967/967 [==============================] - 14s 14ms/step - loss: 1.0920 - accuracy: 0.8309 - precision_2: 0.9709 - recall_2: 0.7720\n",
            "Epoch 97/100\n",
            "967/967 [==============================] - 14s 14ms/step - loss: 1.0931 - accuracy: 0.8283 - precision_2: 0.9694 - recall_2: 0.7690\n",
            "Epoch 98/100\n",
            "967/967 [==============================] - 14s 14ms/step - loss: 1.1068 - accuracy: 0.8254 - precision_2: 0.9710 - recall_2: 0.7665\n",
            "Epoch 99/100\n",
            "967/967 [==============================] - 14s 14ms/step - loss: 1.0903 - accuracy: 0.8281 - precision_2: 0.9699 - recall_2: 0.7702\n",
            "Epoch 100/100\n",
            "967/967 [==============================] - 14s 14ms/step - loss: 1.0847 - accuracy: 0.8306 - precision_2: 0.9684 - recall_2: 0.7739\n"
          ],
          "name": "stdout"
        }
      ]
    },
    {
      "cell_type": "code",
      "metadata": {
        "id": "wArO2UnWpHCu",
        "outputId": "62e578df-e12b-44ae-b721-24abf0d63e94",
        "colab": {
          "base_uri": "https://localhost:8080/"
        }
      },
      "source": [
        "# another 50 epochs\r\n",
        "history = model.fit(predictors, label, epochs=50, verbose=1, batch_size=batch_size, callbacks=[callback])"
      ],
      "execution_count": 17,
      "outputs": [
        {
          "output_type": "stream",
          "text": [
            "Epoch 1/50\n",
            "967/967 [==============================] - 14s 14ms/step - loss: 1.0998 - accuracy: 0.8229 - precision_2: 0.9669 - recall_2: 0.7696\n",
            "Epoch 2/50\n",
            "967/967 [==============================] - 14s 14ms/step - loss: 1.1017 - accuracy: 0.8220 - precision_2: 0.9651 - recall_2: 0.7674\n",
            "Epoch 3/50\n",
            "967/967 [==============================] - 14s 14ms/step - loss: 1.0960 - accuracy: 0.8223 - precision_2: 0.9619 - recall_2: 0.7670\n",
            "Epoch 4/50\n",
            "967/967 [==============================] - 14s 14ms/step - loss: 1.0790 - accuracy: 0.8267 - precision_2: 0.9677 - recall_2: 0.7719\n",
            "Epoch 5/50\n",
            "967/967 [==============================] - 14s 14ms/step - loss: 1.0854 - accuracy: 0.8247 - precision_2: 0.9661 - recall_2: 0.7698\n",
            "Epoch 6/50\n",
            "967/967 [==============================] - 14s 14ms/step - loss: 1.0656 - accuracy: 0.8256 - precision_2: 0.9665 - recall_2: 0.7754\n",
            "Epoch 7/50\n",
            "967/967 [==============================] - 14s 14ms/step - loss: 1.0642 - accuracy: 0.8263 - precision_2: 0.9675 - recall_2: 0.7755\n",
            "Epoch 8/50\n",
            "967/967 [==============================] - 14s 14ms/step - loss: 1.1006 - accuracy: 0.8174 - precision_2: 0.9599 - recall_2: 0.7626\n",
            "Epoch 9/50\n",
            "967/967 [==============================] - 14s 14ms/step - loss: 1.0572 - accuracy: 0.8263 - precision_2: 0.9686 - recall_2: 0.7773\n",
            "Epoch 10/50\n",
            "967/967 [==============================] - 14s 14ms/step - loss: 1.0480 - accuracy: 0.8279 - precision_2: 0.9663 - recall_2: 0.7792\n",
            "Epoch 11/50\n",
            "967/967 [==============================] - 14s 14ms/step - loss: 1.0399 - accuracy: 0.8299 - precision_2: 0.9661 - recall_2: 0.7828\n",
            "Epoch 12/50\n",
            "967/967 [==============================] - 14s 14ms/step - loss: 1.0435 - accuracy: 0.8277 - precision_2: 0.9651 - recall_2: 0.7804\n",
            "Epoch 13/50\n",
            "967/967 [==============================] - 14s 14ms/step - loss: 1.0420 - accuracy: 0.8264 - precision_2: 0.9656 - recall_2: 0.7796\n",
            "Epoch 14/50\n",
            "967/967 [==============================] - 14s 14ms/step - loss: 1.0439 - accuracy: 0.8288 - precision_2: 0.9656 - recall_2: 0.7828\n",
            "Epoch 15/50\n",
            "967/967 [==============================] - 14s 14ms/step - loss: 1.0242 - accuracy: 0.8297 - precision_2: 0.9639 - recall_2: 0.7833\n",
            "Epoch 16/50\n",
            "967/967 [==============================] - 14s 14ms/step - loss: 1.0226 - accuracy: 0.8309 - precision_2: 0.9664 - recall_2: 0.7855\n",
            "Epoch 17/50\n",
            "967/967 [==============================] - 14s 14ms/step - loss: 1.0234 - accuracy: 0.8262 - precision_2: 0.9626 - recall_2: 0.7817\n",
            "Epoch 18/50\n",
            "967/967 [==============================] - 14s 14ms/step - loss: 1.0132 - accuracy: 0.8329 - precision_2: 0.9670 - recall_2: 0.7873\n",
            "Epoch 19/50\n",
            "967/967 [==============================] - 14s 14ms/step - loss: 1.0128 - accuracy: 0.8323 - precision_2: 0.9651 - recall_2: 0.7876\n",
            "Epoch 20/50\n",
            "967/967 [==============================] - 14s 14ms/step - loss: 0.9996 - accuracy: 0.8345 - precision_2: 0.9660 - recall_2: 0.7897\n",
            "Epoch 21/50\n",
            "967/967 [==============================] - 14s 14ms/step - loss: 1.0075 - accuracy: 0.8284 - precision_2: 0.9631 - recall_2: 0.7876\n",
            "Epoch 22/50\n",
            "967/967 [==============================] - 14s 14ms/step - loss: 1.0178 - accuracy: 0.8273 - precision_2: 0.9626 - recall_2: 0.7833\n",
            "Epoch 23/50\n",
            "967/967 [==============================] - 14s 15ms/step - loss: 0.9983 - accuracy: 0.8332 - precision_2: 0.9662 - recall_2: 0.7920\n",
            "Epoch 24/50\n",
            "967/967 [==============================] - 14s 14ms/step - loss: 0.9927 - accuracy: 0.8333 - precision_2: 0.9654 - recall_2: 0.7930\n",
            "Epoch 25/50\n",
            "967/967 [==============================] - 14s 14ms/step - loss: 0.9925 - accuracy: 0.8317 - precision_2: 0.9634 - recall_2: 0.7908\n",
            "Epoch 26/50\n",
            "967/967 [==============================] - 14s 15ms/step - loss: 0.9729 - accuracy: 0.8360 - precision_2: 0.9666 - recall_2: 0.7981\n",
            "Epoch 27/50\n",
            "967/967 [==============================] - 14s 15ms/step - loss: 0.9833 - accuracy: 0.8320 - precision_2: 0.9645 - recall_2: 0.7936\n",
            "Epoch 28/50\n",
            "967/967 [==============================] - 14s 15ms/step - loss: 0.9704 - accuracy: 0.8357 - precision_2: 0.9662 - recall_2: 0.7974\n",
            "Epoch 29/50\n",
            "967/967 [==============================] - 14s 14ms/step - loss: 0.9872 - accuracy: 0.8311 - precision_2: 0.9654 - recall_2: 0.7928\n",
            "Epoch 30/50\n",
            "967/967 [==============================] - 14s 14ms/step - loss: 0.9822 - accuracy: 0.8320 - precision_2: 0.9634 - recall_2: 0.7914\n",
            "Epoch 31/50\n",
            "967/967 [==============================] - 14s 14ms/step - loss: 0.9689 - accuracy: 0.8338 - precision_2: 0.9641 - recall_2: 0.7947\n",
            "Epoch 32/50\n",
            "967/967 [==============================] - 14s 14ms/step - loss: 0.9600 - accuracy: 0.8366 - precision_2: 0.9668 - recall_2: 0.8000\n",
            "Epoch 33/50\n",
            "967/967 [==============================] - 14s 14ms/step - loss: 0.9617 - accuracy: 0.8351 - precision_2: 0.9656 - recall_2: 0.7980\n",
            "Epoch 34/50\n",
            "967/967 [==============================] - 14s 14ms/step - loss: 0.9697 - accuracy: 0.8320 - precision_2: 0.9638 - recall_2: 0.7950\n",
            "Epoch 35/50\n",
            "967/967 [==============================] - 14s 14ms/step - loss: 0.9666 - accuracy: 0.8339 - precision_2: 0.9639 - recall_2: 0.7958\n",
            "Epoch 36/50\n",
            "967/967 [==============================] - 14s 14ms/step - loss: 0.9528 - accuracy: 0.8340 - precision_2: 0.9628 - recall_2: 0.7987\n",
            "Epoch 37/50\n",
            "967/967 [==============================] - 14s 14ms/step - loss: 0.9385 - accuracy: 0.8355 - precision_2: 0.9651 - recall_2: 0.8018\n",
            "Epoch 38/50\n",
            "967/967 [==============================] - 14s 14ms/step - loss: 0.9464 - accuracy: 0.8366 - precision_2: 0.9652 - recall_2: 0.8011\n",
            "Epoch 39/50\n",
            "967/967 [==============================] - 14s 14ms/step - loss: 0.9508 - accuracy: 0.8336 - precision_2: 0.9633 - recall_2: 0.7982\n",
            "Epoch 40/50\n",
            "967/967 [==============================] - 14s 14ms/step - loss: 0.9286 - accuracy: 0.8379 - precision_2: 0.9658 - recall_2: 0.8031\n",
            "Epoch 41/50\n",
            "967/967 [==============================] - 14s 14ms/step - loss: 0.9392 - accuracy: 0.8342 - precision_2: 0.9636 - recall_2: 0.7999\n",
            "Epoch 42/50\n",
            "967/967 [==============================] - 14s 14ms/step - loss: 0.9446 - accuracy: 0.8328 - precision_2: 0.9630 - recall_2: 0.7996\n",
            "Epoch 43/50\n",
            "967/967 [==============================] - 14s 14ms/step - loss: 0.9380 - accuracy: 0.8362 - precision_2: 0.9635 - recall_2: 0.8011\n",
            "Epoch 44/50\n",
            "967/967 [==============================] - 14s 14ms/step - loss: 0.9428 - accuracy: 0.8333 - precision_2: 0.9642 - recall_2: 0.7992\n",
            "Epoch 45/50\n",
            "967/967 [==============================] - 14s 15ms/step - loss: 0.9301 - accuracy: 0.8378 - precision_2: 0.9651 - recall_2: 0.8045\n",
            "Epoch 46/50\n",
            "967/967 [==============================] - 14s 15ms/step - loss: 0.9158 - accuracy: 0.8386 - precision_2: 0.9651 - recall_2: 0.8063\n",
            "Epoch 47/50\n",
            "967/967 [==============================] - 14s 14ms/step - loss: 0.9371 - accuracy: 0.8348 - precision_2: 0.9645 - recall_2: 0.8029\n",
            "Epoch 48/50\n",
            "967/967 [==============================] - 14s 14ms/step - loss: 0.9245 - accuracy: 0.8355 - precision_2: 0.9641 - recall_2: 0.8047\n",
            "Epoch 49/50\n",
            "967/967 [==============================] - 14s 14ms/step - loss: 0.9164 - accuracy: 0.8411 - precision_2: 0.9653 - recall_2: 0.8078\n",
            "Epoch 50/50\n",
            "967/967 [==============================] - 14s 14ms/step - loss: 0.9072 - accuracy: 0.8397 - precision_2: 0.9653 - recall_2: 0.8082\n"
          ],
          "name": "stdout"
        }
      ]
    },
    {
      "cell_type": "code",
      "metadata": {
        "colab": {
          "base_uri": "https://localhost:8080/",
          "height": 545
        },
        "id": "1fXTEO3GJ282",
        "outputId": "05c8dc16-3f6b-4432-f1e5-131336e65725"
      },
      "source": [
        "import matplotlib.pyplot as plt\n",
        "acc = history.history['accuracy']\n",
        "loss = history.history['loss']\n",
        "precision = history.history['precision_2']\n",
        "recall = history.history['recall_2']\n",
        "\n",
        "epochs = range(len(acc))\n",
        "\n",
        "plt.plot(epochs, acc, label='Training accuracy')\n",
        "plt.plot(epochs, precision, label='Training precision')\n",
        "plt.plot(epochs, recall, label='Training recall')\n",
        "plt.title('Training accuracy, precision, and recall')\n",
        "plt.legend()\n",
        "\n",
        "plt.figure()\n",
        "plt.plot(epochs, loss, 'b', label='Training Loss')\n",
        "plt.title('Training loss')\n",
        "plt.legend()\n",
        "\n",
        "plt.show()"
      ],
      "execution_count": 19,
      "outputs": [
        {
          "output_type": "display_data",
          "data": {
            "image/png": "[encoded data removed]",
            "text/plain": [
              "<Figure size 432x288 with 1 Axes>"
            ]
          },
          "metadata": {
            "tags": [],
            "needs_background": "light"
          }
        },
        {
          "output_type": "display_data",
          "data": {
            "image/png": "[encoded data removed]",
            "text/plain": [
              "<Figure size 432x288 with 1 Axes>"
            ]
          },
          "metadata": {
            "tags": [],
            "needs_background": "light"
          }
        }
      ]
    },
    {
      "cell_type": "code",
      "metadata": {
        "colab": {
          "base_uri": "https://localhost:8080/"
        },
        "id": "6Vc6PHgxa6Hm",
        "outputId": "c127b45b-a581-4052-f856-cb733fe49c9b"
      },
      "source": [
        "seed_text = \"Help me Obi Wan Kenobi, you're my only hope\"\n",
        "next_words = 100\n",
        "  \n",
        "for _ in range(next_words):\n",
        "\ttoken_list = tokenizer.texts_to_sequences([seed_text])[0]\n",
        "\ttoken_list = pad_sequences([token_list], maxlen=max_sequence_len-1, padding='pre')\n",
        "\tpredicted = model.predict_classes(token_list, verbose=0)\n",
        "\toutput_word = \"\"\n",
        "\tfor word, index in tokenizer.word_index.items():\n",
        "\t\tif index == predicted:\n",
        "\t\t\toutput_word = word\n",
        "\t\t\tbreak\n",
        "\tseed_text += \" \" + output_word\n",
        "print(seed_text)"
      ],
      "execution_count": 20,
      "outputs": [
        {
          "output_type": "stream",
          "text": [
            "/usr/local/lib/python3.6/dist-packages/tensorflow/python/keras/engine/sequential.py:450: UserWarning: `model.predict_classes()` is deprecated and will be removed after 2021-01-01. Please use instead:* `np.argmax(model.predict(x), axis=-1)`,   if your model does multi-class classification   (e.g. if it uses a `softmax` last-layer activation).* `(model.predict(x) > 0.5).astype(\"int32\")`,   if your model does binary classification   (e.g. if it uses a `sigmoid` last-layer activation).\n",
            "  warnings.warn('`model.predict_classes()` is deprecated and '\n"
          ],
          "name": "stderr"
        },
        {
          "output_type": "stream",
          "text": [
            "Help me Obi Wan Kenobi, you're my only hope doth spend behind me white hearts rare indigest hill curious days much given could die not honour thought deep sunken thought do silent heart and pride all both date pride days outworn his shore vanish'd time hour doom and friend acquainted masonry eyed wantonly grossly thee keep an music tell happy night in light cross'd earthly cause and make thy side grown now water prepare the faces which sang foil'd stronger meet hot deceive reap altering an gently store leaves interchange words happy sea a dispatch ocean new worth are still me so bright worth their glory be best show'st\n"
          ],
          "name": "stdout"
        }
      ]
    },
    {
      "cell_type": "code",
      "metadata": {
        "id": "vj_3H5KwsoSy"
      },
      "source": [
        ""
      ],
      "execution_count": null,
      "outputs": []
    }
  ]
}