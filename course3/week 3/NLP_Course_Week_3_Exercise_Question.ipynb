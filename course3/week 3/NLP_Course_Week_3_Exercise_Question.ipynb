{
  "nbformat": 4,
  "nbformat_minor": 0,
  "metadata": {
    "accelerator": "GPU",
    "colab": {
      "name": "NLP Course - Week 3 Exercise Question.ipynb",
      "provenance": []
    },
    "kernelspec": {
      "display_name": "Python 3",
      "name": "python3"
    }
  },
  "cells": [
    {
      "cell_type": "code",
      "metadata": {
        "id": "zX4Kg8DUTKWO"
      },
      "source": [
        "#@title Licensed under the Apache License, Version 2.0 (the \"License\");\n",
        "# you may not use this file except in compliance with the License.\n",
        "# You may obtain a copy of the License at\n",
        "#\n",
        "# https://www.apache.org/licenses/LICENSE-2.0\n",
        "#\n",
        "# Unless required by applicable law or agreed to in writing, software\n",
        "# distributed under the License is distributed on an \"AS IS\" BASIS,\n",
        "# WITHOUT WARRANTIES OR CONDITIONS OF ANY KIND, either express or implied.\n",
        "# See the License for the specific language governing permissions and\n",
        "# limitations under the License."
      ],
      "execution_count": null,
      "outputs": []
    },
    {
      "cell_type": "code",
      "metadata": {
        "id": "hmA6EzkQJ5jt"
      },
      "source": [
        "import json\n",
        "import tensorflow as tf\n",
        "import csv\n",
        "import random\n",
        "import numpy as np\n",
        "\n",
        "from tensorflow.keras.preprocessing.text import Tokenizer\n",
        "from tensorflow.keras.preprocessing.sequence import pad_sequences\n",
        "from tensorflow.keras.utils import to_categorical\n",
        "from tensorflow.keras import regularizers\n",
        "\n",
        "\n",
        "embedding_dim = 100\n",
        "max_length = 16\n",
        "trunc_type = 'post'\n",
        "padding_type = 'post'\n",
        "oov_tok = \"<OOV>\"\n",
        "training_size = 200000 #Your dataset size here. Experiment using smaller values (i.e. 16000), but don't forget to train on at least 160000 to see the best effects\n",
        "test_portion = .1\n",
        "\n",
        "corpus = []\n"
      ],
      "execution_count": 72,
      "outputs": []
    },
    {
      "cell_type": "code",
      "metadata": {
        "colab": {
          "base_uri": "https://localhost:8080/"
        },
        "id": "bM0l_dORKqE0",
        "outputId": "c84e96f7-ea6b-442d-924c-45589ce7b93c"
      },
      "source": [
        "# Note that I cleaned the Stanford dataset to remove LATIN1 encoding to make it easier for Python CSV reader\n",
        "# You can do that yourself with:\n",
        "# iconv -f LATIN1 -t UTF8 training.1600000.processed.noemoticon.csv -o training_cleaned.csv\n",
        "# I then hosted it on my site to make it easier to use in this notebook\n",
        "\n",
        "!wget --no-check-certificate \\\n",
        "    https://storage.googleapis.com/laurencemoroney-blog.appspot.com/training_cleaned.csv \\\n",
        "    -O /tmp/training_cleaned.csv"
      ],
      "execution_count": 2,
      "outputs": [
        {
          "output_type": "stream",
          "text": [
            "--2021-01-17 08:56:46--  https://storage.googleapis.com/laurencemoroney-blog.appspot.com/training_cleaned.csv\n",
            "Resolving storage.googleapis.com (storage.googleapis.com)... 142.250.31.128, 172.217.2.112, 172.217.164.144, ...\n",
            "Connecting to storage.googleapis.com (storage.googleapis.com)|142.250.31.128|:443... connected.\n",
            "HTTP request sent, awaiting response... 200 OK\n",
            "Length: 238942690 (228M) [application/octet-stream]\n",
            "Saving to: ‘/tmp/training_cleaned.csv’\n",
            "\n",
            "/tmp/training_clean 100%[===================>] 227.87M   220MB/s    in 1.0s    \n",
            "\n",
            "2021-01-17 08:56:47 (220 MB/s) - ‘/tmp/training_cleaned.csv’ saved [238942690/238942690]\n",
            "\n"
          ],
          "name": "stdout"
        }
      ]
    },
    {
      "cell_type": "code",
      "metadata": {
        "id": "yZhOvFIyktpg"
      },
      "source": [
        "with open(\"/tmp/training_cleaned.csv\") as csvfile:\r\n",
        "    reader = csv.reader(csvfile, delimiter=',')\r\n",
        "    for row in reader:\r\n",
        "        pass"
      ],
      "execution_count": null,
      "outputs": []
    },
    {
      "cell_type": "code",
      "metadata": {
        "id": "FrPn3ccbkekq",
        "outputId": "959b4fa9-107c-47cf-8b0b-66c0bf200408",
        "colab": {
          "base_uri": "https://localhost:8080/"
        }
      },
      "source": [
        "row"
      ],
      "execution_count": 4,
      "outputs": [
        {
          "output_type": "execute_result",
          "data": {
            "text/plain": [
              "['4',\n",
              " '2193602129',\n",
              " 'Tue Jun 16 08:40:50 PDT 2009',\n",
              " 'NO_QUERY',\n",
              " 'RyanTrevMorris',\n",
              " 'happy #charitytuesday @theNSPCC @SparksCharity @SpeakingUpH4H ']"
            ]
          },
          "metadata": {
            "tags": []
          },
          "execution_count": 4
        }
      ]
    },
    {
      "cell_type": "code",
      "metadata": {
        "id": "yiyixTQWkVzp"
      },
      "source": [
        "num_sentences = 0\r\n",
        "\r\n",
        "with open(\"/tmp/training_cleaned.csv\") as csvfile:\r\n",
        "    reader = csv.reader(csvfile, delimiter=',')\r\n",
        "    for row in reader:\r\n",
        "      # Your Code here. Create list items where the first item is the text, found in row[5], and the second is the label. Note that the label is a '0' or a '4' in the text. When it's the former, make\r\n",
        "      # your label to be 0, otherwise 1. Keep a count of the number of sentences in num_sentences\r\n",
        "        list_item=[row[5], 0 if row[0] == '0' else 1]\r\n",
        "        # YOUR CODE HERE\r\n",
        "        num_sentences = num_sentences + 1\r\n",
        "        corpus.append(list_item)"
      ],
      "execution_count": 73,
      "outputs": []
    },
    {
      "cell_type": "code",
      "metadata": {
        "colab": {
          "base_uri": "https://localhost:8080/"
        },
        "id": "3kxblBUjEUX-",
        "outputId": "2bd1d003-1f1d-4219-e4d3-6904a881f257"
      },
      "source": [
        "print(num_sentences)\n",
        "print(len(corpus))\n",
        "print(corpus[1])\n",
        "\n",
        "# Expected Output:\n",
        "# 1600000\n",
        "# 1600000\n",
        "# [\"is upset that he can't update his Facebook by texting it... and might cry as a result  School today also. Blah!\", 0]"
      ],
      "execution_count": 74,
      "outputs": [
        {
          "output_type": "stream",
          "text": [
            "1600000\n",
            "1600000\n",
            "[\"is upset that he can't update his Facebook by texting it... and might cry as a result  School today also. Blah!\", 0]\n"
          ],
          "name": "stdout"
        }
      ]
    },
    {
      "cell_type": "code",
      "metadata": {
        "id": "ohOGz24lsNAD"
      },
      "source": [
        "# shuffle dataset\n",
        "random.seed(1) # set seed\n",
        "\n",
        "sentences=[]\n",
        "labels=[]\n",
        "\n",
        "random.shuffle(corpus)\n",
        "for x in range(training_size):\n",
        "    sentences.append(corpus[x][0])\n",
        "    labels.append(corpus[x][1])\n",
        "\n",
        "\n",
        "# instantiate Tokenizer\n",
        "tokenizer = Tokenizer()\n",
        "tokenizer.fit_on_texts(sentences)\n",
        "\n",
        "word_index = tokenizer.word_index\n",
        "vocab_size=len(word_index)\n",
        "\n",
        "sequences = tokenizer.texts_to_sequences(sentences)\n",
        "padded = pad_sequences(sequences, maxlen=max_length, truncating=trunc_type, padding=padding_type)"
      ],
      "execution_count": 75,
      "outputs": []
    },
    {
      "cell_type": "code",
      "metadata": {
        "id": "JcjuI1bJzrlG"
      },
      "source": [
        "# split training set and test set\r\n",
        "split = int(test_portion * training_size)\r\n",
        "\r\n",
        "test_sequences = padded[:split]\r\n",
        "training_sequences = padded[split:]\r\n",
        "test_labels = np.array(labels[:split])\r\n",
        "training_labels = np.array(labels[split:])"
      ],
      "execution_count": 78,
      "outputs": []
    },
    {
      "cell_type": "code",
      "metadata": {
        "colab": {
          "base_uri": "https://localhost:8080/"
        },
        "id": "gIrtRem1En3N",
        "outputId": "0994d617-9167-4563-d053-03e497d869a9"
      },
      "source": [
        "print(vocab_size)\n",
        "print(word_index['i'])\n",
        "# Expected Output\n",
        "# 138858\n",
        "# 1"
      ],
      "execution_count": 79,
      "outputs": [
        {
          "output_type": "stream",
          "text": [
            "163202\n",
            "1\n"
          ],
          "name": "stdout"
        }
      ]
    },
    {
      "cell_type": "code",
      "metadata": {
        "id": "C1zdgJkusRh0"
      },
      "source": [
        "# Note this is the 100 dimension version of GloVe from Stanford\n",
        "# I unzipped and hosted it on my site to make this notebook easier\n",
        "!wget --no-check-certificate \\\n",
        "    https://storage.googleapis.com/laurencemoroney-blog.appspot.com/glove.6B.100d.txt \\\n",
        "    -O /tmp/glove.6B.100d.txt\n",
        "\n",
        "embeddings_index = {};\n",
        "\n",
        "with open('/tmp/glove.6B.100d.txt') as f:\n",
        "    for line in f:\n",
        "        values = line.split();\n",
        "        word = values[0];\n",
        "        coefs = np.asarray(values[1:], dtype='float32');\n",
        "        embeddings_index[word] = coefs;\n",
        "\n",
        "embeddings_matrix = np.zeros((vocab_size+1, embedding_dim));\n",
        "for word, i in word_index.items():\n",
        "    embedding_vector = embeddings_index.get(word);\n",
        "    if embedding_vector is not None:\n",
        "        embeddings_matrix[i] = embedding_vector;"
      ],
      "execution_count": 80,
      "outputs": []
    },
    {
      "cell_type": "code",
      "metadata": {
        "colab": {
          "base_uri": "https://localhost:8080/"
        },
        "id": "71NLk_lpFLNt",
        "outputId": "14966832-cd86-494c-cbc1-2f59e72e8483"
      },
      "source": [
        "print(len(embeddings_matrix))\n",
        "# Expected Output\n",
        "# 138859"
      ],
      "execution_count": 81,
      "outputs": [
        {
          "output_type": "stream",
          "text": [
            "163203\n"
          ],
          "name": "stdout"
        }
      ]
    },
    {
      "cell_type": "code",
      "metadata": {
        "id": "hDRohIYJo8Mh",
        "outputId": "170f2e76-0179-4dbb-ceb9-d7114a2141b7",
        "colab": {
          "base_uri": "https://localhost:8080/"
        }
      },
      "source": [
        "embeddings_matrix.shape"
      ],
      "execution_count": 82,
      "outputs": [
        {
          "output_type": "execute_result",
          "data": {
            "text/plain": [
              "(163203, 100)"
            ]
          },
          "metadata": {
            "tags": []
          },
          "execution_count": 82
        }
      ]
    },
    {
      "cell_type": "code",
      "metadata": {
        "id": "iKKvbuEBOGFz"
      },
      "source": [
        "model = tf.keras.Sequential([\n",
        "    tf.keras.layers.Embedding(vocab_size+1, embedding_dim, input_length=max_length, weights=[embeddings_matrix], trainable=False),\n",
        "    # YOUR CODE HERE - experiment with combining different types, such as convolutions and LSTMs\n",
        "    tf.keras.layers.Dropout(rate=0.2),\n",
        "    tf.keras.layers.Conv1D(filters=64, kernel_size=5, activation='relu'),\n",
        "    tf.keras.layers.MaxPool1D(),\n",
        "    # tf.keras.layers.Conv1D(filters=128, kernel_size=3, activation='relu'),\n",
        "    # tf.keras.layers.MaxPool1D(),\n",
        "    # tf.keras.layers.Bidirectional(tf.keras.layers.LSTM(units=64, return_sequences=True)),\n",
        "    tf.keras.layers.Bidirectional(tf.keras.layers.LSTM(units=32)),\n",
        "    tf.keras.layers.Flatten(),\n",
        "    tf.keras.layers.Dense(units=16, activation='relu'),\n",
        "    tf.keras.layers.Dense(units=1, activation='sigmoid')\n",
        "], name='week3_exercise_question_model')"
      ],
      "execution_count": 100,
      "outputs": []
    },
    {
      "cell_type": "code",
      "metadata": {
        "id": "wFHvwAbrsFLN",
        "outputId": "4580accf-f3e4-4709-9706-ba0da73dc6d6",
        "colab": {
          "base_uri": "https://localhost:8080/"
        }
      },
      "source": [
        "model.compile(optimizer='adam', loss='binary_crossentropy', metrics=['accuracy'])\r\n",
        "model.summary()"
      ],
      "execution_count": 101,
      "outputs": [
        {
          "output_type": "stream",
          "text": [
            "Model: \"week3_exercise_question_model\"\n",
            "_________________________________________________________________\n",
            "Layer (type)                 Output Shape              Param #   \n",
            "=================================================================\n",
            "embedding_16 (Embedding)     (None, 16, 100)           16320300  \n",
            "_________________________________________________________________\n",
            "dropout_5 (Dropout)          (None, 16, 100)           0         \n",
            "_________________________________________________________________\n",
            "conv1d_24 (Conv1D)           (None, 12, 64)            32064     \n",
            "_________________________________________________________________\n",
            "max_pooling1d_24 (MaxPooling (None, 6, 64)             0         \n",
            "_________________________________________________________________\n",
            "bidirectional_32 (Bidirectio (None, 64)                24832     \n",
            "_________________________________________________________________\n",
            "flatten_16 (Flatten)         (None, 64)                0         \n",
            "_________________________________________________________________\n",
            "dense_30 (Dense)             (None, 16)                1040      \n",
            "_________________________________________________________________\n",
            "dense_31 (Dense)             (None, 1)                 17        \n",
            "=================================================================\n",
            "Total params: 16,378,253\n",
            "Trainable params: 57,953\n",
            "Non-trainable params: 16,320,300\n",
            "_________________________________________________________________\n"
          ],
          "name": "stdout"
        }
      ]
    },
    {
      "cell_type": "code",
      "metadata": {
        "id": "kT5co2-eq9EP",
        "outputId": "6c772d01-b8ff-44f7-b5d5-eabb5d83f3f3",
        "colab": {
          "base_uri": "https://localhost:8080/"
        }
      },
      "source": [
        "num_epochs = 20\r\n",
        "history = model.fit(training_sequences, training_labels, epochs=num_epochs, validation_data=(test_sequences, test_labels), batch_size=32)\r\n",
        "\r\n",
        "print(\"Training Complete\")"
      ],
      "execution_count": 102,
      "outputs": [
        {
          "output_type": "stream",
          "text": [
            "Epoch 1/20\n",
            "5625/5625 [==============================] - 35s 6ms/step - loss: 0.5887 - accuracy: 0.6792 - val_loss: 0.5122 - val_accuracy: 0.7441\n",
            "Epoch 2/20\n",
            "5625/5625 [==============================] - 32s 6ms/step - loss: 0.5210 - accuracy: 0.7359 - val_loss: 0.5119 - val_accuracy: 0.7448\n",
            "Epoch 3/20\n",
            "5625/5625 [==============================] - 33s 6ms/step - loss: 0.5036 - accuracy: 0.7485 - val_loss: 0.4945 - val_accuracy: 0.7570\n",
            "Epoch 4/20\n",
            "5625/5625 [==============================] - 32s 6ms/step - loss: 0.4940 - accuracy: 0.7557 - val_loss: 0.4895 - val_accuracy: 0.7620\n",
            "Epoch 5/20\n",
            "5625/5625 [==============================] - 32s 6ms/step - loss: 0.4830 - accuracy: 0.7646 - val_loss: 0.4907 - val_accuracy: 0.7588\n",
            "Epoch 6/20\n",
            "5625/5625 [==============================] - 33s 6ms/step - loss: 0.4780 - accuracy: 0.7658 - val_loss: 0.4897 - val_accuracy: 0.7613\n",
            "Epoch 7/20\n",
            "5625/5625 [==============================] - 31s 6ms/step - loss: 0.4720 - accuracy: 0.7686 - val_loss: 0.4919 - val_accuracy: 0.7603\n",
            "Epoch 8/20\n",
            "5625/5625 [==============================] - 31s 6ms/step - loss: 0.4676 - accuracy: 0.7719 - val_loss: 0.4886 - val_accuracy: 0.7620\n",
            "Epoch 9/20\n",
            "5625/5625 [==============================] - 32s 6ms/step - loss: 0.4615 - accuracy: 0.7757 - val_loss: 0.4882 - val_accuracy: 0.7613\n",
            "Epoch 10/20\n",
            "5625/5625 [==============================] - 32s 6ms/step - loss: 0.4602 - accuracy: 0.7772 - val_loss: 0.4906 - val_accuracy: 0.7606\n",
            "Epoch 11/20\n",
            "5625/5625 [==============================] - 32s 6ms/step - loss: 0.4575 - accuracy: 0.7778 - val_loss: 0.4923 - val_accuracy: 0.7613\n",
            "Epoch 12/20\n",
            "5625/5625 [==============================] - 32s 6ms/step - loss: 0.4564 - accuracy: 0.7791 - val_loss: 0.4907 - val_accuracy: 0.7598\n",
            "Epoch 13/20\n",
            "5625/5625 [==============================] - 31s 6ms/step - loss: 0.4511 - accuracy: 0.7824 - val_loss: 0.4948 - val_accuracy: 0.7603\n",
            "Epoch 14/20\n",
            "5625/5625 [==============================] - 31s 6ms/step - loss: 0.4482 - accuracy: 0.7822 - val_loss: 0.4975 - val_accuracy: 0.7588\n",
            "Epoch 15/20\n",
            "5625/5625 [==============================] - 32s 6ms/step - loss: 0.4477 - accuracy: 0.7827 - val_loss: 0.4936 - val_accuracy: 0.7607\n",
            "Epoch 16/20\n",
            "5625/5625 [==============================] - 31s 6ms/step - loss: 0.4481 - accuracy: 0.7844 - val_loss: 0.4950 - val_accuracy: 0.7613\n",
            "Epoch 17/20\n",
            "5625/5625 [==============================] - 31s 6ms/step - loss: 0.4440 - accuracy: 0.7867 - val_loss: 0.4899 - val_accuracy: 0.7602\n",
            "Epoch 18/20\n",
            "5625/5625 [==============================] - 31s 5ms/step - loss: 0.4435 - accuracy: 0.7861 - val_loss: 0.4913 - val_accuracy: 0.7610\n",
            "Epoch 19/20\n",
            "5625/5625 [==============================] - 31s 6ms/step - loss: 0.4440 - accuracy: 0.7858 - val_loss: 0.5007 - val_accuracy: 0.7622\n",
            "Epoch 20/20\n",
            "5625/5625 [==============================] - 31s 6ms/step - loss: 0.4415 - accuracy: 0.7875 - val_loss: 0.4957 - val_accuracy: 0.7630\n",
            "Training Complete\n"
          ],
          "name": "stdout"
        }
      ]
    },
    {
      "cell_type": "code",
      "metadata": {
        "colab": {
          "base_uri": "https://localhost:8080/",
          "height": 606
        },
        "id": "qxju4ItJKO8F",
        "outputId": "fe5f535d-0528-473c-ef1f-3007964c4386"
      },
      "source": [
        "import matplotlib.image  as mpimg\n",
        "import matplotlib.pyplot as plt\n",
        "\n",
        "#-----------------------------------------------------------\n",
        "# Retrieve a list of list results on training and test data\n",
        "# sets for each training epoch\n",
        "#-----------------------------------------------------------\n",
        "acc=history.history['accuracy']\n",
        "val_acc=history.history['val_accuracy']\n",
        "loss=history.history['loss']\n",
        "val_loss=history.history['val_loss']\n",
        "\n",
        "epochs=range(len(acc)) # Get number of epochs\n",
        "\n",
        "#------------------------------------------------\n",
        "# Plot training and validation accuracy per epoch\n",
        "#------------------------------------------------\n",
        "plt.plot(epochs, acc, 'r')\n",
        "plt.plot(epochs, val_acc, 'b')\n",
        "plt.title('Training and validation accuracy')\n",
        "plt.xlabel(\"Epochs\")\n",
        "plt.ylabel(\"Accuracy\")\n",
        "plt.legend([\"Accuracy\", \"Validation Accuracy\"])\n",
        "\n",
        "plt.figure()\n",
        "\n",
        "#------------------------------------------------\n",
        "# Plot training and validation loss per epoch\n",
        "#------------------------------------------------\n",
        "plt.plot(epochs, loss, 'r')\n",
        "plt.plot(epochs, val_loss, 'b')\n",
        "plt.title('Training and validation loss')\n",
        "plt.xlabel(\"Epochs\")\n",
        "plt.ylabel(\"Loss\")\n",
        "plt.legend([\"Loss\", \"Validation Loss\"])\n",
        "\n",
        "plt.figure()\n",
        "\n",
        "\n",
        "# Expected Output\n",
        "# A chart where the validation loss does not increase sharply!"
      ],
      "execution_count": 103,
      "outputs": [
        {
          "output_type": "execute_result",
          "data": {
            "text/plain": [
              "<Figure size 432x288 with 0 Axes>"
            ]
          },
          "metadata": {
            "tags": []
          },
          "execution_count": 103
        },
        {
          "output_type": "display_data",
          "data": {
            "image/png": "[encoded data removed]",
            "text/plain": [
              "<Figure size 432x288 with 1 Axes>"
            ]
          },
          "metadata": {
            "tags": [],
            "needs_background": "light"
          }
        },
        {
          "output_type": "display_data",
          "data": {
            "image/png": "[encoded data removed]",
            "text/plain": [
              "<Figure size 432x288 with 1 Axes>"
            ]
          },
          "metadata": {
            "tags": [],
            "needs_background": "light"
          }
        },
        {
          "output_type": "display_data",
          "data": {
            "text/plain": [
              "<Figure size 432x288 with 0 Axes>"
            ]
          },
          "metadata": {
            "tags": []
          }
        }
      ]
    },
    {
      "cell_type": "code",
      "metadata": {
        "id": "w5QHJ-ToEKPj"
      },
      "source": [
        ""
      ],
      "execution_count": null,
      "outputs": []
    }
  ]
}