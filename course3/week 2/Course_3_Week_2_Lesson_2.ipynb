{
  "nbformat": 4,
  "nbformat_minor": 0,
  "metadata": {
    "accelerator": "GPU",
    "colab": {
      "name": "Course 3 - Week 2 - Lesson 2.ipynb",
      "provenance": [],
      "collapsed_sections": []
    },
    "kernelspec": {
      "display_name": "Python 3",
      "name": "python3"
    }
  },
  "cells": [
    {
      "cell_type": "code",
      "metadata": {
        "id": "zX4Kg8DUTKWO"
      },
      "source": [
        "#@title Licensed under the Apache License, Version 2.0 (the \"License\");\n",
        "# you may not use this file except in compliance with the License.\n",
        "# You may obtain a copy of the License at\n",
        "#\n",
        "# https://www.apache.org/licenses/LICENSE-2.0\n",
        "#\n",
        "# Unless required by applicable law or agreed to in writing, software\n",
        "# distributed under the License is distributed on an \"AS IS\" BASIS,\n",
        "# WITHOUT WARRANTIES OR CONDITIONS OF ANY KIND, either express or implied.\n",
        "# See the License for the specific language governing permissions and\n",
        "# limitations under the License."
      ],
      "execution_count": null,
      "outputs": []
    },
    {
      "cell_type": "markdown",
      "metadata": {
        "id": "view-in-github"
      },
      "source": [
        "<a href=\"https://colab.research.google.com/github/lmoroney/dlaicourse/blob/master/TensorFlow%20In%20Practice/Course%203%20-%20NLP/Course%203%20-%20Week%202%20-%20Lesson%202.ipynb\" target=\"_parent\"><img src=\"https://colab.research.google.com/assets/colab-badge.svg\" alt=\"Open In Colab\"/></a>"
      ]
    },
    {
      "cell_type": "code",
      "metadata": {
        "id": "4gs9htvM7n_x"
      },
      "source": [
        "# Run this to ensure TensorFlow 2.x is used\n",
        "try:\n",
        "  # %tensorflow_version only exists in Colab.\n",
        "  %tensorflow_version 2.x\n",
        "except Exception:\n",
        "  pass"
      ],
      "execution_count": 1,
      "outputs": []
    },
    {
      "cell_type": "code",
      "metadata": {
        "id": "XYYDvoskkE61"
      },
      "source": [
        "import json\n",
        "import tensorflow as tf\n",
        "\n",
        "from tensorflow.keras.preprocessing.text import Tokenizer\n",
        "from tensorflow.keras.preprocessing.sequence import pad_sequences"
      ],
      "execution_count": 2,
      "outputs": []
    },
    {
      "cell_type": "code",
      "metadata": {
        "id": "dWXCgsrT6Uou"
      },
      "source": [
        "# set hyperparameters\r\n",
        "vocab_size = 7000\r\n",
        "embedding_dim = 16\r\n",
        "max_length = 100\r\n",
        "trunc_type = 'post'\r\n",
        "padding_type = 'post'\r\n",
        "oov_tok = '<OOV>'\r\n",
        "training_size = 20000\r\n",
        "num_epochs = 30\r\n",
        "\r\n",
        "# set hyperparameters\r\n",
        "# vocab_size = 10000\r\n",
        "# embedding_dim = 16\r\n",
        "# max_length = 100\r\n",
        "# trunc_type = 'post'\r\n",
        "# padding_type = 'post'\r\n",
        "# oov_tok = '<OOV>'\r\n",
        "# training_size = 20000\r\n",
        "# num_epochs = 30"
      ],
      "execution_count": 34,
      "outputs": []
    },
    {
      "cell_type": "code",
      "metadata": {
        "colab": {
          "base_uri": "https://localhost:8080/"
        },
        "id": "BQVuQrZNkPn9",
        "outputId": "0c82a04f-7b0c-4e1d-f754-b2dcb50dfe95"
      },
      "source": [
        "# download dataset\n",
        "!wget --no-check-certificate \\\n",
        "    https://storage.googleapis.com/laurencemoroney-blog.appspot.com/sarcasm.json \\\n",
        "    -O /tmp/sarcasm.json"
      ],
      "execution_count": 4,
      "outputs": [
        {
          "output_type": "stream",
          "text": [
            "--2021-01-16 08:55:59--  https://storage.googleapis.com/laurencemoroney-blog.appspot.com/sarcasm.json\n",
            "Resolving storage.googleapis.com (storage.googleapis.com)... 74.125.142.128, 172.253.117.128, 74.125.195.128, ...\n",
            "Connecting to storage.googleapis.com (storage.googleapis.com)|74.125.142.128|:443... connected.\n",
            "HTTP request sent, awaiting response... 200 OK\n",
            "Length: 5643545 (5.4M) [application/json]\n",
            "Saving to: ‘/tmp/sarcasm.json’\n",
            "\n",
            "\r/tmp/sarcasm.json     0%[                    ]       0  --.-KB/s               \r/tmp/sarcasm.json   100%[===================>]   5.38M  --.-KB/s    in 0.05s   \n",
            "\n",
            "2021-01-16 08:55:59 (107 MB/s) - ‘/tmp/sarcasm.json’ saved [5643545/5643545]\n",
            "\n"
          ],
          "name": "stdout"
        }
      ]
    },
    {
      "cell_type": "code",
      "metadata": {
        "id": "JtkA03MB6rWZ"
      },
      "source": [
        "# open and read dataset\r\n",
        "with open('/tmp/sarcasm.json', 'r') as jsonfile:\r\n",
        "    datastore = json.load(jsonfile)"
      ],
      "execution_count": 5,
      "outputs": []
    },
    {
      "cell_type": "code",
      "metadata": {
        "id": "ih4l-7vc67Pt",
        "outputId": "db59e686-81ce-4c15-98e1-a07d554eb84e",
        "colab": {
          "base_uri": "https://localhost:8080/"
        }
      },
      "source": [
        "datastore[0]"
      ],
      "execution_count": 8,
      "outputs": [
        {
          "output_type": "execute_result",
          "data": {
            "text/plain": [
              "{'article_link': 'https://www.huffingtonpost.com/entry/versace-black-code_us_5861fbefe4b0de3a08f600d5',\n",
              " 'headline': \"former versace store clerk sues over secret 'black code' for minority shoppers\",\n",
              " 'is_sarcastic': 0}"
            ]
          },
          "metadata": {
            "tags": []
          },
          "execution_count": 8
        }
      ]
    },
    {
      "cell_type": "code",
      "metadata": {
        "id": "rmK9hj_U635u"
      },
      "source": [
        "# split the dataset into sentences and labels\r\n",
        "sentences = []\r\n",
        "labels = []\r\n",
        "\r\n",
        "for i in datastore:\r\n",
        "    sentences.append(i['headline'])\r\n",
        "    labels.append(i['is_sarcastic'])"
      ],
      "execution_count": 6,
      "outputs": []
    },
    {
      "cell_type": "code",
      "metadata": {
        "id": "OMSn4-lifbTr",
        "outputId": "7a13e7be-404c-4276-fe13-2876b5f31426",
        "colab": {
          "base_uri": "https://localhost:8080/"
        }
      },
      "source": [
        "print('total texts:', len(sentences))"
      ],
      "execution_count": 33,
      "outputs": [
        {
          "output_type": "stream",
          "text": [
            "total texts: 26709\n"
          ],
          "name": "stdout"
        }
      ]
    },
    {
      "cell_type": "code",
      "metadata": {
        "id": "4Wc_KjVk7VTx"
      },
      "source": [
        "# split training and test sets\r\n",
        "train_sentences = sentences[:training_size]\r\n",
        "test_sentences = sentences[training_size:]\r\n",
        "\r\n",
        "train_labels = labels[:training_size]\r\n",
        "test_labels = labels[training_size:]"
      ],
      "execution_count": 7,
      "outputs": []
    },
    {
      "cell_type": "code",
      "metadata": {
        "id": "rnW-LbGa7sER"
      },
      "source": [
        "# instantiate Tokenizer and fit on the texts\r\n",
        "tokenizer = Tokenizer(num_words=vocab_size, oov_token=oov_tok)\r\n",
        "tokenizer.fit_on_texts(train_sentences)"
      ],
      "execution_count": 35,
      "outputs": []
    },
    {
      "cell_type": "code",
      "metadata": {
        "id": "ZmE2YhL_8PWS"
      },
      "source": [
        "# get useful info about the texts\r\n",
        "word_index = tokenizer.word_index\r\n",
        "word_count = tokenizer.word_counts\r\n",
        "index_word = tokenizer.index_word"
      ],
      "execution_count": 36,
      "outputs": []
    },
    {
      "cell_type": "code",
      "metadata": {
        "id": "_qJJQ6b08GTq",
        "outputId": "7ecee181-f6f8-4408-d734-c6aa8352a43d",
        "colab": {
          "base_uri": "https://localhost:8080/"
        }
      },
      "source": [
        "# most frequent words\r\n",
        "[(k, v) for k, v in word_count.items() if v > 2000]"
      ],
      "execution_count": 18,
      "outputs": [
        {
          "output_type": "execute_result",
          "data": {
            "text/plain": [
              "[('for', 2490),\n",
              " ('the', 3906),\n",
              " ('to', 6202),\n",
              " ('in', 3158),\n",
              " ('a', 2318),\n",
              " ('of', 4267)]"
            ]
          },
          "metadata": {
            "tags": []
          },
          "execution_count": 18
        }
      ]
    },
    {
      "cell_type": "code",
      "metadata": {
        "id": "4UbJ3Hx09eix"
      },
      "source": [
        "# convert training sentences to encoded tokens then pad them\r\n",
        "train_sequences = tokenizer.texts_to_sequences(train_sentences)\r\n",
        "train_padded = pad_sequences(train_sequences, maxlen=max_length, padding=padding_type, truncating=trunc_type)"
      ],
      "execution_count": 37,
      "outputs": []
    },
    {
      "cell_type": "code",
      "metadata": {
        "id": "NoUOOex_aeBi"
      },
      "source": [
        "# convert test sentences to encoded tokens then pad them\r\n",
        "test_sequences = tokenizer.texts_to_sequences(test_sentences)\r\n",
        "test_padded = pad_sequences(test_sequences, maxlen=max_length, padding=padding_type, truncating=trunc_type)"
      ],
      "execution_count": 38,
      "outputs": []
    },
    {
      "cell_type": "code",
      "metadata": {
        "id": "GrAlWBKf99Ya"
      },
      "source": [
        "# Need this block to get it to work with TensorFlow 2.x\n",
        "import numpy as np\n",
        "\n",
        "train_padded = np.array(train_padded)\n",
        "train_labels = np.array(train_labels)\n",
        "\n",
        "test_padded = np.array(test_padded)\n",
        "test_labels = np.array(test_labels)"
      ],
      "execution_count": 39,
      "outputs": []
    },
    {
      "cell_type": "code",
      "metadata": {
        "id": "d_zrjNRxbHjR"
      },
      "source": [
        "# define model\r\n",
        "model = tf.keras.Sequential(name='course3_week2_lesson2_model')\r\n",
        "model.add(tf.keras.layers.Embedding(input_dim=vocab_size, output_dim=embedding_dim, input_length=max_length))\r\n",
        "model.add(tf.keras.layers.GlobalAveragePooling1D())\r\n",
        "model.add(tf.keras.layers.Dense(units=32, activation=tf.keras.layers.LeakyReLU(alpha=0.1)))\r\n",
        "model.add(tf.keras.layers.Dense(units=1, activation='sigmoid'))\r\n",
        "\r\n",
        "model.compile(optimizer='adam', loss='binary_crossentropy', metrics=['acc'])"
      ],
      "execution_count": 45,
      "outputs": []
    },
    {
      "cell_type": "code",
      "metadata": {
        "colab": {
          "base_uri": "https://localhost:8080/"
        },
        "id": "XfDt1hmYkiys",
        "outputId": "5379a433-2b53-40cb-8c01-b2f7d51d1af9"
      },
      "source": [
        "model.summary()"
      ],
      "execution_count": 41,
      "outputs": [
        {
          "output_type": "stream",
          "text": [
            "Model: \"course3_week2_lesson2_model\"\n",
            "_________________________________________________________________\n",
            "Layer (type)                 Output Shape              Param #   \n",
            "=================================================================\n",
            "embedding_2 (Embedding)      (None, 100, 16)           112000    \n",
            "_________________________________________________________________\n",
            "global_average_pooling1d_2 ( (None, 16)                0         \n",
            "_________________________________________________________________\n",
            "dense_4 (Dense)              (None, 32)                544       \n",
            "_________________________________________________________________\n",
            "dense_5 (Dense)              (None, 1)                 33        \n",
            "=================================================================\n",
            "Total params: 112,577\n",
            "Trainable params: 112,577\n",
            "Non-trainable params: 0\n",
            "_________________________________________________________________\n"
          ],
          "name": "stdout"
        }
      ]
    },
    {
      "cell_type": "code",
      "metadata": {
        "id": "wZAo-KXcf47c"
      },
      "source": [
        "# define callback\r\n",
        "class myCallback(tf.keras.callbacks.Callback):\r\n",
        "    def on_epoch_end(self, epoch, logs={}):\r\n",
        "        if logs.get('acc') > 0.92:\r\n",
        "            print('\\ntraining reached accuracy more than 92% in training set. Training terminated')\r\n",
        "            self.model.stop_training = True\r\n",
        "\r\n",
        "callback = myCallback()"
      ],
      "execution_count": 42,
      "outputs": []
    },
    {
      "cell_type": "code",
      "metadata": {
        "id": "uJeTZY5pcWmU",
        "outputId": "05f43685-c5a3-4e37-a406-4e213fb6c43d",
        "colab": {
          "base_uri": "https://localhost:8080/"
        }
      },
      "source": [
        "history = model.fit(x=train_padded, y=train_labels, epochs=num_epochs, validation_data=(test_padded, test_labels)) #callbacks=[callback]"
      ],
      "execution_count": 46,
      "outputs": [
        {
          "output_type": "stream",
          "text": [
            "Epoch 1/30\n",
            "625/625 [==============================] - 3s 4ms/step - loss: 0.6795 - acc: 0.5686 - val_loss: 0.4897 - val_acc: 0.7961\n",
            "Epoch 2/30\n",
            "625/625 [==============================] - 2s 4ms/step - loss: 0.4131 - acc: 0.8280 - val_loss: 0.3658 - val_acc: 0.8459\n",
            "Epoch 3/30\n",
            "625/625 [==============================] - 2s 4ms/step - loss: 0.2947 - acc: 0.8795 - val_loss: 0.3480 - val_acc: 0.8517\n",
            "Epoch 4/30\n",
            "625/625 [==============================] - 2s 4ms/step - loss: 0.2430 - acc: 0.9058 - val_loss: 0.3502 - val_acc: 0.8498\n",
            "Epoch 5/30\n",
            "625/625 [==============================] - 2s 4ms/step - loss: 0.2210 - acc: 0.9128 - val_loss: 0.3634 - val_acc: 0.8430\n",
            "Epoch 6/30\n",
            "625/625 [==============================] - 2s 4ms/step - loss: 0.2023 - acc: 0.9233 - val_loss: 0.3819 - val_acc: 0.8429\n",
            "Epoch 7/30\n",
            "625/625 [==============================] - 2s 4ms/step - loss: 0.1790 - acc: 0.9310 - val_loss: 0.3954 - val_acc: 0.8408\n",
            "Epoch 8/30\n",
            "625/625 [==============================] - 2s 4ms/step - loss: 0.1610 - acc: 0.9400 - val_loss: 0.4032 - val_acc: 0.8447\n",
            "Epoch 9/30\n",
            "625/625 [==============================] - 2s 4ms/step - loss: 0.1523 - acc: 0.9434 - val_loss: 0.4221 - val_acc: 0.8422\n",
            "Epoch 10/30\n",
            "625/625 [==============================] - 2s 4ms/step - loss: 0.1406 - acc: 0.9487 - val_loss: 0.4461 - val_acc: 0.8377\n",
            "Epoch 11/30\n",
            "625/625 [==============================] - 2s 4ms/step - loss: 0.1360 - acc: 0.9511 - val_loss: 0.4705 - val_acc: 0.8350\n",
            "Epoch 12/30\n",
            "625/625 [==============================] - 2s 4ms/step - loss: 0.1266 - acc: 0.9554 - val_loss: 0.4864 - val_acc: 0.8383\n",
            "Epoch 13/30\n",
            "625/625 [==============================] - 2s 4ms/step - loss: 0.1268 - acc: 0.9560 - val_loss: 0.5078 - val_acc: 0.8353\n",
            "Epoch 14/30\n",
            "625/625 [==============================] - 2s 4ms/step - loss: 0.1136 - acc: 0.9584 - val_loss: 0.5365 - val_acc: 0.8348\n",
            "Epoch 15/30\n",
            "625/625 [==============================] - 2s 4ms/step - loss: 0.1045 - acc: 0.9643 - val_loss: 0.5564 - val_acc: 0.8320\n",
            "Epoch 16/30\n",
            "625/625 [==============================] - 2s 4ms/step - loss: 0.1033 - acc: 0.9642 - val_loss: 0.6366 - val_acc: 0.8180\n",
            "Epoch 17/30\n",
            "625/625 [==============================] - 2s 4ms/step - loss: 0.0994 - acc: 0.9673 - val_loss: 0.6400 - val_acc: 0.8192\n",
            "Epoch 18/30\n",
            "625/625 [==============================] - 2s 4ms/step - loss: 0.0928 - acc: 0.9677 - val_loss: 0.6678 - val_acc: 0.8192\n",
            "Epoch 19/30\n",
            "625/625 [==============================] - 2s 4ms/step - loss: 0.0911 - acc: 0.9699 - val_loss: 0.6828 - val_acc: 0.8153\n",
            "Epoch 20/30\n",
            "625/625 [==============================] - 2s 4ms/step - loss: 0.0826 - acc: 0.9711 - val_loss: 0.6874 - val_acc: 0.8234\n",
            "Epoch 21/30\n",
            "625/625 [==============================] - 2s 4ms/step - loss: 0.0800 - acc: 0.9731 - val_loss: 0.7103 - val_acc: 0.8211\n",
            "Epoch 22/30\n",
            "625/625 [==============================] - 2s 4ms/step - loss: 0.0760 - acc: 0.9756 - val_loss: 0.7462 - val_acc: 0.8186\n",
            "Epoch 23/30\n",
            "625/625 [==============================] - 2s 4ms/step - loss: 0.0733 - acc: 0.9755 - val_loss: 0.7566 - val_acc: 0.8171\n",
            "Epoch 24/30\n",
            "625/625 [==============================] - 2s 4ms/step - loss: 0.0746 - acc: 0.9754 - val_loss: 0.7876 - val_acc: 0.8164\n",
            "Epoch 25/30\n",
            "625/625 [==============================] - 2s 4ms/step - loss: 0.0741 - acc: 0.9773 - val_loss: 0.8257 - val_acc: 0.8155\n",
            "Epoch 26/30\n",
            "625/625 [==============================] - 2s 4ms/step - loss: 0.0611 - acc: 0.9808 - val_loss: 0.8975 - val_acc: 0.8092\n",
            "Epoch 27/30\n",
            "625/625 [==============================] - 2s 4ms/step - loss: 0.0655 - acc: 0.9802 - val_loss: 0.8805 - val_acc: 0.8123\n",
            "Epoch 28/30\n",
            "625/625 [==============================] - 2s 4ms/step - loss: 0.0628 - acc: 0.9814 - val_loss: 0.9099 - val_acc: 0.8125\n",
            "Epoch 29/30\n",
            "625/625 [==============================] - 2s 4ms/step - loss: 0.0566 - acc: 0.9826 - val_loss: 1.0162 - val_acc: 0.8018\n",
            "Epoch 30/30\n",
            "625/625 [==============================] - 2s 4ms/step - loss: 0.0653 - acc: 0.9807 - val_loss: 0.9951 - val_acc: 0.8077\n"
          ],
          "name": "stdout"
        }
      ]
    },
    {
      "cell_type": "markdown",
      "metadata": {
        "id": "3X-JOym9fDrX"
      },
      "source": [
        "`Epoch 30/30`</br>\r\n",
        "`625/625 [==============================] - 3s 4ms/step - loss: 0.0170 - acc: 0.9950 - val_loss: 1.2788 - val_acc: 0.8086`\r\n",
        "</br>\r\n",
        "</br>\r\n",
        "`Epoch 30/30`</br>\r\n",
        "`625/625 [==============================] - 2s 4ms/step - loss: 0.0653 - acc: 0.9807 - val_loss: 0.9951 - val_acc: 0.8077`"
      ]
    },
    {
      "cell_type": "code",
      "metadata": {
        "id": "BqpPhsQzfCxF"
      },
      "source": [
        ""
      ],
      "execution_count": null,
      "outputs": []
    },
    {
      "cell_type": "code",
      "metadata": {
        "colab": {
          "base_uri": "https://localhost:8080/",
          "height": 541
        },
        "id": "2HYfBKXjkmU8",
        "outputId": "5c0f9208-1aa2-4ad1-f39f-94b99decc74b"
      },
      "source": [
        "import matplotlib.pyplot as plt\n",
        "\n",
        "\n",
        "def plot_graphs(history, string):\n",
        "  plt.plot(history.history[string])\n",
        "  plt.plot(history.history['val_'+string])\n",
        "  plt.xlabel(\"Epochs\")\n",
        "  plt.ylabel(string)\n",
        "  plt.legend([string, 'val_'+string])\n",
        "  plt.show()\n",
        "  \n",
        "plot_graphs(history, \"acc\")\n",
        "plot_graphs(history, \"loss\")"
      ],
      "execution_count": 47,
      "outputs": [
        {
          "output_type": "display_data",
          "data": {
            "image/png": "[encoded data removed]",
            "text/plain": [
              "<Figure size 432x288 with 1 Axes>"
            ]
          },
          "metadata": {
            "tags": [],
            "needs_background": "light"
          }
        },
        {
          "output_type": "display_data",
          "data": {
            "image/png": "[encoded data removed]",
            "text/plain": [
              "<Figure size 432x288 with 1 Axes>"
            ]
          },
          "metadata": {
            "tags": [],
            "needs_background": "light"
          }
        }
      ]
    },
    {
      "cell_type": "code",
      "metadata": {
        "colab": {
          "base_uri": "https://localhost:8080/"
        },
        "id": "7SBdAZAenvzL",
        "outputId": "9f33e229-97bd-4474-d332-b8462ab5bdef"
      },
      "source": [
        "reverse_word_index = dict([(value, key) for (key, value) in word_index.items()])\n",
        "\n",
        "def decode_sentence(text):\n",
        "    return ' '.join([reverse_word_index.get(i, '?') for i in text])\n",
        "\n",
        "print(decode_sentence(train_padded[2]))\n",
        "print(train_sentences[2])\n",
        "print(labels[2])"
      ],
      "execution_count": 28,
      "outputs": [
        {
          "output_type": "stream",
          "text": [
            "mom starting to fear son's web series closest thing she will have to grandchild ? ? ? ? ? ? ? ? ? ? ? ? ? ? ? ? ? ? ? ? ? ? ? ? ? ? ? ? ? ? ? ? ? ? ? ? ? ? ? ? ? ? ? ? ? ? ? ? ? ? ? ? ? ? ? ? ? ? ? ? ? ? ? ? ? ? ? ? ? ? ? ? ? ? ? ? ? ? ? ? ? ? ? ? ? ?\n",
            "mom starting to fear son's web series closest thing she will have to grandchild\n",
            "1\n"
          ],
          "name": "stdout"
        }
      ]
    },
    {
      "cell_type": "code",
      "metadata": {
        "id": "IHydycJfdQeG",
        "outputId": "ab4abd4a-2e9b-429c-8bf0-0d8975f18ef1",
        "colab": {
          "base_uri": "https://localhost:8080/"
        }
      },
      "source": [
        "print(tokenizer.sequences_to_texts([train_padded[2]])[0])\r\n",
        "print(train_sentences[2])\r\n",
        "print(train_labels[2])"
      ],
      "execution_count": 29,
      "outputs": [
        {
          "output_type": "stream",
          "text": [
            "mom starting to fear son's web series closest thing she will have to grandchild <OOV> <OOV> <OOV> <OOV> <OOV> <OOV> <OOV> <OOV> <OOV> <OOV> <OOV> <OOV> <OOV> <OOV> <OOV> <OOV> <OOV> <OOV> <OOV> <OOV> <OOV> <OOV> <OOV> <OOV> <OOV> <OOV> <OOV> <OOV> <OOV> <OOV> <OOV> <OOV> <OOV> <OOV> <OOV> <OOV> <OOV> <OOV> <OOV> <OOV> <OOV> <OOV> <OOV> <OOV> <OOV> <OOV> <OOV> <OOV> <OOV> <OOV> <OOV> <OOV> <OOV> <OOV> <OOV> <OOV> <OOV> <OOV> <OOV> <OOV> <OOV> <OOV> <OOV> <OOV> <OOV> <OOV> <OOV> <OOV> <OOV> <OOV> <OOV> <OOV> <OOV> <OOV> <OOV> <OOV> <OOV> <OOV> <OOV> <OOV> <OOV> <OOV> <OOV> <OOV> <OOV> <OOV>\n",
            "mom starting to fear son's web series closest thing she will have to grandchild\n",
            "1\n"
          ],
          "name": "stdout"
        }
      ]
    },
    {
      "cell_type": "code",
      "metadata": {
        "id": "13ju-HlKeMGq",
        "outputId": "8aa34ba2-179a-4eec-cbdb-766fd634aaee",
        "colab": {
          "base_uri": "https://localhost:8080/"
        }
      },
      "source": [
        "# get weights from the embedding layer\r\n",
        "emb_layer = model.layers[0]\r\n",
        "weights = emb_layer.get_weights()[0]\r\n",
        "print(weights.shape) # shape: (vocab_size, embedding_dim)"
      ],
      "execution_count": 31,
      "outputs": [
        {
          "output_type": "stream",
          "text": [
            "(10000, 16)\n"
          ],
          "name": "stdout"
        }
      ]
    },
    {
      "cell_type": "code",
      "metadata": {
        "id": "LoBXVffknldU"
      },
      "source": [
        "import io\n",
        "\n",
        "out_v = io.open('vecs.tsv', 'w', encoding='utf-8')\n",
        "out_m = io.open('meta.tsv', 'w', encoding='utf-8')\n",
        "for word_num in range(1, vocab_size):\n",
        "  word = reverse_word_index[word_num]\n",
        "  embeddings = weights[word_num]\n",
        "  out_m.write(word + \"\\n\")\n",
        "  out_v.write('\\t'.join([str(x) for x in embeddings]) + \"\\n\")\n",
        "out_v.close()\n",
        "out_m.close()"
      ],
      "execution_count": null,
      "outputs": []
    },
    {
      "cell_type": "code",
      "metadata": {
        "id": "U4eZ5HtVnnEE"
      },
      "source": [
        "try:\n",
        "  from google.colab import files\n",
        "except ImportError:\n",
        "  pass\n",
        "else:\n",
        "  files.download('vecs.tsv')\n",
        "  files.download('meta.tsv')"
      ],
      "execution_count": null,
      "outputs": []
    },
    {
      "cell_type": "code",
      "metadata": {
        "colab": {
          "base_uri": "https://localhost:8080/"
        },
        "id": "cG8-ArY-qDcz",
        "outputId": "bc645c4b-ee61-45f2-9013-bc5dcbfad2d9"
      },
      "source": [
        "sentence = [\"granny starting to fear spiders in the garden might be real\", \"game of thrones season finale showing this sunday night\"]\n",
        "sequences = tokenizer.texts_to_sequences(sentence)\n",
        "padded = pad_sequences(sequences, maxlen=max_length, padding=padding_type, truncating=trunc_type)\n",
        "print(model.predict(padded))"
      ],
      "execution_count": 48,
      "outputs": [
        {
          "output_type": "stream",
          "text": [
            "[[9.993432e-01]\n",
            " [6.375077e-04]]\n"
          ],
          "name": "stdout"
        }
      ]
    }
  ]
}