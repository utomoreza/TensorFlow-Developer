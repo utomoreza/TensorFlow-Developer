{
  "nbformat": 4,
  "nbformat_minor": 0,
  "metadata": {
    "colab": {
      "name": "Course 3 - Week 1 - Exercise-question.ipynb",
      "provenance": []
    },
    "kernelspec": {
      "display_name": "Python 3",
      "name": "python3"
    }
  },
  "cells": [
    {
      "cell_type": "markdown",
      "metadata": {
        "id": "rX8mhOLljYeM"
      },
      "source": [
        "##### Copyright 2019 The TensorFlow Authors."
      ]
    },
    {
      "cell_type": "code",
      "metadata": {
        "cellView": "form",
        "id": "BZSlp3DAjdYf"
      },
      "source": [
        "#@title Licensed under the Apache License, Version 2.0 (the \"License\");\n",
        "# you may not use this file except in compliance with the License.\n",
        "# You may obtain a copy of the License at\n",
        "#\n",
        "# https://www.apache.org/licenses/LICENSE-2.0\n",
        "#\n",
        "# Unless required by applicable law or agreed to in writing, software\n",
        "# distributed under the License is distributed on an \"AS IS\" BASIS,\n",
        "# WITHOUT WARRANTIES OR CONDITIONS OF ANY KIND, either express or implied.\n",
        "# See the License for the specific language governing permissions and\n",
        "# limitations under the License."
      ],
      "execution_count": null,
      "outputs": []
    },
    {
      "cell_type": "code",
      "metadata": {
        "id": "l-S6yCN-2tWl",
        "outputId": "09470e6a-8efe-4896-a396-9d463c192527",
        "colab": {
          "base_uri": "https://localhost:8080/"
        }
      },
      "source": [
        "!wget --no-check-certificate \\\r\n",
        "    https://storage.googleapis.com/laurencemoroney-blog.appspot.com/bbc-text.csv \\\r\n",
        "    -O /tmp/bbc-text.csv"
      ],
      "execution_count": 1,
      "outputs": [
        {
          "output_type": "stream",
          "text": [
            "--2021-01-11 23:42:28--  https://storage.googleapis.com/laurencemoroney-blog.appspot.com/bbc-text.csv\n",
            "Resolving storage.googleapis.com (storage.googleapis.com)... 74.125.31.128, 74.125.139.128, 173.194.210.128, ...\n",
            "Connecting to storage.googleapis.com (storage.googleapis.com)|74.125.31.128|:443... connected.\n",
            "HTTP request sent, awaiting response... 200 OK\n",
            "Length: 5057493 (4.8M) [application/octet-stream]\n",
            "Saving to: ‘/tmp/bbc-text.csv’\n",
            "\n",
            "\r/tmp/bbc-text.csv     0%[                    ]       0  --.-KB/s               \r/tmp/bbc-text.csv   100%[===================>]   4.82M  --.-KB/s    in 0.05s   \n",
            "\n",
            "2021-01-11 23:42:28 (106 MB/s) - ‘/tmp/bbc-text.csv’ saved [5057493/5057493]\n",
            "\n"
          ],
          "name": "stdout"
        }
      ]
    },
    {
      "cell_type": "code",
      "metadata": {
        "id": "zrZevCPJ92HG"
      },
      "source": [
        "import csv\n",
        "from tqdm import tqdm\n",
        "from tensorflow.keras.preprocessing.text import Tokenizer\n",
        "from tensorflow.keras.preprocessing.sequence import pad_sequences"
      ],
      "execution_count": 31,
      "outputs": []
    },
    {
      "cell_type": "code",
      "metadata": {
        "id": "-j_bOz7u20B-"
      },
      "source": [
        "#Stopwords list from https://github.com/Yoast/YoastSEO.js/blob/develop/src/config/stopwords.js\r\n",
        "# Convert it to a Python list and paste it here"
      ],
      "execution_count": null,
      "outputs": []
    },
    {
      "cell_type": "code",
      "metadata": {
        "id": "zjMfsMBV26V_",
        "outputId": "945afa82-f06d-4d94-ff49-8f3ba0b0c228",
        "colab": {
          "base_uri": "https://localhost:8080/"
        }
      },
      "source": [
        "!wget --no-check-certificate \\\r\n",
        "    https://raw.githubusercontent.com/Yoast/YoastSEO.js/develop/src/config/stopwords.js \\\r\n",
        "    -O /tmp/stopwords.js"
      ],
      "execution_count": 21,
      "outputs": [
        {
          "output_type": "stream",
          "text": [
            "--2021-01-12 00:10:55--  https://raw.githubusercontent.com/Yoast/YoastSEO.js/develop/src/config/stopwords.js\n",
            "Resolving raw.githubusercontent.com (raw.githubusercontent.com)... 151.101.0.133, 151.101.64.133, 151.101.128.133, ...\n",
            "Connecting to raw.githubusercontent.com (raw.githubusercontent.com)|151.101.0.133|:443... connected.\n",
            "HTTP request sent, awaiting response... 200 OK\n",
            "Length: 1482 (1.4K) [text/plain]\n",
            "Saving to: ‘/tmp/stopwords.js’\n",
            "\n",
            "\r/tmp/stopwords.js     0%[                    ]       0  --.-KB/s               \r/tmp/stopwords.js   100%[===================>]   1.45K  --.-KB/s    in 0s      \n",
            "\n",
            "2021-01-12 00:10:56 (27.0 MB/s) - ‘/tmp/stopwords.js’ saved [1482/1482]\n",
            "\n"
          ],
          "name": "stdout"
        }
      ]
    },
    {
      "cell_type": "code",
      "metadata": {
        "id": "qqmM-uui3Lkk",
        "outputId": "6478779f-50c1-4741-eef2-79aca439d6eb",
        "colab": {
          "base_uri": "https://localhost:8080/"
        }
      },
      "source": [
        "!pip install js2py"
      ],
      "execution_count": 22,
      "outputs": [
        {
          "output_type": "stream",
          "text": [
            "Collecting js2py\n",
            "\u001b[?25l  Downloading https://files.pythonhosted.org/packages/f4/6a/0385641ad1b52aae5c63820277a10e500c19e40fc4df5287f161aa287020/Js2Py-0.70-py3-none-any.whl (605kB)\n",
            "\r\u001b[K     |▌                               | 10kB 16.4MB/s eta 0:00:01\r\u001b[K     |█                               | 20kB 21.3MB/s eta 0:00:01\r\u001b[K     |█▋                              | 30kB 10.9MB/s eta 0:00:01\r\u001b[K     |██▏                             | 40kB 8.7MB/s eta 0:00:01\r\u001b[K     |██▊                             | 51kB 4.4MB/s eta 0:00:01\r\u001b[K     |███▎                            | 61kB 5.2MB/s eta 0:00:01\r\u001b[K     |███▉                            | 71kB 5.1MB/s eta 0:00:01\r\u001b[K     |████▎                           | 81kB 5.5MB/s eta 0:00:01\r\u001b[K     |████▉                           | 92kB 5.8MB/s eta 0:00:01\r\u001b[K     |█████▍                          | 102kB 4.3MB/s eta 0:00:01\r\u001b[K     |██████                          | 112kB 4.3MB/s eta 0:00:01\r\u001b[K     |██████▌                         | 122kB 4.3MB/s eta 0:00:01\r\u001b[K     |███████                         | 133kB 4.3MB/s eta 0:00:01\r\u001b[K     |███████▋                        | 143kB 4.3MB/s eta 0:00:01\r\u001b[K     |████████▏                       | 153kB 4.3MB/s eta 0:00:01\r\u001b[K     |████████▋                       | 163kB 4.3MB/s eta 0:00:01\r\u001b[K     |█████████▏                      | 174kB 4.3MB/s eta 0:00:01\r\u001b[K     |█████████▊                      | 184kB 4.3MB/s eta 0:00:01\r\u001b[K     |██████████▎                     | 194kB 4.3MB/s eta 0:00:01\r\u001b[K     |██████████▉                     | 204kB 4.3MB/s eta 0:00:01\r\u001b[K     |███████████▍                    | 215kB 4.3MB/s eta 0:00:01\r\u001b[K     |████████████                    | 225kB 4.3MB/s eta 0:00:01\r\u001b[K     |████████████▍                   | 235kB 4.3MB/s eta 0:00:01\r\u001b[K     |█████████████                   | 245kB 4.3MB/s eta 0:00:01\r\u001b[K     |█████████████▌                  | 256kB 4.3MB/s eta 0:00:01\r\u001b[K     |██████████████                  | 266kB 4.3MB/s eta 0:00:01\r\u001b[K     |██████████████▋                 | 276kB 4.3MB/s eta 0:00:01\r\u001b[K     |███████████████▏                | 286kB 4.3MB/s eta 0:00:01\r\u001b[K     |███████████████▊                | 296kB 4.3MB/s eta 0:00:01\r\u001b[K     |████████████████▎               | 307kB 4.3MB/s eta 0:00:01\r\u001b[K     |████████████████▊               | 317kB 4.3MB/s eta 0:00:01\r\u001b[K     |█████████████████▎              | 327kB 4.3MB/s eta 0:00:01\r\u001b[K     |█████████████████▉              | 337kB 4.3MB/s eta 0:00:01\r\u001b[K     |██████████████████▍             | 348kB 4.3MB/s eta 0:00:01\r\u001b[K     |███████████████████             | 358kB 4.3MB/s eta 0:00:01\r\u001b[K     |███████████████████▌            | 368kB 4.3MB/s eta 0:00:01\r\u001b[K     |████████████████████            | 378kB 4.3MB/s eta 0:00:01\r\u001b[K     |████████████████████▋           | 389kB 4.3MB/s eta 0:00:01\r\u001b[K     |█████████████████████           | 399kB 4.3MB/s eta 0:00:01\r\u001b[K     |█████████████████████▋          | 409kB 4.3MB/s eta 0:00:01\r\u001b[K     |██████████████████████▏         | 419kB 4.3MB/s eta 0:00:01\r\u001b[K     |██████████████████████▊         | 430kB 4.3MB/s eta 0:00:01\r\u001b[K     |███████████████████████▎        | 440kB 4.3MB/s eta 0:00:01\r\u001b[K     |███████████████████████▉        | 450kB 4.3MB/s eta 0:00:01\r\u001b[K     |████████████████████████▍       | 460kB 4.3MB/s eta 0:00:01\r\u001b[K     |████████████████████████▉       | 471kB 4.3MB/s eta 0:00:01\r\u001b[K     |█████████████████████████▍      | 481kB 4.3MB/s eta 0:00:01\r\u001b[K     |██████████████████████████      | 491kB 4.3MB/s eta 0:00:01\r\u001b[K     |██████████████████████████▌     | 501kB 4.3MB/s eta 0:00:01\r\u001b[K     |███████████████████████████     | 512kB 4.3MB/s eta 0:00:01\r\u001b[K     |███████████████████████████▋    | 522kB 4.3MB/s eta 0:00:01\r\u001b[K     |████████████████████████████▏   | 532kB 4.3MB/s eta 0:00:01\r\u001b[K     |████████████████████████████▊   | 542kB 4.3MB/s eta 0:00:01\r\u001b[K     |█████████████████████████████▏  | 552kB 4.3MB/s eta 0:00:01\r\u001b[K     |█████████████████████████████▊  | 563kB 4.3MB/s eta 0:00:01\r\u001b[K     |██████████████████████████████▎ | 573kB 4.3MB/s eta 0:00:01\r\u001b[K     |██████████████████████████████▉ | 583kB 4.3MB/s eta 0:00:01\r\u001b[K     |███████████████████████████████▍| 593kB 4.3MB/s eta 0:00:01\r\u001b[K     |████████████████████████████████| 604kB 4.3MB/s eta 0:00:01\r\u001b[K     |████████████████████████████████| 614kB 4.3MB/s \n",
            "\u001b[?25hRequirement already satisfied: six>=1.10 in /usr/local/lib/python3.6/dist-packages (from js2py) (1.15.0)\n",
            "Collecting pyjsparser>=2.5.1\n",
            "  Downloading https://files.pythonhosted.org/packages/48/ef/c72abcfa2c6accd03e7c89c400790fc3d908c5804d50a7c4e9ceabd74d23/pyjsparser-2.7.1.tar.gz\n",
            "Requirement already satisfied: tzlocal>=1.2 in /usr/local/lib/python3.6/dist-packages (from js2py) (1.5.1)\n",
            "Requirement already satisfied: pytz in /usr/local/lib/python3.6/dist-packages (from tzlocal>=1.2->js2py) (2018.9)\n",
            "Building wheels for collected packages: pyjsparser\n",
            "  Building wheel for pyjsparser (setup.py) ... \u001b[?25l\u001b[?25hdone\n",
            "  Created wheel for pyjsparser: filename=pyjsparser-2.7.1-cp36-none-any.whl size=25999 sha256=76ca6d0eba7265a8e37e6b313569c6986da53f48060d6a29a1059cea5cc432cf\n",
            "  Stored in directory: /root/.cache/pip/wheels/a2/73/e6/3e433f3fd78257c3f971baf8cc9001cc0c4797268c61751e89\n",
            "Successfully built pyjsparser\n",
            "Installing collected packages: pyjsparser, js2py\n",
            "Successfully installed js2py-0.70 pyjsparser-2.7.1\n"
          ],
          "name": "stdout"
        }
      ]
    },
    {
      "cell_type": "code",
      "metadata": {
        "id": "eIlQgHv64fAH"
      },
      "source": [
        "import js2py"
      ],
      "execution_count": 23,
      "outputs": []
    },
    {
      "cell_type": "code",
      "metadata": {
        "id": "TzTFct5r4gLX"
      },
      "source": [
        "# load JS script\r\n",
        "with open('/tmp/stopwords.js', 'r') as js_file:\r\n",
        "    js_script = js_file.read()\r\n",
        "\r\n",
        "# edit JS script\r\n",
        "js_script = js_script.replace(\"export default function\", \"function stopwords\") + \"\\nstopwords()\"\r\n",
        "\r\n",
        "# run JS script and get the result\r\n",
        "stopwords = js2py.eval_js(js_script)"
      ],
      "execution_count": 24,
      "outputs": []
    },
    {
      "cell_type": "code",
      "metadata": {
        "id": "ObC5aeLw5RwU",
        "outputId": "d549fab2-6788-4eff-9406-bff578bf195a",
        "colab": {
          "base_uri": "https://localhost:8080/"
        }
      },
      "source": [
        "stopwords"
      ],
      "execution_count": 25,
      "outputs": [
        {
          "output_type": "execute_result",
          "data": {
            "text/plain": [
              "['a', 'about', 'above', 'after', 'again', 'against', 'all', 'am', 'an', 'and', 'any', 'are', 'as', 'at', 'be', 'because', 'been', 'before', 'being', 'below', 'between', 'both', 'but', 'by', 'could', 'did', 'do', 'does', 'doing', 'down', 'during', 'each', 'few', 'for', 'from', 'further', 'had', 'has', 'have', 'having', 'he', \"he'd\", \"he'll\", \"he's\", 'her', 'here', \"here's\", 'hers', 'herself', 'him', 'himself', 'his', 'how', \"how's\", 'i', \"i'd\", \"i'll\", \"i'm\", \"i've\", 'if', 'in', 'into', 'is', 'it', \"it's\", 'its', 'itself', \"let's\", 'me', 'more', 'most', 'my', 'myself', 'nor', 'of', 'on', 'once', 'only', 'or', 'other', 'ought', 'our', 'ours', 'ourselves', 'out', 'over', 'own', 'same', 'she', \"she'd\", \"she'll\", \"she's\", 'should', 'so', 'some', 'such', 'than', 'that', \"that's\", 'the', 'their', 'theirs', 'them', 'themselves', 'then', 'there', \"there's\", 'these', 'they', \"they'd\", \"they'll\", \"they're\", \"they've\", 'this', 'those', 'through', 'to', 'too', 'under', 'until', 'up', 'very', 'was', 'we', \"we'd\", \"we'll\", \"we're\", \"we've\", 'were', 'what', \"what's\", 'when', \"when's\", 'where', \"where's\", 'which', 'while', 'who', \"who's\", 'whom', 'why', \"why's\", 'with', 'would', 'you', \"you'd\", \"you'll\", \"you're\", \"you've\", 'your', 'yours', 'yourself', 'yourselves']"
            ]
          },
          "metadata": {
            "tags": []
          },
          "execution_count": 25
        }
      ]
    },
    {
      "cell_type": "code",
      "metadata": {
        "colab": {
          "base_uri": "https://localhost:8080/"
        },
        "id": "1rmYBjsyCv3K",
        "outputId": "391fbae9-9e65-442d-d4a9-46bd711c901c"
      },
      "source": [
        "sentences = []\n",
        "labels = []\n",
        "with open(\"/tmp/bbc-text.csv\", 'r') as csvfile:\n",
        "    bbc = csv.reader(csvfile, delimiter=',')\n",
        "    for i, row in enumerate(bbc):\n",
        "        if i != 0:\n",
        "            labels.append(row[0])\n",
        "            sentences.append(row[1])\n",
        "\n",
        "print(len(sentences))\n",
        "print(sentences[0])\n",
        "\n",
        "#Expected output\n",
        "# 2225\n",
        "# tv future hands viewers home theatre systems plasma high-definition tvs digital video recorders moving living room way people watch tv will radically different five years time. according expert panel gathered annual consumer electronics show las vegas discuss new technologies will impact one favourite pastimes. us leading trend programmes content will delivered viewers via home networks cable satellite telecoms companies broadband service providers front rooms portable devices. one talked-about technologies ces digital personal video recorders (dvr pvr). set-top boxes like us s tivo uk s sky+ system allow people record store play pause forward wind tv programmes want. essentially technology allows much personalised tv. also built-in high-definition tv sets big business japan us slower take off europe lack high-definition programming. not can people forward wind adverts can also forget abiding network channel schedules putting together a-la-carte entertainment. us networks cable satellite companies worried means terms advertising revenues well brand identity viewer loyalty channels. although us leads technology moment also concern raised europe particularly growing uptake services like sky+. happens today will see nine months years time uk adam hume bbc broadcast s futurologist told bbc news website. likes bbc no issues lost advertising revenue yet. pressing issue moment commercial uk broadcasters brand loyalty important everyone. will talking content brands rather network brands said tim hanlon brand communications firm starcom mediavest. reality broadband connections anybody can producer content. added: challenge now hard promote programme much choice. means said stacey jolna senior vice president tv guide tv group way people find content want watch simplified tv viewers. means networks us terms channels take leaf google s book search engine future instead scheduler help people find want watch. kind channel model might work younger ipod generation used taking control gadgets play them. might not suit everyone panel recognised. older generations comfortable familiar schedules channel brands know getting. perhaps not want much choice put hands mr hanlon suggested. end kids just diapers pushing buttons already - everything possible available said mr hanlon. ultimately consumer will tell market want. 50 000 new gadgets technologies showcased ces many enhancing tv-watching experience. high-definition tv sets everywhere many new models lcd (liquid crystal display) tvs launched dvr capability built instead external boxes. one example launched show humax s 26-inch lcd tv 80-hour tivo dvr dvd recorder. one us s biggest satellite tv companies directtv even launched branded dvr show 100-hours recording capability instant replay search function. set can pause rewind tv 90 hours. microsoft chief bill gates announced pre-show keynote speech partnership tivo called tivotogo means people can play recorded programmes windows pcs mobile devices. reflect increasing trend freeing multimedia people can watch want want."
      ],
      "execution_count": 14,
      "outputs": [
        {
          "output_type": "stream",
          "text": [
            "2225\n",
            "tv future in the hands of viewers with home theatre systems  plasma high-definition tvs  and digital video recorders moving into the living room  the way people watch tv will be radically different in five years  time.  that is according to an expert panel which gathered at the annual consumer electronics show in las vegas to discuss how these new technologies will impact one of our favourite pastimes. with the us leading the trend  programmes and other content will be delivered to viewers via home networks  through cable  satellite  telecoms companies  and broadband service providers to front rooms and portable devices.  one of the most talked-about technologies of ces has been digital and personal video recorders (dvr and pvr). these set-top boxes  like the us s tivo and the uk s sky+ system  allow people to record  store  play  pause and forward wind tv programmes when they want.  essentially  the technology allows for much more personalised tv. they are also being built-in to high-definition tv sets  which are big business in japan and the us  but slower to take off in europe because of the lack of high-definition programming. not only can people forward wind through adverts  they can also forget about abiding by network and channel schedules  putting together their own a-la-carte entertainment. but some us networks and cable and satellite companies are worried about what it means for them in terms of advertising revenues as well as  brand identity  and viewer loyalty to channels. although the us leads in this technology at the moment  it is also a concern that is being raised in europe  particularly with the growing uptake of services like sky+.  what happens here today  we will see in nine months to a years  time in the uk   adam hume  the bbc broadcast s futurologist told the bbc news website. for the likes of the bbc  there are no issues of lost advertising revenue yet. it is a more pressing issue at the moment for commercial uk broadcasters  but brand loyalty is important for everyone.  we will be talking more about content brands rather than network brands   said tim hanlon  from brand communications firm starcom mediavest.  the reality is that with broadband connections  anybody can be the producer of content.  he added:  the challenge now is that it is hard to promote a programme with so much choice.   what this means  said stacey jolna  senior vice president of tv guide tv group  is that the way people find the content they want to watch has to be simplified for tv viewers. it means that networks  in us terms  or channels could take a leaf out of google s book and be the search engine of the future  instead of the scheduler to help people find what they want to watch. this kind of channel model might work for the younger ipod generation which is used to taking control of their gadgets and what they play on them. but it might not suit everyone  the panel recognised. older generations are more comfortable with familiar schedules and channel brands because they know what they are getting. they perhaps do not want so much of the choice put into their hands  mr hanlon suggested.  on the other end  you have the kids just out of diapers who are pushing buttons already - everything is possible and available to them   said mr hanlon.  ultimately  the consumer will tell the market they want.   of the 50 000 new gadgets and technologies being showcased at ces  many of them are about enhancing the tv-watching experience. high-definition tv sets are everywhere and many new models of lcd (liquid crystal display) tvs have been launched with dvr capability built into them  instead of being external boxes. one such example launched at the show is humax s 26-inch lcd tv with an 80-hour tivo dvr and dvd recorder. one of the us s biggest satellite tv companies  directtv  has even launched its own branded dvr at the show with 100-hours of recording capability  instant replay  and a search function. the set can pause and rewind tv for up to 90 hours. and microsoft chief bill gates announced in his pre-show keynote speech a partnership with tivo  called tivotogo  which means people can play recorded programmes on windows pcs and mobile devices. all these reflect the increasing trend of freeing up multimedia so that people can watch what they want  when they want.\n"
          ],
          "name": "stdout"
        }
      ]
    },
    {
      "cell_type": "code",
      "metadata": {
        "colab": {
          "base_uri": "https://localhost:8080/"
        },
        "id": "9LhzBBgSC3S5",
        "outputId": "6a94f103-0731-4175-e10f-2ca99c2ec6ac"
      },
      "source": [
        "# instantiate tokenizer\n",
        "tokenizer = Tokenizer(oov_token='<OOV>')\n",
        "tokenizer.fit_on_texts(sentences)\n",
        "\n",
        "# get word_index then truncate it by stopwords\n",
        "word_index = tokenizer.word_index\n",
        "new_word_index = dict(word_index)\n",
        "for w in tqdm(stopwords):\n",
        "    if set([w]).intersection(set(word_index.keys())):\n",
        "        del new_word_index[w]\n",
        "\n",
        "print(len(new_word_index))\n",
        "# Expected output\n",
        "# 29714"
      ],
      "execution_count": 38,
      "outputs": [
        {
          "output_type": "stream",
          "text": [
            "100%|██████████| 153/153 [00:00<00:00, 421.39it/s]"
          ],
          "name": "stderr"
        },
        {
          "output_type": "stream",
          "text": [
            "29608\n"
          ],
          "name": "stdout"
        },
        {
          "output_type": "stream",
          "text": [
            "\n"
          ],
          "name": "stderr"
        }
      ]
    },
    {
      "cell_type": "code",
      "metadata": {
        "colab": {
          "base_uri": "https://localhost:8080/"
        },
        "id": "1Gr3dbQfC5VR",
        "outputId": "ff7bfed7-73bb-4339-b48a-35e5d729a8aa"
      },
      "source": [
        "sequences = tokenizer.texts_to_sequences(sentences)\n",
        "padded = pad_sequences(sequences, padding='post', maxlen=2442, truncating='post')\n",
        "print(padded[0])\n",
        "print(padded.shape)\n",
        "\n",
        "# Expected output\n",
        "# [  96  176 1158 ...    0    0    0]\n",
        "# (2225, 2442)"
      ],
      "execution_count": 39,
      "outputs": [
        {
          "output_type": "stream",
          "text": [
            "[177 265   7 ...   0   0   0]\n",
            "(2225, 2442)\n"
          ],
          "name": "stdout"
        }
      ]
    },
    {
      "cell_type": "code",
      "metadata": {
        "id": "C7V0TjsGJi4f"
      },
      "source": [
        "import numpy as np"
      ],
      "execution_count": 42,
      "outputs": []
    },
    {
      "cell_type": "code",
      "metadata": {
        "id": "DgQD6NxMJUDF",
        "outputId": "7e70d2a0-3943-4958-d3e5-4acbd7802f94",
        "colab": {
          "base_uri": "https://localhost:8080/"
        }
      },
      "source": [
        "# create label index\r\n",
        "uniq_label = np.unique(np.array(labels))\r\n",
        "label_word_index = {key: value+1 for (value, key) in enumerate(uniq_label)}\r\n",
        "label_word_index"
      ],
      "execution_count": 49,
      "outputs": [
        {
          "output_type": "execute_result",
          "data": {
            "text/plain": [
              "{'business': 1, 'entertainment': 2, 'politics': 3, 'sport': 4, 'tech': 5}"
            ]
          },
          "metadata": {
            "tags": []
          },
          "execution_count": 49
        }
      ]
    },
    {
      "cell_type": "code",
      "metadata": {
        "id": "t254g3y0LHKg"
      },
      "source": [
        "# mapping label to its pair of integer idx\r\n",
        "label_seq = []\r\n",
        "for l in labels:\r\n",
        "    label_seq.append([label_word_index[l]])"
      ],
      "execution_count": 52,
      "outputs": []
    },
    {
      "cell_type": "code",
      "metadata": {
        "colab": {
          "base_uri": "https://localhost:8080/"
        },
        "id": "fZufOahzC6yx",
        "outputId": "053d6a44-6364-484f-bbe9-a0a8ed127970"
      },
      "source": [
        "print(label_seq)\n",
        "print(label_word_index)\n",
        "\n",
        "# Expected Output\n",
        "# [[4], [2], [1], [1], [5], [3], [3], [1], [1], [5], [5], [2], [2], [3], [1], [2], [3], [1], [2], [4], [4], [4], [1], [1], [4], [1], [5], [4], [3], [5], [3], [4], [5], [5], [2], [3], [4], [5], [3], [2], [3], [1], [2], [1], [4], [5], [3], [3], [3], [2], [1], [3], [2], [2], [1], [3], [2], [1], [1], [2], [2], [1], [2], [1], [2], [4], [2], [5], [4], [2], [3], [2], [3], [1], [2], [4], [2], [1], [1], [2], [2], [1], [3], [2], [5], [3], [3], [2], [5], [2], [1], [1], [3], [1], [3], [1], [2], [1], [2], [5], [5], [1], [2], [3], [3], [4], [1], [5], [1], [4], [2], [5], [1], [5], [1], [5], [5], [3], [1], [1], [5], [3], [2], [4], [2], [2], [4], [1], [3], [1], [4], [5], [1], [2], [2], [4], [5], [4], [1], [2], [2], [2], [4], [1], [4], [2], [1], [5], [1], [4], [1], [4], [3], [2], [4], [5], [1], [2], [3], [2], [5], [3], [3], [5], [3], [2], [5], [3], [3], [5], [3], [1], [2], [3], [3], [2], [5], [1], [2], [2], [1], [4], [1], [4], [4], [1], [2], [1], [3], [5], [3], [2], [3], [2], [4], [3], [5], [3], [4], [2], [1], [2], [1], [4], [5], [2], [3], [3], [5], [1], [5], [3], [1], [5], [1], [1], [5], [1], [3], [3], [5], [4], [1], [3], [2], [5], [4], [1], [4], [1], [5], [3], [1], [5], [4], [2], [4], [2], [2], [4], [2], [1], [2], [1], [2], [1], [5], [2], [2], [5], [1], [1], [3], [4], [3], [3], [3], [4], [1], [4], [3], [2], [4], [5], [4], [1], [1], [2], [2], [3], [2], [4], [1], [5], [1], [3], [4], [5], [2], [1], [5], [1], [4], [3], [4], [2], [2], [3], [3], [1], [2], [4], [5], [3], [4], [2], [5], [1], [5], [1], [5], [3], [2], [1], [2], [1], [1], [5], [1], [3], [3], [2], [5], [4], [2], [1], [2], [5], [2], [2], [2], [3], [2], [3], [5], [5], [2], [1], [2], [3], [2], [4], [5], [2], [1], [1], [5], [2], [2], [3], [4], [5], [4], [3], [2], [1], [3], [2], [5], [4], [5], [4], [3], [1], [5], [2], [3], [2], [2], [3], [1], [4], [2], [2], [5], [5], [4], [1], [2], [5], [4], [4], [5], [5], [5], [3], [1], [3], [4], [2], [5], [3], [2], [5], [3], [3], [1], [1], [2], [3], [5], [2], [1], [2], [2], [1], [2], [3], [3], [3], [1], [4], [4], [2], [4], [1], [5], [2], [3], [2], [5], [2], [3], [5], [3], [2], [4], [2], [1], [1], [2], [1], [1], [5], [1], [1], [1], [4], [2], [2], [2], [3], [1], [1], [2], [4], [2], [3], [1], [3], [4], [2], [1], [5], [2], [3], [4], [2], [1], [2], [3], [2], [2], [1], [5], [4], [3], [4], [2], [1], [2], [5], [4], [4], [2], [1], [1], [5], [3], [3], [3], [1], [3], [4], [4], [5], [3], [4], [5], [2], [1], [1], [4], [2], [1], [1], [3], [1], [1], [2], [1], [5], [4], [3], [1], [3], [4], [2], [2], [2], [4], [2], [2], [1], [1], [1], [1], [2], [4], [5], [1], [1], [4], [2], [4], [5], [3], [1], [2], [3], [2], [4], [4], [3], [4], [2], [1], [2], [5], [1], [3], [5], [1], [1], [3], [4], [5], [4], [1], [3], [2], [5], [3], [2], [5], [1], [1], [4], [3], [5], [3], [5], [3], [4], [3], [5], [1], [2], [1], [5], [1], [5], [4], [2], [1], [3], [5], [3], [5], [5], [5], [3], [5], [4], [3], [4], [4], [1], [1], [4], [4], [1], [5], [5], [1], [4], [5], [1], [1], [4], [2], [3], [4], [2], [1], [5], [1], [5], [3], [4], [5], [5], [2], [5], [5], [1], [4], [4], [3], [1], [4], [1], [3], [3], [5], [4], [2], [4], [4], [4], [2], [3], [3], [1], [4], [2], [2], [5], [5], [1], [4], [2], [4], [5], [1], [4], [3], [4], [3], [2], [3], [3], [2], [1], [4], [1], [4], [3], [5], [4], [1], [5], [4], [1], [3], [5], [1], [4], [1], [1], [3], [5], [2], [3], [5], [2], [2], [4], [2], [5], [4], [1], [4], [3], [4], [3], [2], [3], [5], [1], [2], [2], [2], [5], [1], [2], [5], [5], [1], [5], [3], [3], [3], [1], [1], [1], [4], [3], [1], [3], [3], [4], [3], [1], [2], [5], [1], [2], [2], [4], [2], [5], [5], [5], [2], [5], [5], [3], [4], [2], [1], [4], [1], [1], [3], [2], [1], [4], [2], [1], [4], [1], [1], [5], [1], [2], [1], [2], [4], [3], [4], [2], [1], [1], [2], [2], [2], [2], [3], [1], [2], [4], [2], [1], [3], [2], [4], [2], [1], [2], [3], [5], [1], [2], [3], [2], [5], [2], [2], [2], [1], [3], [5], [1], [3], [1], [3], [3], [2], [2], [1], [4], [5], [1], [5], [2], [2], [2], [4], [1], [4], [3], [4], [4], [4], [1], [4], [4], [5], [5], [4], [1], [5], [4], [1], [1], [2], [5], [4], [2], [1], [2], [3], [2], [5], [4], [2], [3], [2], [4], [1], [2], [5], [2], [3], [1], [5], [3], [1], [2], [1], [3], [3], [1], [5], [5], [2], [2], [1], [4], [4], [1], [5], [4], [4], [2], [1], [5], [4], [1], [1], [2], [5], [2], [2], [2], [5], [1], [5], [4], [4], [4], [3], [4], [4], [5], [5], [1], [1], [3], [2], [5], [1], [3], [5], [4], [3], [4], [4], [2], [5], [3], [4], [3], [3], [1], [3], [3], [5], [4], [1], [3], [1], [5], [3], [2], [2], [3], [1], [1], [1], [5], [4], [4], [2], [5], [1], [3], [4], [3], [5], [4], [4], [2], [2], [1], [2], [2], [4], [3], [5], [2], [2], [2], [2], [2], [4], [1], [3], [4], [4], [2], [2], [5], [3], [5], [1], [4], [1], [5], [1], [4], [1], [2], [1], [3], [3], [5], [2], [1], [3], [3], [1], [5], [3], [2], [4], [1], [2], [2], [2], [5], [5], [4], [4], [2], [2], [5], [1], [2], [5], [4], [4], [2], [2], [1], [1], [1], [3], [3], [1], [3], [1], [2], [5], [1], [4], [5], [1], [1], [2], [2], [4], [4], [1], [5], [1], [5], [1], [5], [3], [5], [5], [4], [5], [2], [2], [3], [1], [3], [4], [2], [3], [1], [3], [1], [5], [1], [3], [1], [1], [4], [5], [1], [3], [1], [1], [2], [4], [5], [3], [4], [5], [3], [5], [3], [5], [5], [4], [5], [3], [5], [5], [4], [4], [1], [1], [5], [5], [4], [5], [3], [4], [5], [2], [4], [1], [2], [5], [5], [4], [5], [4], [2], [5], [1], [5], [2], [1], [2], [1], [3], [4], [5], [3], [2], [5], [5], [3], [2], [5], [1], [3], [1], [2], [2], [2], [2], [2], [5], [4], [1], [5], [5], [2], [1], [4], [4], [5], [1], [2], [3], [2], [3], [2], [2], [5], [3], [2], [2], [4], [3], [1], [4], [5], [3], [2], [2], [1], [5], [3], [4], [2], [2], [3], [2], [1], [5], [1], [5], [4], [3], [2], [2], [4], [2], [2], [1], [2], [4], [5], [3], [2], [3], [2], [1], [4], [2], [3], [5], [4], [2], [5], [1], [3], [3], [1], [3], [2], [4], [5], [1], [1], [4], [2], [1], [5], [4], [1], [3], [1], [2], [2], [2], [3], [5], [1], [3], [4], [2], [2], [4], [5], [5], [4], [4], [1], [1], [5], [4], [5], [1], [3], [4], [2], [1], [5], [2], [2], [5], [1], [2], [1], [4], [3], [3], [4], [5], [3], [5], [2], [2], [3], [1], [4], [1], [1], [1], [3], [2], [1], [2], [4], [1], [2], [2], [1], [3], [4], [1], [2], [4], [1], [1], [2], [2], [2], [2], [3], [5], [4], [2], [2], [1], [2], [5], [2], [5], [1], [3], [2], [2], [4], [5], [2], [2], [2], [3], [2], [3], [4], [5], [3], [5], [1], [4], [3], [2], [4], [1], [2], [2], [5], [4], [2], [2], [1], [1], [5], [1], [3], [1], [2], [1], [2], [3], [3], [2], [3], [4], [5], [1], [2], [5], [1], [3], [3], [4], [5], [2], [3], [3], [1], [4], [2], [1], [5], [1], [5], [1], [2], [1], [3], [5], [4], [2], [1], [3], [4], [1], [5], [2], [1], [5], [1], [4], [1], [4], [3], [1], [2], [5], [4], [4], [3], [4], [5], [4], [1], [2], [4], [2], [5], [1], [4], [3], [3], [3], [3], [5], [5], [5], [2], [3], [3], [1], [1], [4], [1], [3], [2], [2], [4], [1], [4], [2], [4], [3], [3], [1], [2], [3], [1], [2], [4], [2], [2], [5], [5], [1], [2], [4], [4], [3], [2], [3], [1], [5], [5], [3], [3], [2], [2], [4], [4], [1], [1], [3], [4], [1], [4], [2], [1], [2], [3], [1], [5], [2], [4], [3], [5], [4], [2], [1], [5], [4], [4], [5], [3], [4], [5], [1], [5], [1], [1], [1], [3], [4], [1], [2], [1], [1], [2], [4], [1], [2], [5], [3], [4], [1], [3], [4], [5], [3], [1], [3], [4], [2], [5], [1], [3], [2], [4], [4], [4], [3], [2], [1], [3], [5], [4], [5], [1], [4], [2], [3], [5], [4], [3], [1], [1], [2], [5], [2], [2], [3], [2], [2], [3], [4], [5], [3], [5], [5], [2], [3], [1], [3], [5], [1], [5], [3], [5], [5], [5], [2], [1], [3], [1], [5], [4], [4], [2], [3], [5], [2], [1], [2], [3], [3], [2], [1], [4], [4], [4], [2], [3], [3], [2], [1], [1], [5], [2], [1], [1], [3], [3], [3], [5], [3], [2], [4], [2], [3], [5], [5], [2], [1], [3], [5], [1], [5], [3], [3], [2], [3], [1], [5], [5], [4], [4], [4], [4], [3], [4], [2], [4], [1], [1], [5], [2], [4], [5], [2], [4], [1], [4], [5], [5], [3], [3], [1], [2], [2], [4], [5], [1], [3], [2], [4], [5], [3], [1], [5], [3], [3], [4], [1], [3], [2], [3], [5], [4], [1], [3], [5], [5], [2], [1], [4], [4], [1], [5], [4], [3], [4], [1], [3], [3], [1], [5], [1], [3], [1], [4], [5], [1], [5], [2], [2], [5], [5], [5], [4], [1], [2], [2], [3], [3], [2], [3], [5], [1], [1], [4], [3], [1], [2], [1], [2], [4], [1], [1], [2], [5], [1], [1], [4], [1], [2], [3], [2], [5], [4], [5], [3], [2], [5], [3], [5], [3], [3], [2], [1], [1], [1], [4], [4], [1], [3], [5], [4], [1], [5], [2], [5], [3], [2], [1], [4], [2], [1], [3], [2], [5], [5], [5], [3], [5], [3], [5], [1], [5], [1], [3], [3], [2], [3], [4], [1], [4], [1], [2], [3], [4], [5], [5], [3], [5], [3], [1], [1], [3], [2], [4], [1], [3], [3], [5], [1], [3], [3], [2], [4], [4], [2], [4], [1], [1], [2], [3], [2], [4], [1], [4], [3], [5], [1], [2], [1], [5], [4], [4], [1], [3], [1], [2], [1], [2], [1], [1], [5], [5], [2], [4], [4], [2], [4], [2], [2], [1], [1], [3], [1], [4], [1], [4], [1], [1], [2], [2], [4], [1], [2], [4], [4], [3], [1], [2], [5], [5], [4], [3], [1], [1], [4], [2], [4], [5], [5], [3], [3], [2], [5], [1], [5], [5], [2], [1], [3], [4], [2], [1], [5], [4], [3], [3], [1], [1], [2], [2], [2], [2], [2], [5], [2], [3], [3], [4], [4], [5], [3], [5], [2], [3], [1], [1], [2], [4], [2], [4], [1], [2], [2], [3], [1], [1], [3], [3], [5], [5], [3], [2], [3], [3], [2], [4], [3], [3], [3], [3], [3], [5], [5], [4], [3], [1], [3], [1], [4], [1], [1], [1], [5], [4], [5], [4], [1], [4], [1], [1], [5], [5], [2], [5], [5], [3], [2], [1], [4], [4], [3], [2], [1], [2], [5], [1], [3], [5], [1], [1], [2], [3], [4], [4], [2], [2], [1], [3], [5], [1], [1], [3], [5], [4], [1], [5], [2], [3], [1], [3], [4], [5], [1], [3], [2], [5], [3], [5], [3], [1], [3], [2], [2], [3], [2], [4], [1], [2], [5], [2], [1], [1], [5], [4], [3], [4], [3], [3], [1], [1], [1], [2], [4], [5], [2], [1], [2], [1], [2], [4], [2], [2], [2], [2], [1], [1], [1], [2], [2], [5], [2], [2], [2], [1], [1], [1], [4], [2], [1], [1], [1], [2], [5], [4], [4], [4], [3], [2], [2], [4], [2], [4], [1], [1], [3], [3], [3], [1], [1], [3], [3], [4], [2], [1], [1], [1], [1], [2], [1], [2], [2], [2], [2], [1], [3], [1], [4], [4], [1], [4], [2], [5], [2], [1], [2], [4], [4], [3], [5], [2], [5], [2], [4], [3], [5], [3], [5], [5], [4], [2], [4], [4], [2], [3], [1], [5], [2], [3], [5], [2], [4], [1], [4], [3], [1], [3], [2], [3], [3], [2], [2], [2], [4], [3], [2], [3], [2], [5], [3], [1], [3], [3], [1], [5], [4], [4], [2], [4], [1], [2], [2], [3], [1], [4], [4], [4], [1], [5], [1], [3], [2], [3], [3], [5], [4], [2], [4], [1], [5], [5], [1], [2], [5], [4], [4], [1], [5], [2], [3], [3], [3], [4], [4], [2], [3], [2], [3], [3], [5], [1], [4], [2], [4], [5], [4], [4], [1], [3], [1], [1], [3], [5], [5], [2], [3], [3], [1], [2], [2], [4], [2], [4], [4], [1], [2], [3], [1], [2], [2], [1], [4], [1], [4], [5], [1], [1], [5], [2], [4], [1], [1], [3], [4], [2], [3], [1], [1], [3], [5], [4], [4], [4], [2], [1], [5], [5], [4], [2], [3], [4], [1], [1], [4], [4], [3], [2], [1], [5], [5], [1], [5], [4], [4], [2], [2], [2], [1], [1], [4], [1], [2], [4], [2], [2], [1], [2], [3], [2], [2], [4], [2], [4], [3], [4], [5], [3], [4], [5], [1], [3], [5], [2], [4], [2], [4], [5], [4], [1], [2], [2], [3], [5], [3], [1]]\n",
        "# {'sport': 1, 'business': 2, 'politics': 3, 'tech': 4, 'entertainment': 5}"
      ],
      "execution_count": 53,
      "outputs": [
        {
          "output_type": "stream",
          "text": [
            "[[5], [1], [4], [4], [2], [3], [3], [4], [4], [2], [2], [1], [1], [3], [4], [1], [3], [4], [1], [5], [5], [5], [4], [4], [5], [4], [2], [5], [3], [2], [3], [5], [2], [2], [1], [3], [5], [2], [3], [1], [3], [4], [1], [4], [5], [2], [3], [3], [3], [1], [4], [3], [1], [1], [4], [3], [1], [4], [4], [1], [1], [4], [1], [4], [1], [5], [1], [2], [5], [1], [3], [1], [3], [4], [1], [5], [1], [4], [4], [1], [1], [4], [3], [1], [2], [3], [3], [1], [2], [1], [4], [4], [3], [4], [3], [4], [1], [4], [1], [2], [2], [4], [1], [3], [3], [5], [4], [2], [4], [5], [1], [2], [4], [2], [4], [2], [2], [3], [4], [4], [2], [3], [1], [5], [1], [1], [5], [4], [3], [4], [5], [2], [4], [1], [1], [5], [2], [5], [4], [1], [1], [1], [5], [4], [5], [1], [4], [2], [4], [5], [4], [5], [3], [1], [5], [2], [4], [1], [3], [1], [2], [3], [3], [2], [3], [1], [2], [3], [3], [2], [3], [4], [1], [3], [3], [1], [2], [4], [1], [1], [4], [5], [4], [5], [5], [4], [1], [4], [3], [2], [3], [1], [3], [1], [5], [3], [2], [3], [5], [1], [4], [1], [4], [5], [2], [1], [3], [3], [2], [4], [2], [3], [4], [2], [4], [4], [2], [4], [3], [3], [2], [5], [4], [3], [1], [2], [5], [4], [5], [4], [2], [3], [4], [2], [5], [1], [5], [1], [1], [5], [1], [4], [1], [4], [1], [4], [2], [1], [1], [2], [4], [4], [3], [5], [3], [3], [3], [5], [4], [5], [3], [1], [5], [2], [5], [4], [4], [1], [1], [3], [1], [5], [4], [2], [4], [3], [5], [2], [1], [4], [2], [4], [5], [3], [5], [1], [1], [3], [3], [4], [1], [5], [2], [3], [5], [1], [2], [4], [2], [4], [2], [3], [1], [4], [1], [4], [4], [2], [4], [3], [3], [1], [2], [5], [1], [4], [1], [2], [1], [1], [1], [3], [1], [3], [2], [2], [1], [4], [1], [3], [1], [5], [2], [1], [4], [4], [2], [1], [1], [3], [5], [2], [5], [3], [1], [4], [3], [1], [2], [5], [2], [5], [3], [4], [2], [1], [3], [1], [1], [3], [4], [5], [1], [1], [2], [2], [5], [4], [1], [2], [5], [5], [2], [2], [2], [3], [4], [3], [5], [1], [2], [3], [1], [2], [3], [3], [4], [4], [1], [3], [2], [1], [4], [1], [1], [4], [1], [3], [3], [3], [4], [5], [5], [1], [5], [4], [2], [1], [3], [1], [2], [1], [3], [2], [3], [1], [5], [1], [4], [4], [1], [4], [4], [2], [4], [4], [4], [5], [1], [1], [1], [3], [4], [4], [1], [5], [1], [3], [4], [3], [5], [1], [4], [2], [1], [3], [5], [1], [4], [1], [3], [1], [1], [4], [2], [5], [3], [5], [1], [4], [1], [2], [5], [5], [1], [4], [4], [2], [3], [3], [3], [4], [3], [5], [5], [2], [3], [5], [2], [1], [4], [4], [5], [1], [4], [4], [3], [4], [4], [1], [4], [2], [5], [3], [4], [3], [5], [1], [1], [1], [5], [1], [1], [4], [4], [4], [4], [1], [5], [2], [4], [4], [5], [1], [5], [2], [3], [4], [1], [3], [1], [5], [5], [3], [5], [1], [4], [1], [2], [4], [3], [2], [4], [4], [3], [5], [2], [5], [4], [3], [1], [2], [3], [1], [2], [4], [4], [5], [3], [2], [3], [2], [3], [5], [3], [2], [4], [1], [4], [2], [4], [2], [5], [1], [4], [3], [2], [3], [2], [2], [2], [3], [2], [5], [3], [5], [5], [4], [4], [5], [5], [4], [2], [2], [4], [5], [2], [4], [4], [5], [1], [3], [5], [1], [4], [2], [4], [2], [3], [5], [2], [2], [1], [2], [2], [4], [5], [5], [3], [4], [5], [4], [3], [3], [2], [5], [1], [5], [5], [5], [1], [3], [3], [4], [5], [1], [1], [2], [2], [4], [5], [1], [5], [2], [4], [5], [3], [5], [3], [1], [3], [3], [1], [4], [5], [4], [5], [3], [2], [5], [4], [2], [5], [4], [3], [2], [4], [5], [4], [4], [3], [2], [1], [3], [2], [1], [1], [5], [1], [2], [5], [4], [5], [3], [5], [3], [1], [3], [2], [4], [1], [1], [1], [2], [4], [1], [2], [2], [4], [2], [3], [3], [3], [4], [4], [4], [5], [3], [4], [3], [3], [5], [3], [4], [1], [2], [4], [1], [1], [5], [1], [2], [2], [2], [1], [2], [2], [3], [5], [1], [4], [5], [4], [4], [3], [1], [4], [5], [1], [4], [5], [4], [4], [2], [4], [1], [4], [1], [5], [3], [5], [1], [4], [4], [1], [1], [1], [1], [3], [4], [1], [5], [1], [4], [3], [1], [5], [1], [4], [1], [3], [2], [4], [1], [3], [1], [2], [1], [1], [1], [4], [3], [2], [4], [3], [4], [3], [3], [1], [1], [4], [5], [2], [4], [2], [1], [1], [1], [5], [4], [5], [3], [5], [5], [5], [4], [5], [5], [2], [2], [5], [4], [2], [5], [4], [4], [1], [2], [5], [1], [4], [1], [3], [1], [2], [5], [1], [3], [1], [5], [4], [1], [2], [1], [3], [4], [2], [3], [4], [1], [4], [3], [3], [4], [2], [2], [1], [1], [4], [5], [5], [4], [2], [5], [5], [1], [4], [2], [5], [4], [4], [1], [2], [1], [1], [1], [2], [4], [2], [5], [5], [5], [3], [5], [5], [2], [2], [4], [4], [3], [1], [2], [4], [3], [2], [5], [3], [5], [5], [1], [2], [3], [5], [3], [3], [4], [3], [3], [2], [5], [4], [3], [4], [2], [3], [1], [1], [3], [4], [4], [4], [2], [5], [5], [1], [2], [4], [3], [5], [3], [2], [5], [5], [1], [1], [4], [1], [1], [5], [3], [2], [1], [1], [1], [1], [1], [5], [4], [3], [5], [5], [1], [1], [2], [3], [2], [4], [5], [4], [2], [4], [5], [4], [1], [4], [3], [3], [2], [1], [4], [3], [3], [4], [2], [3], [1], [5], [4], [1], [1], [1], [2], [2], [5], [5], [1], [1], [2], [4], [1], [2], [5], [5], [1], [1], [4], [4], [4], [3], [3], [4], [3], [4], [1], [2], [4], [5], [2], [4], [4], [1], [1], [5], [5], [4], [2], [4], [2], [4], [2], [3], [2], [2], [5], [2], [1], [1], [3], [4], [3], [5], [1], [3], [4], [3], [4], [2], [4], [3], [4], [4], [5], [2], [4], [3], [4], [4], [1], [5], [2], [3], [5], [2], [3], [2], [3], [2], [2], [5], [2], [3], [2], [2], [5], [5], [4], [4], [2], [2], [5], [2], [3], [5], [2], [1], [5], [4], [1], [2], [2], [5], [2], [5], [1], [2], [4], [2], [1], [4], [1], [4], [3], [5], [2], [3], [1], [2], [2], [3], [1], [2], [4], [3], [4], [1], [1], [1], [1], [1], [2], [5], [4], [2], [2], [1], [4], [5], [5], [2], [4], [1], [3], [1], [3], [1], [1], [2], [3], [1], [1], [5], [3], [4], [5], [2], [3], [1], [1], [4], [2], [3], [5], [1], [1], [3], [1], [4], [2], [4], [2], [5], [3], [1], [1], [5], [1], [1], [4], [1], [5], [2], [3], [1], [3], [1], [4], [5], [1], [3], [2], [5], [1], [2], [4], [3], [3], [4], [3], [1], [5], [2], [4], [4], [5], [1], [4], [2], [5], [4], [3], [4], [1], [1], [1], [3], [2], [4], [3], [5], [1], [1], [5], [2], [2], [5], [5], [4], [4], [2], [5], [2], [4], [3], [5], [1], [4], [2], [1], [1], [2], [4], [1], [4], [5], [3], [3], [5], [2], [3], [2], [1], [1], [3], [4], [5], [4], [4], [4], [3], [1], [4], [1], [5], [4], [1], [1], [4], [3], [5], [4], [1], [5], [4], [4], [1], [1], [1], [1], [3], [2], [5], [1], [1], [4], [1], [2], [1], [2], [4], [3], [1], [1], [5], [2], [1], [1], [1], [3], [1], [3], [5], [2], [3], [2], [4], [5], [3], [1], [5], [4], [1], [1], [2], [5], [1], [1], [4], [4], [2], [4], [3], [4], [1], [4], [1], [3], [3], [1], [3], [5], [2], [4], [1], [2], [4], [3], [3], [5], [2], [1], [3], [3], [4], [5], [1], [4], [2], [4], [2], [4], [1], [4], [3], [2], [5], [1], [4], [3], [5], [4], [2], [1], [4], [2], [4], [5], [4], [5], [3], [4], [1], [2], [5], [5], [3], [5], [2], [5], [4], [1], [5], [1], [2], [4], [5], [3], [3], [3], [3], [2], [2], [2], [1], [3], [3], [4], [4], [5], [4], [3], [1], [1], [5], [4], [5], [1], [5], [3], [3], [4], [1], [3], [4], [1], [5], [1], [1], [2], [2], [4], [1], [5], [5], [3], [1], [3], [4], [2], [2], [3], [3], [1], [1], [5], [5], [4], [4], [3], [5], [4], [5], [1], [4], [1], [3], [4], [2], [1], [5], [3], [2], [5], [1], [4], [2], [5], [5], [2], [3], [5], [2], [4], [2], [4], [4], [4], [3], [5], [4], [1], [4], [4], [1], [5], [4], [1], [2], [3], [5], [4], [3], [5], [2], [3], [4], [3], [5], [1], [2], [4], [3], [1], [5], [5], [5], [3], [1], [4], [3], [2], [5], [2], [4], [5], [1], [3], [2], [5], [3], [4], [4], [1], [2], [1], [1], [3], [1], [1], [3], [5], [2], [3], [2], [2], [1], [3], [4], [3], [2], [4], [2], [3], [2], [2], [2], [1], [4], [3], [4], [2], [5], [5], [1], [3], [2], [1], [4], [1], [3], [3], [1], [4], [5], [5], [5], [1], [3], [3], [1], [4], [4], [2], [1], [4], [4], [3], [3], [3], [2], [3], [1], [5], [1], [3], [2], [2], [1], [4], [3], [2], [4], [2], [3], [3], [1], [3], [4], [2], [2], [5], [5], [5], [5], [3], [5], [1], [5], [4], [4], [2], [1], [5], [2], [1], [5], [4], [5], [2], [2], [3], [3], [4], [1], [1], [5], [2], [4], [3], [1], [5], [2], [3], [4], [2], [3], [3], [5], [4], [3], [1], [3], [2], [5], [4], [3], [2], [2], [1], [4], [5], [5], [4], [2], [5], [3], [5], [4], [3], [3], [4], [2], [4], [3], [4], [5], [2], [4], [2], [1], [1], [2], [2], [2], [5], [4], [1], [1], [3], [3], [1], [3], [2], [4], [4], [5], [3], [4], [1], [4], [1], [5], [4], [4], [1], [2], [4], [4], [5], [4], [1], [3], [1], [2], [5], [2], [3], [1], [2], [3], [2], [3], [3], [1], [4], [4], [4], [5], [5], [4], [3], [2], [5], [4], [2], [1], [2], [3], [1], [4], [5], [1], [4], [3], [1], [2], [2], [2], [3], [2], [3], [2], [4], [2], [4], [3], [3], [1], [3], [5], [4], [5], [4], [1], [3], [5], [2], [2], [3], [2], [3], [4], [4], [3], [1], [5], [4], [3], [3], [2], [4], [3], [3], [1], [5], [5], [1], [5], [4], [4], [1], [3], [1], [5], [4], [5], [3], [2], [4], [1], [4], [2], [5], [5], [4], [3], [4], [1], [4], [1], [4], [4], [2], [2], [1], [5], [5], [1], [5], [1], [1], [4], [4], [3], [4], [5], [4], [5], [4], [4], [1], [1], [5], [4], [1], [5], [5], [3], [4], [1], [2], [2], [5], [3], [4], [4], [5], [1], [5], [2], [2], [3], [3], [1], [2], [4], [2], [2], [1], [4], [3], [5], [1], [4], [2], [5], [3], [3], [4], [4], [1], [1], [1], [1], [1], [2], [1], [3], [3], [5], [5], [2], [3], [2], [1], [3], [4], [4], [1], [5], [1], [5], [4], [1], [1], [3], [4], [4], [3], [3], [2], [2], [3], [1], [3], [3], [1], [5], [3], [3], [3], [3], [3], [2], [2], [5], [3], [4], [3], [4], [5], [4], [4], [4], [2], [5], [2], [5], [4], [5], [4], [4], [2], [2], [1], [2], [2], [3], [1], [4], [5], [5], [3], [1], [4], [1], [2], [4], [3], [2], [4], [4], [1], [3], [5], [5], [1], [1], [4], [3], [2], [4], [4], [3], [2], [5], [4], [2], [1], [3], [4], [3], [5], [2], [4], [3], [1], [2], [3], [2], [3], [4], [3], [1], [1], [3], [1], [5], [4], [1], [2], [1], [4], [4], [2], [5], [3], [5], [3], [3], [4], [4], [4], [1], [5], [2], [1], [4], [1], [4], [1], [5], [1], [1], [1], [1], [4], [4], [4], [1], [1], [2], [1], [1], [1], [4], [4], [4], [5], [1], [4], [4], [4], [1], [2], [5], [5], [5], [3], [1], [1], [5], [1], [5], [4], [4], [3], [3], [3], [4], [4], [3], [3], [5], [1], [4], [4], [4], [4], [1], [4], [1], [1], [1], [1], [4], [3], [4], [5], [5], [4], [5], [1], [2], [1], [4], [1], [5], [5], [3], [2], [1], [2], [1], [5], [3], [2], [3], [2], [2], [5], [1], [5], [5], [1], [3], [4], [2], [1], [3], [2], [1], [5], [4], [5], [3], [4], [3], [1], [3], [3], [1], [1], [1], [5], [3], [1], [3], [1], [2], [3], [4], [3], [3], [4], [2], [5], [5], [1], [5], [4], [1], [1], [3], [4], [5], [5], [5], [4], [2], [4], [3], [1], [3], [3], [2], [5], [1], [5], [4], [2], [2], [4], [1], [2], [5], [5], [4], [2], [1], [3], [3], [3], [5], [5], [1], [3], [1], [3], [3], [2], [4], [5], [1], [5], [2], [5], [5], [4], [3], [4], [4], [3], [2], [2], [1], [3], [3], [4], [1], [1], [5], [1], [5], [5], [4], [1], [3], [4], [1], [1], [4], [5], [4], [5], [2], [4], [4], [2], [1], [5], [4], [4], [3], [5], [1], [3], [4], [4], [3], [2], [5], [5], [5], [1], [4], [2], [2], [5], [1], [3], [5], [4], [4], [5], [5], [3], [1], [4], [2], [2], [4], [2], [5], [5], [1], [1], [1], [4], [4], [5], [4], [1], [5], [1], [1], [4], [1], [3], [1], [1], [5], [1], [5], [3], [5], [2], [3], [5], [2], [4], [3], [2], [1], [5], [1], [5], [2], [5], [4], [1], [1], [3], [2], [3], [4]]\n",
            "{'business': 1, 'entertainment': 2, 'politics': 3, 'sport': 4, 'tech': 5}\n"
          ],
          "name": "stdout"
        }
      ]
    }
  ]
}