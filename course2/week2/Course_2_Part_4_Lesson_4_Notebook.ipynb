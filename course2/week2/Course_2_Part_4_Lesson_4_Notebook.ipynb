{
  "nbformat": 4,
  "nbformat_minor": 0,
  "metadata": {
    "accelerator": "GPU",
    "colab": {
      "name": "Course 2 - Part 4 - Lesson 4 - Notebook.ipynb",
      "provenance": [],
      "collapsed_sections": []
    },
    "kernelspec": {
      "display_name": "Python 3",
      "name": "python3"
    }
  },
  "cells": [
    {
      "cell_type": "markdown",
      "metadata": {
        "id": "rX8mhOLljYeM"
      },
      "source": [
        "##### Copyright 2019 The TensorFlow Authors."
      ]
    },
    {
      "cell_type": "code",
      "metadata": {
        "cellView": "form",
        "id": "BZSlp3DAjdYf"
      },
      "source": [
        "#@title Licensed under the Apache License, Version 2.0 (the \"License\");\n",
        "# you may not use this file except in compliance with the License.\n",
        "# You may obtain a copy of the License at\n",
        "#\n",
        "# https://www.apache.org/licenses/LICENSE-2.0\n",
        "#\n",
        "# Unless required by applicable law or agreed to in writing, software\n",
        "# distributed under the License is distributed on an \"AS IS\" BASIS,\n",
        "# WITHOUT WARRANTIES OR CONDITIONS OF ANY KIND, either express or implied.\n",
        "# See the License for the specific language governing permissions and\n",
        "# limitations under the License."
      ],
      "execution_count": null,
      "outputs": []
    },
    {
      "cell_type": "code",
      "metadata": {
        "colab": {
          "base_uri": "https://localhost:8080/"
        },
        "id": "RXZT2UsyIVe_",
        "outputId": "3b99dace-eb8d-4ffb-8aff-e5da9dea75e2"
      },
      "source": [
        "!wget --no-check-certificate \\\n",
        "    https://storage.googleapis.com/laurencemoroney-blog.appspot.com/horse-or-human.zip \\\n",
        "    -O /tmp/horse-or-human.zip\n",
        "\n",
        "!wget --no-check-certificate \\\n",
        "    https://storage.googleapis.com/laurencemoroney-blog.appspot.com/validation-horse-or-human.zip \\\n",
        "    -O /tmp/validation-horse-or-human.zip\n",
        "  \n",
        "import os\n",
        "import zipfile\n",
        "\n",
        "local_zip = '/tmp/horse-or-human.zip'\n",
        "zip_ref = zipfile.ZipFile(local_zip, 'r')\n",
        "zip_ref.extractall('/tmp/horse-or-human')\n",
        "local_zip = '/tmp/validation-horse-or-human.zip'\n",
        "zip_ref = zipfile.ZipFile(local_zip, 'r')\n",
        "zip_ref.extractall('/tmp/validation-horse-or-human')\n",
        "zip_ref.close()\n",
        "# Directory with our training horse pictures\n",
        "train_horse_dir = os.path.join('/tmp/horse-or-human/horses')\n",
        "\n",
        "# Directory with our training human pictures\n",
        "train_human_dir = os.path.join('/tmp/horse-or-human/humans')\n",
        "\n",
        "# Directory with our training horse pictures\n",
        "validation_horse_dir = os.path.join('/tmp/validation-horse-or-human/horses')\n",
        "\n",
        "# Directory with our training human pictures\n",
        "validation_human_dir = os.path.join('/tmp/validation-horse-or-human/humans')"
      ],
      "execution_count": 2,
      "outputs": [
        {
          "output_type": "stream",
          "text": [
            "--2021-01-05 15:17:11--  https://storage.googleapis.com/laurencemoroney-blog.appspot.com/horse-or-human.zip\n",
            "Resolving storage.googleapis.com (storage.googleapis.com)... 64.233.189.128, 108.177.97.128, 2404:6800:4008:c07::80, ...\n",
            "Connecting to storage.googleapis.com (storage.googleapis.com)|64.233.189.128|:443... connected.\n",
            "HTTP request sent, awaiting response... 200 OK\n",
            "Length: 149574867 (143M) [application/zip]\n",
            "Saving to: ‘/tmp/horse-or-human.zip’\n",
            "\n",
            "/tmp/horse-or-human 100%[===================>] 142.65M  99.0MB/s    in 1.4s    \n",
            "\n",
            "2021-01-05 15:17:13 (99.0 MB/s) - ‘/tmp/horse-or-human.zip’ saved [149574867/149574867]\n",
            "\n",
            "--2021-01-05 15:17:13--  https://storage.googleapis.com/laurencemoroney-blog.appspot.com/validation-horse-or-human.zip\n",
            "Resolving storage.googleapis.com (storage.googleapis.com)... 74.125.204.128, 64.233.188.128, 64.233.189.128, ...\n",
            "Connecting to storage.googleapis.com (storage.googleapis.com)|74.125.204.128|:443... connected.\n",
            "HTTP request sent, awaiting response... 200 OK\n",
            "Length: 11480187 (11M) [application/zip]\n",
            "Saving to: ‘/tmp/validation-horse-or-human.zip’\n",
            "\n",
            "/tmp/validation-hor 100%[===================>]  10.95M  7.91MB/s    in 1.4s    \n",
            "\n",
            "2021-01-05 15:17:15 (7.91 MB/s) - ‘/tmp/validation-horse-or-human.zip’ saved [11480187/11480187]\n",
            "\n"
          ],
          "name": "stdout"
        }
      ]
    },
    {
      "cell_type": "markdown",
      "metadata": {
        "id": "5oqBkNBJmtUv"
      },
      "source": [
        "## Building a Small Model from Scratch\n",
        "\n",
        "But before we continue, let's start defining the model:\n",
        "\n",
        "Step 1 will be to import tensorflow."
      ]
    },
    {
      "cell_type": "code",
      "metadata": {
        "id": "qvfZg3LQbD-5"
      },
      "source": [
        "import tensorflow as tf"
      ],
      "execution_count": 3,
      "outputs": []
    },
    {
      "cell_type": "markdown",
      "metadata": {
        "id": "BnhYCP4tdqjC"
      },
      "source": [
        "We then add convolutional layers as in the previous example, and flatten the final result to feed into the densely connected layers."
      ]
    },
    {
      "cell_type": "markdown",
      "metadata": {
        "id": "gokG5HKpdtzm"
      },
      "source": [
        "Finally we add the densely connected layers. \n",
        "\n",
        "Note that because we are facing a two-class classification problem, i.e. a *binary classification problem*, we will end our network with a [*sigmoid* activation](https://wikipedia.org/wiki/Sigmoid_function), so that the output of our network will be a single scalar between 0 and 1, encoding the probability that the current image is class 1 (as opposed to class 0)."
      ]
    },
    {
      "cell_type": "code",
      "metadata": {
        "id": "PixZ2s5QbYQ3"
      },
      "source": [
        "model = tf.keras.models.Sequential([\n",
        "    # Note the input shape is the desired size of the image 300x300 with 3 bytes color\n",
        "    # This is the first convolution\n",
        "    tf.keras.layers.Conv2D(16, (3,3), activation='relu', input_shape=(300, 300, 3)),\n",
        "    tf.keras.layers.MaxPooling2D(2, 2),\n",
        "    # The second convolution\n",
        "    tf.keras.layers.Conv2D(32, (3,3), activation='relu'),\n",
        "    tf.keras.layers.MaxPooling2D(2,2),\n",
        "    # The third convolution\n",
        "    tf.keras.layers.Conv2D(64, (3,3), activation='relu'),\n",
        "    tf.keras.layers.MaxPooling2D(2,2),\n",
        "    # The fourth convolution\n",
        "    tf.keras.layers.Conv2D(64, (3,3), activation='relu'),\n",
        "    tf.keras.layers.MaxPooling2D(2,2),\n",
        "    # The fifth convolution\n",
        "    tf.keras.layers.Conv2D(64, (3,3), activation='relu'),\n",
        "    tf.keras.layers.MaxPooling2D(2,2),\n",
        "    # Flatten the results to feed into a DNN\n",
        "    tf.keras.layers.Flatten(),\n",
        "    # 512 neuron hidden layer\n",
        "    tf.keras.layers.Dense(512, activation='relu'),\n",
        "    # Only 1 output neuron. It will contain a value from 0-1 where 0 for 1 class ('horses') and 1 for the other ('humans')\n",
        "    tf.keras.layers.Dense(1, activation='sigmoid')\n",
        "])"
      ],
      "execution_count": 4,
      "outputs": []
    },
    {
      "cell_type": "code",
      "metadata": {
        "id": "8DHWhFP_uhq3"
      },
      "source": [
        "from tensorflow.keras.optimizers import RMSprop\n",
        "\n",
        "model.compile(loss='binary_crossentropy',\n",
        "              optimizer=RMSprop(lr=1e-4),\n",
        "              metrics=['accuracy'])"
      ],
      "execution_count": 5,
      "outputs": []
    },
    {
      "cell_type": "code",
      "metadata": {
        "colab": {
          "base_uri": "https://localhost:8080/"
        },
        "id": "ClebU9NJg99G",
        "outputId": "3bc0e768-9312-4ead-a6ca-005f3d31729d"
      },
      "source": [
        "from tensorflow.keras.preprocessing.image import ImageDataGenerator\n",
        "\n",
        "# All images will be rescaled by 1./255\n",
        "train_datagen = ImageDataGenerator(\n",
        "      rescale=1./255,\n",
        "      rotation_range=40,\n",
        "      width_shift_range=0.2,\n",
        "      height_shift_range=0.2,\n",
        "      shear_range=0.2,\n",
        "      zoom_range=0.2,\n",
        "      horizontal_flip=True,\n",
        "      fill_mode='nearest')\n",
        "\n",
        "validation_datagen = ImageDataGenerator(rescale=1/255)\n",
        "\n",
        "# Flow training images in batches of 128 using train_datagen generator\n",
        "train_generator = train_datagen.flow_from_directory(\n",
        "        '/tmp/horse-or-human/',  # This is the source directory for training images\n",
        "        target_size=(300, 300),  # All images will be resized to 150x150\n",
        "        batch_size=128,\n",
        "        # Since we use binary_crossentropy loss, we need binary labels\n",
        "        class_mode='binary')\n",
        "\n",
        "# Flow training images in batches of 128 using train_datagen generator\n",
        "validation_generator = validation_datagen.flow_from_directory(\n",
        "        '/tmp/validation-horse-or-human/',  # This is the source directory for training images\n",
        "        target_size=(300, 300),  # All images will be resized to 150x150\n",
        "        batch_size=32,\n",
        "        # Since we use binary_crossentropy loss, we need binary labels\n",
        "        class_mode='binary')"
      ],
      "execution_count": 6,
      "outputs": [
        {
          "output_type": "stream",
          "text": [
            "Found 1027 images belonging to 2 classes.\n",
            "Found 256 images belonging to 2 classes.\n"
          ],
          "name": "stdout"
        }
      ]
    },
    {
      "cell_type": "code",
      "metadata": {
        "colab": {
          "base_uri": "https://localhost:8080/"
        },
        "id": "Fb1_lgobv81m",
        "outputId": "49d2f653-035a-4fe2-ea03-f9a180417c15"
      },
      "source": [
        "history = model.fit(\n",
        "      train_generator,\n",
        "      steps_per_epoch=8,  \n",
        "      epochs=100,\n",
        "      verbose=1,\n",
        "      validation_data = validation_generator,\n",
        "      validation_steps=8)"
      ],
      "execution_count": 7,
      "outputs": [
        {
          "output_type": "stream",
          "text": [
            "Epoch 1/100\n",
            "8/8 [==============================] - 25s 2s/step - loss: 0.6967 - accuracy: 0.5193 - val_loss: 0.6989 - val_accuracy: 0.5000\n",
            "Epoch 2/100\n",
            "8/8 [==============================] - 20s 3s/step - loss: 0.6840 - accuracy: 0.5158 - val_loss: 0.6644 - val_accuracy: 0.5039\n",
            "Epoch 3/100\n",
            "8/8 [==============================] - 20s 3s/step - loss: 0.6751 - accuracy: 0.6224 - val_loss: 0.6340 - val_accuracy: 0.8789\n",
            "Epoch 4/100\n",
            "8/8 [==============================] - 21s 3s/step - loss: 0.6610 - accuracy: 0.6041 - val_loss: 0.6215 - val_accuracy: 0.7188\n",
            "Epoch 5/100\n",
            "8/8 [==============================] - 20s 3s/step - loss: 0.6382 - accuracy: 0.6760 - val_loss: 0.6457 - val_accuracy: 0.5352\n",
            "Epoch 6/100\n",
            "8/8 [==============================] - 21s 3s/step - loss: 0.6329 - accuracy: 0.6553 - val_loss: 0.6245 - val_accuracy: 0.5586\n",
            "Epoch 7/100\n",
            "8/8 [==============================] - 21s 3s/step - loss: 0.5990 - accuracy: 0.7367 - val_loss: 0.5595 - val_accuracy: 0.7188\n",
            "Epoch 8/100\n",
            "8/8 [==============================] - 20s 3s/step - loss: 0.6044 - accuracy: 0.7077 - val_loss: 0.6833 - val_accuracy: 0.5352\n",
            "Epoch 9/100\n",
            "8/8 [==============================] - 20s 3s/step - loss: 0.5623 - accuracy: 0.7683 - val_loss: 0.6176 - val_accuracy: 0.5859\n",
            "Epoch 10/100\n",
            "8/8 [==============================] - 20s 2s/step - loss: 0.5509 - accuracy: 0.7382 - val_loss: 0.6753 - val_accuracy: 0.5508\n",
            "Epoch 11/100\n",
            "8/8 [==============================] - 20s 3s/step - loss: 0.5619 - accuracy: 0.7322 - val_loss: 0.6885 - val_accuracy: 0.5586\n",
            "Epoch 12/100\n",
            "8/8 [==============================] - 23s 3s/step - loss: 0.4979 - accuracy: 0.7820 - val_loss: 0.8361 - val_accuracy: 0.5312\n",
            "Epoch 13/100\n",
            "8/8 [==============================] - 20s 3s/step - loss: 0.4787 - accuracy: 0.7925 - val_loss: 0.8549 - val_accuracy: 0.5547\n",
            "Epoch 14/100\n",
            "8/8 [==============================] - 20s 2s/step - loss: 0.4862 - accuracy: 0.7567 - val_loss: 0.3631 - val_accuracy: 0.8477\n",
            "Epoch 15/100\n",
            "8/8 [==============================] - 20s 3s/step - loss: 0.5828 - accuracy: 0.6926 - val_loss: 0.8257 - val_accuracy: 0.5977\n",
            "Epoch 16/100\n",
            "8/8 [==============================] - 20s 2s/step - loss: 0.4547 - accuracy: 0.7802 - val_loss: 1.3574 - val_accuracy: 0.5234\n",
            "Epoch 17/100\n",
            "8/8 [==============================] - 20s 2s/step - loss: 0.4520 - accuracy: 0.8009 - val_loss: 1.1311 - val_accuracy: 0.5352\n",
            "Epoch 18/100\n",
            "8/8 [==============================] - 20s 2s/step - loss: 0.4274 - accuracy: 0.8190 - val_loss: 1.0294 - val_accuracy: 0.5703\n",
            "Epoch 19/100\n",
            "8/8 [==============================] - 20s 2s/step - loss: 0.4891 - accuracy: 0.7473 - val_loss: 1.1239 - val_accuracy: 0.5742\n",
            "Epoch 20/100\n",
            "8/8 [==============================] - 20s 3s/step - loss: 0.3908 - accuracy: 0.8322 - val_loss: 1.5924 - val_accuracy: 0.5312\n",
            "Epoch 21/100\n",
            "8/8 [==============================] - 20s 2s/step - loss: 0.4637 - accuracy: 0.7844 - val_loss: 1.0435 - val_accuracy: 0.6250\n",
            "Epoch 22/100\n",
            "8/8 [==============================] - 20s 2s/step - loss: 0.3895 - accuracy: 0.8269 - val_loss: 0.8677 - val_accuracy: 0.6914\n",
            "Epoch 23/100\n",
            "8/8 [==============================] - 23s 3s/step - loss: 0.3954 - accuracy: 0.8204 - val_loss: 2.0341 - val_accuracy: 0.5234\n",
            "Epoch 24/100\n",
            "8/8 [==============================] - 20s 3s/step - loss: 0.4105 - accuracy: 0.8254 - val_loss: 1.5979 - val_accuracy: 0.5742\n",
            "Epoch 25/100\n",
            "8/8 [==============================] - 20s 2s/step - loss: 0.4140 - accuracy: 0.8172 - val_loss: 1.4508 - val_accuracy: 0.5898\n",
            "Epoch 26/100\n",
            "8/8 [==============================] - 20s 2s/step - loss: 0.3703 - accuracy: 0.8314 - val_loss: 1.9375 - val_accuracy: 0.5508\n",
            "Epoch 27/100\n",
            "8/8 [==============================] - 20s 3s/step - loss: 0.4028 - accuracy: 0.8059 - val_loss: 1.6878 - val_accuracy: 0.5742\n",
            "Epoch 28/100\n",
            "8/8 [==============================] - 20s 2s/step - loss: 0.3686 - accuracy: 0.8260 - val_loss: 1.9639 - val_accuracy: 0.5547\n",
            "Epoch 29/100\n",
            "8/8 [==============================] - 20s 2s/step - loss: 0.3354 - accuracy: 0.8377 - val_loss: 1.6317 - val_accuracy: 0.5898\n",
            "Epoch 30/100\n",
            "8/8 [==============================] - 22s 3s/step - loss: 0.3315 - accuracy: 0.8524 - val_loss: 2.2451 - val_accuracy: 0.5430\n",
            "Epoch 31/100\n",
            "8/8 [==============================] - 20s 2s/step - loss: 0.3394 - accuracy: 0.8521 - val_loss: 2.3199 - val_accuracy: 0.5430\n",
            "Epoch 32/100\n",
            "8/8 [==============================] - 20s 2s/step - loss: 0.3455 - accuracy: 0.8554 - val_loss: 3.7963 - val_accuracy: 0.5000\n",
            "Epoch 33/100\n",
            "8/8 [==============================] - 20s 2s/step - loss: 0.4039 - accuracy: 0.7926 - val_loss: 1.3744 - val_accuracy: 0.6562\n",
            "Epoch 34/100\n",
            "8/8 [==============================] - 20s 3s/step - loss: 0.2984 - accuracy: 0.8858 - val_loss: 2.5829 - val_accuracy: 0.5391\n",
            "Epoch 35/100\n",
            "8/8 [==============================] - 20s 2s/step - loss: 0.3491 - accuracy: 0.8251 - val_loss: 1.4866 - val_accuracy: 0.6406\n",
            "Epoch 36/100\n",
            "8/8 [==============================] - 20s 2s/step - loss: 0.3264 - accuracy: 0.8559 - val_loss: 2.0203 - val_accuracy: 0.5938\n",
            "Epoch 37/100\n",
            "8/8 [==============================] - 20s 2s/step - loss: 0.2950 - accuracy: 0.8660 - val_loss: 2.0911 - val_accuracy: 0.5703\n",
            "Epoch 38/100\n",
            "8/8 [==============================] - 20s 2s/step - loss: 0.3096 - accuracy: 0.8792 - val_loss: 2.0314 - val_accuracy: 0.5898\n",
            "Epoch 39/100\n",
            "8/8 [==============================] - 20s 2s/step - loss: 0.2717 - accuracy: 0.8869 - val_loss: 2.1835 - val_accuracy: 0.5938\n",
            "Epoch 40/100\n",
            "8/8 [==============================] - 20s 2s/step - loss: 0.2986 - accuracy: 0.8852 - val_loss: 1.9057 - val_accuracy: 0.6250\n",
            "Epoch 41/100\n",
            "8/8 [==============================] - 20s 3s/step - loss: 0.2604 - accuracy: 0.8811 - val_loss: 2.6981 - val_accuracy: 0.5547\n",
            "Epoch 42/100\n",
            "8/8 [==============================] - 20s 3s/step - loss: 0.3069 - accuracy: 0.8586 - val_loss: 2.8732 - val_accuracy: 0.5469\n",
            "Epoch 43/100\n",
            "8/8 [==============================] - 22s 3s/step - loss: 0.2611 - accuracy: 0.8891 - val_loss: 1.5282 - val_accuracy: 0.6641\n",
            "Epoch 44/100\n",
            "8/8 [==============================] - 20s 2s/step - loss: 0.3052 - accuracy: 0.8745 - val_loss: 2.0361 - val_accuracy: 0.6250\n",
            "Epoch 45/100\n",
            "8/8 [==============================] - 20s 2s/step - loss: 0.3040 - accuracy: 0.8546 - val_loss: 2.4079 - val_accuracy: 0.5859\n",
            "Epoch 46/100\n",
            "8/8 [==============================] - 22s 3s/step - loss: 0.2326 - accuracy: 0.9106 - val_loss: 2.4483 - val_accuracy: 0.5898\n",
            "Epoch 47/100\n",
            "8/8 [==============================] - 22s 3s/step - loss: 0.2589 - accuracy: 0.8953 - val_loss: 2.4171 - val_accuracy: 0.5938\n",
            "Epoch 48/100\n",
            "8/8 [==============================] - 20s 2s/step - loss: 0.2548 - accuracy: 0.8958 - val_loss: 2.8375 - val_accuracy: 0.5625\n",
            "Epoch 49/100\n",
            "8/8 [==============================] - 20s 2s/step - loss: 0.2581 - accuracy: 0.8811 - val_loss: 2.6558 - val_accuracy: 0.5859\n",
            "Epoch 50/100\n",
            "8/8 [==============================] - 20s 2s/step - loss: 0.2322 - accuracy: 0.9082 - val_loss: 2.7084 - val_accuracy: 0.5859\n",
            "Epoch 51/100\n",
            "8/8 [==============================] - 20s 2s/step - loss: 0.2624 - accuracy: 0.8912 - val_loss: 2.6265 - val_accuracy: 0.5859\n",
            "Epoch 52/100\n",
            "8/8 [==============================] - 20s 2s/step - loss: 0.2286 - accuracy: 0.9094 - val_loss: 2.7595 - val_accuracy: 0.6055\n",
            "Epoch 53/100\n",
            "8/8 [==============================] - 20s 3s/step - loss: 0.2288 - accuracy: 0.9145 - val_loss: 3.5706 - val_accuracy: 0.5273\n",
            "Epoch 54/100\n",
            "8/8 [==============================] - 20s 2s/step - loss: 0.3163 - accuracy: 0.8700 - val_loss: 2.1462 - val_accuracy: 0.6172\n",
            "Epoch 55/100\n",
            "8/8 [==============================] - 20s 2s/step - loss: 0.2302 - accuracy: 0.8968 - val_loss: 2.2085 - val_accuracy: 0.6289\n",
            "Epoch 56/100\n",
            "8/8 [==============================] - 20s 2s/step - loss: 0.2093 - accuracy: 0.9085 - val_loss: 2.6929 - val_accuracy: 0.6055\n",
            "Epoch 57/100\n",
            "8/8 [==============================] - 20s 2s/step - loss: 0.2049 - accuracy: 0.9145 - val_loss: 2.6221 - val_accuracy: 0.6094\n",
            "Epoch 58/100\n",
            "8/8 [==============================] - 22s 3s/step - loss: 0.1764 - accuracy: 0.9352 - val_loss: 3.2212 - val_accuracy: 0.5898\n",
            "Epoch 59/100\n",
            "8/8 [==============================] - 20s 2s/step - loss: 0.2076 - accuracy: 0.9136 - val_loss: 3.5632 - val_accuracy: 0.5547\n",
            "Epoch 60/100\n",
            "8/8 [==============================] - 20s 3s/step - loss: 0.2047 - accuracy: 0.9224 - val_loss: 2.9280 - val_accuracy: 0.6055\n",
            "Epoch 61/100\n",
            "8/8 [==============================] - 22s 3s/step - loss: 0.2149 - accuracy: 0.9088 - val_loss: 1.9939 - val_accuracy: 0.6523\n",
            "Epoch 62/100\n",
            "8/8 [==============================] - 20s 2s/step - loss: 0.2440 - accuracy: 0.8956 - val_loss: 2.7418 - val_accuracy: 0.6172\n",
            "Epoch 63/100\n",
            "8/8 [==============================] - 20s 2s/step - loss: 0.1801 - accuracy: 0.9307 - val_loss: 1.8376 - val_accuracy: 0.6875\n",
            "Epoch 64/100\n",
            "8/8 [==============================] - 20s 2s/step - loss: 0.2728 - accuracy: 0.8771 - val_loss: 3.4077 - val_accuracy: 0.5781\n",
            "Epoch 65/100\n",
            "8/8 [==============================] - 20s 2s/step - loss: 0.2178 - accuracy: 0.9188 - val_loss: 3.0328 - val_accuracy: 0.6016\n",
            "Epoch 66/100\n",
            "8/8 [==============================] - 20s 2s/step - loss: 0.1866 - accuracy: 0.9263 - val_loss: 3.0000 - val_accuracy: 0.6055\n",
            "Epoch 67/100\n",
            "8/8 [==============================] - 20s 2s/step - loss: 0.1390 - accuracy: 0.9523 - val_loss: 3.7112 - val_accuracy: 0.5859\n",
            "Epoch 68/100\n",
            "8/8 [==============================] - 20s 3s/step - loss: 0.3523 - accuracy: 0.8525 - val_loss: 3.8010 - val_accuracy: 0.5664\n",
            "Epoch 69/100\n",
            "8/8 [==============================] - 20s 2s/step - loss: 0.2027 - accuracy: 0.9193 - val_loss: 3.6432 - val_accuracy: 0.5664\n",
            "Epoch 70/100\n",
            "8/8 [==============================] - 20s 2s/step - loss: 0.1893 - accuracy: 0.9198 - val_loss: 5.3725 - val_accuracy: 0.5156\n",
            "Epoch 71/100\n",
            "8/8 [==============================] - 20s 2s/step - loss: 0.2364 - accuracy: 0.9063 - val_loss: 2.9824 - val_accuracy: 0.6172\n",
            "Epoch 72/100\n",
            "8/8 [==============================] - 20s 2s/step - loss: 0.2256 - accuracy: 0.9137 - val_loss: 4.6829 - val_accuracy: 0.5352\n",
            "Epoch 73/100\n",
            "8/8 [==============================] - 20s 2s/step - loss: 0.2127 - accuracy: 0.9146 - val_loss: 2.6720 - val_accuracy: 0.6289\n",
            "Epoch 74/100\n",
            "8/8 [==============================] - 20s 2s/step - loss: 0.1911 - accuracy: 0.9176 - val_loss: 3.9086 - val_accuracy: 0.5664\n",
            "Epoch 75/100\n",
            "8/8 [==============================] - 20s 2s/step - loss: 0.1721 - accuracy: 0.9301 - val_loss: 4.7750 - val_accuracy: 0.5234\n",
            "Epoch 76/100\n",
            "8/8 [==============================] - 20s 2s/step - loss: 0.2106 - accuracy: 0.9169 - val_loss: 3.5056 - val_accuracy: 0.6016\n",
            "Epoch 77/100\n",
            "8/8 [==============================] - 22s 3s/step - loss: 0.1732 - accuracy: 0.9351 - val_loss: 5.0370 - val_accuracy: 0.5234\n",
            "Epoch 78/100\n",
            "8/8 [==============================] - 20s 2s/step - loss: 0.2630 - accuracy: 0.8876 - val_loss: 3.1595 - val_accuracy: 0.6016\n",
            "Epoch 79/100\n",
            "8/8 [==============================] - 20s 2s/step - loss: 0.1696 - accuracy: 0.9300 - val_loss: 3.7808 - val_accuracy: 0.5820\n",
            "Epoch 80/100\n",
            "8/8 [==============================] - 22s 3s/step - loss: 0.1634 - accuracy: 0.9447 - val_loss: 3.6884 - val_accuracy: 0.5742\n",
            "Epoch 81/100\n",
            "8/8 [==============================] - 20s 2s/step - loss: 0.1278 - accuracy: 0.9551 - val_loss: 4.0798 - val_accuracy: 0.5820\n",
            "Epoch 82/100\n",
            "8/8 [==============================] - 20s 2s/step - loss: 0.1391 - accuracy: 0.9437 - val_loss: 5.2306 - val_accuracy: 0.5156\n",
            "Epoch 83/100\n",
            "8/8 [==============================] - 20s 3s/step - loss: 0.3074 - accuracy: 0.8669 - val_loss: 2.4708 - val_accuracy: 0.6406\n",
            "Epoch 84/100\n",
            "8/8 [==============================] - 20s 2s/step - loss: 0.1870 - accuracy: 0.9267 - val_loss: 2.7039 - val_accuracy: 0.6406\n",
            "Epoch 85/100\n",
            "8/8 [==============================] - 20s 2s/step - loss: 0.1677 - accuracy: 0.9343 - val_loss: 4.6545 - val_accuracy: 0.5391\n",
            "Epoch 86/100\n",
            "8/8 [==============================] - 20s 2s/step - loss: 0.2124 - accuracy: 0.9239 - val_loss: 3.0103 - val_accuracy: 0.6133\n",
            "Epoch 87/100\n",
            "8/8 [==============================] - 20s 2s/step - loss: 0.1568 - accuracy: 0.9407 - val_loss: 3.8238 - val_accuracy: 0.5977\n",
            "Epoch 88/100\n",
            "8/8 [==============================] - 22s 3s/step - loss: 0.1755 - accuracy: 0.9359 - val_loss: 3.8036 - val_accuracy: 0.5977\n",
            "Epoch 89/100\n",
            "8/8 [==============================] - 20s 2s/step - loss: 0.1368 - accuracy: 0.9520 - val_loss: 3.3093 - val_accuracy: 0.6133\n",
            "Epoch 90/100\n",
            "8/8 [==============================] - 20s 2s/step - loss: 0.1734 - accuracy: 0.9356 - val_loss: 3.3288 - val_accuracy: 0.6055\n",
            "Epoch 91/100\n",
            "8/8 [==============================] - 23s 3s/step - loss: 0.1383 - accuracy: 0.9463 - val_loss: 4.1131 - val_accuracy: 0.5898\n",
            "Epoch 92/100\n",
            "8/8 [==============================] - 22s 3s/step - loss: 0.1871 - accuracy: 0.9244 - val_loss: 3.1048 - val_accuracy: 0.6094\n",
            "Epoch 93/100\n",
            "8/8 [==============================] - 20s 2s/step - loss: 0.1249 - accuracy: 0.9517 - val_loss: 6.4242 - val_accuracy: 0.5117\n",
            "Epoch 94/100\n",
            "8/8 [==============================] - 20s 2s/step - loss: 0.2815 - accuracy: 0.8668 - val_loss: 3.3202 - val_accuracy: 0.6094\n",
            "Epoch 95/100\n",
            "8/8 [==============================] - 20s 2s/step - loss: 0.1490 - accuracy: 0.9476 - val_loss: 3.3641 - val_accuracy: 0.6211\n",
            "Epoch 96/100\n",
            "8/8 [==============================] - 20s 2s/step - loss: 0.1703 - accuracy: 0.9229 - val_loss: 2.8176 - val_accuracy: 0.6289\n",
            "Epoch 97/100\n",
            "8/8 [==============================] - 20s 3s/step - loss: 0.1370 - accuracy: 0.9533 - val_loss: 4.2357 - val_accuracy: 0.5742\n",
            "Epoch 98/100\n",
            "8/8 [==============================] - 20s 2s/step - loss: 0.1384 - accuracy: 0.9519 - val_loss: 5.5177 - val_accuracy: 0.5312\n",
            "Epoch 99/100\n",
            "8/8 [==============================] - 20s 2s/step - loss: 0.1481 - accuracy: 0.9499 - val_loss: 2.1919 - val_accuracy: 0.6797\n",
            "Epoch 100/100\n",
            "8/8 [==============================] - 20s 3s/step - loss: 0.1295 - accuracy: 0.9492 - val_loss: 4.2807 - val_accuracy: 0.5898\n"
          ],
          "name": "stdout"
        }
      ]
    },
    {
      "cell_type": "code",
      "metadata": {
        "colab": {
          "base_uri": "https://localhost:8080/",
          "height": 545
        },
        "id": "7zNPRWOVJdOH",
        "outputId": "436393b7-62ee-4c5a-a99d-215dd8353c74"
      },
      "source": [
        "import matplotlib.pyplot as plt\n",
        "acc = history.history['accuracy']\n",
        "val_acc = history.history['val_accuracy']\n",
        "loss = history.history['loss']\n",
        "val_loss = history.history['val_loss']\n",
        "\n",
        "epochs = range(len(acc))\n",
        "\n",
        "plt.plot(epochs, acc, 'r', label='Training accuracy')\n",
        "plt.plot(epochs, val_acc, 'b', label='Validation accuracy')\n",
        "plt.title('Training and validation accuracy')\n",
        "plt.legend()\n",
        "plt.grid()\n",
        "\n",
        "plt.figure()\n",
        "plt.plot(epochs, loss, 'r', label='Training Loss')\n",
        "plt.plot(epochs, val_loss, 'b', label='Validation Loss')\n",
        "plt.title('Training and validation loss')\n",
        "plt.legend()\n",
        "plt.grid()\n",
        "\n",
        "plt.show()"
      ],
      "execution_count": 9,
      "outputs": [
        {
          "output_type": "display_data",
          "data": {
            "image/png": "[encoded data removed]",
            "text/plain": [
              "<Figure size 432x288 with 1 Axes>"
            ]
          },
          "metadata": {
            "tags": [],
            "needs_background": "light"
          }
        },
        {
          "output_type": "display_data",
          "data": {
            "image/png": "[encoded data removed]",
            "text/plain": [
              "<Figure size 432x288 with 1 Axes>"
            ]
          },
          "metadata": {
            "tags": [],
            "needs_background": "light"
          }
        }
      ]
    }
  ]
}