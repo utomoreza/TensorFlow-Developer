{
  "nbformat": 4,
  "nbformat_minor": 0,
  "metadata": {
    "accelerator": "GPU",
    "colab": {
      "name": "Course 3 - Week 2 - Exercise - Question.ipynb",
      "provenance": []
    },
    "kernelspec": {
      "display_name": "Python 3",
      "name": "python3"
    }
  },
  "cells": [
    {
      "cell_type": "code",
      "metadata": {
        "id": "zX4Kg8DUTKWO"
      },
      "source": [
        "#@title Licensed under the Apache License, Version 2.0 (the \"License\");\n",
        "# you may not use this file except in compliance with the License.\n",
        "# You may obtain a copy of the License at\n",
        "#\n",
        "# https://www.apache.org/licenses/LICENSE-2.0\n",
        "#\n",
        "# Unless required by applicable law or agreed to in writing, software\n",
        "# distributed under the License is distributed on an \"AS IS\" BASIS,\n",
        "# WITHOUT WARRANTIES OR CONDITIONS OF ANY KIND, either express or implied.\n",
        "# See the License for the specific language governing permissions and\n",
        "# limitations under the License."
      ],
      "execution_count": null,
      "outputs": []
    },
    {
      "cell_type": "markdown",
      "metadata": {
        "id": "view-in-github"
      },
      "source": [
        "<a href=\"https://colab.research.google.com/github/lmoroney/dlaicourse/blob/master/TensorFlow%20In%20Practice/Course%203%20-%20NLP/Course%203%20-%20Week%202%20-%20Exercise%20-%20Question.ipynb\" target=\"_parent\"><img src=\"https://colab.research.google.com/assets/colab-badge.svg\" alt=\"Open In Colab\"/></a>"
      ]
    },
    {
      "cell_type": "code",
      "metadata": {
        "colab": {
          "base_uri": "https://localhost:8080/"
        },
        "id": "gnwiOnGyW5JK",
        "outputId": "35b75ead-d754-4eb9-9843-c6525b85a653"
      },
      "source": [
        "import csv\n",
        "import tensorflow as tf\n",
        "import numpy as np\n",
        "from tensorflow.keras.preprocessing.text import Tokenizer\n",
        "from tensorflow.keras.preprocessing.sequence import pad_sequences\n",
        "\n",
        "!wget --no-check-certificate \\\n",
        "    https://storage.googleapis.com/laurencemoroney-blog.appspot.com/bbc-text.csv \\\n",
        "    -O /tmp/bbc-text.csv"
      ],
      "execution_count": 1,
      "outputs": [
        {
          "output_type": "stream",
          "text": [
            "--2021-01-16 13:40:12--  https://storage.googleapis.com/laurencemoroney-blog.appspot.com/bbc-text.csv\n",
            "Resolving storage.googleapis.com (storage.googleapis.com)... 172.217.13.240, 172.253.122.128, 172.217.9.208, ...\n",
            "Connecting to storage.googleapis.com (storage.googleapis.com)|172.217.13.240|:443... connected.\n",
            "HTTP request sent, awaiting response... 200 OK\n",
            "Length: 5057493 (4.8M) [application/octet-stream]\n",
            "Saving to: ‘/tmp/bbc-text.csv’\n",
            "\n",
            "\r/tmp/bbc-text.csv     0%[                    ]       0  --.-KB/s               \r/tmp/bbc-text.csv   100%[===================>]   4.82M  --.-KB/s    in 0.05s   \n",
            "\n",
            "2021-01-16 13:40:12 (107 MB/s) - ‘/tmp/bbc-text.csv’ saved [5057493/5057493]\n",
            "\n"
          ],
          "name": "stdout"
        }
      ]
    },
    {
      "cell_type": "code",
      "metadata": {
        "id": "EYo6A4v5ZABQ"
      },
      "source": [
        "vocab_size = 1000\n",
        "embedding_dim = 16\n",
        "max_length = 120\n",
        "trunc_type = 'post'\n",
        "padding_type = 'post'\n",
        "oov_tok = '<OOV>'\n",
        "training_portion = .8"
      ],
      "execution_count": 54,
      "outputs": []
    },
    {
      "cell_type": "code",
      "metadata": {
        "colab": {
          "base_uri": "https://localhost:8080/"
        },
        "id": "iU1qq3_SZBx_",
        "outputId": "bad15037-3fbb-4fc3-dcee-0fa504785fc0"
      },
      "source": [
        "sentences = []\n",
        "labels = []\n",
        "\n",
        "stopwords = [ \"a\", \"about\", \"above\", \"after\", \"again\", \"against\", \"all\", \"am\", \"an\", \"and\", \"any\", \"are\", \"as\", \"at\", \"be\", \"because\", \"been\", \"before\", \"being\", \"below\", \"between\", \"both\", \"but\", \"by\", \"could\", \"did\", \"do\", \"does\", \"doing\", \"down\", \"during\", \"each\", \"few\", \"for\", \"from\", \"further\", \"had\", \"has\", \"have\", \"having\", \"he\", \"he'd\", \"he'll\", \"he's\", \"her\", \"here\", \"here's\", \"hers\", \"herself\", \"him\", \"himself\", \"his\", \"how\", \"how's\", \"i\", \"i'd\", \"i'll\", \"i'm\", \"i've\", \"if\", \"in\", \"into\", \"is\", \"it\", \"it's\", \"its\", \"itself\", \"let's\", \"me\", \"more\", \"most\", \"my\", \"myself\", \"nor\", \"of\", \"on\", \"once\", \"only\", \"or\", \"other\", \"ought\", \"our\", \"ours\", \"ourselves\", \"out\", \"over\", \"own\", \"same\", \"she\", \"she'd\", \"she'll\", \"she's\", \"should\", \"so\", \"some\", \"such\", \"than\", \"that\", \"that's\", \"the\", \"their\", \"theirs\", \"them\", \"themselves\", \"then\", \"there\", \"there's\", \"these\", \"they\", \"they'd\", \"they'll\", \"they're\", \"they've\", \"this\", \"those\", \"through\", \"to\", \"too\", \"under\", \"until\", \"up\", \"very\", \"was\", \"we\", \"we'd\", \"we'll\", \"we're\", \"we've\", \"were\", \"what\", \"what's\", \"when\", \"when's\", \"where\", \"where's\", \"which\", \"while\", \"who\", \"who's\", \"whom\", \"why\", \"why's\", \"with\", \"would\", \"you\", \"you'd\", \"you'll\", \"you're\", \"you've\", \"your\", \"yours\", \"yourself\", \"yourselves\" ]\n",
        "print(len(stopwords))\n",
        "# Expected Output\n",
        "# 153"
      ],
      "execution_count": 3,
      "outputs": [
        {
          "output_type": "stream",
          "text": [
            "153\n"
          ],
          "name": "stdout"
        }
      ]
    },
    {
      "cell_type": "code",
      "metadata": {
        "colab": {
          "base_uri": "https://localhost:8080/"
        },
        "id": "eutB2xMiZD0e",
        "outputId": "fef7af01-d638-4198-9011-8eedc42bd973"
      },
      "source": [
        "with open(\"/tmp/bbc-text.csv\", 'r') as csvfile:\n",
        "    next(csv.reader(csvfile))\n",
        "    for row in csv.reader(csvfile):\n",
        "        labels.append(row[0])\n",
        "        sentences.append(row[1])\n",
        "\n",
        "    \n",
        "print(len(labels))\n",
        "print(len(sentences))\n",
        "print(sentences[0])\n",
        "# Expected Output\n",
        "# 2225\n",
        "# 2225\n",
        "# tv future hands viewers home theatre systems  plasma high-definition tvs  digital video recorders moving living room  way people watch tv will radically different five years  time.  according expert panel gathered annual consumer electronics show las vegas discuss new technologies will impact one favourite pastimes. us leading trend  programmes content will delivered viewers via home networks  cable  satellite  telecoms companies  broadband service providers front rooms portable devices.  one talked-about technologies ces digital personal video recorders (dvr pvr). set-top boxes  like us s tivo uk s sky+ system  allow people record  store  play  pause forward wind tv programmes want.  essentially  technology allows much personalised tv. also built-in high-definition tv sets  big business japan us  slower take off europe lack high-definition programming. not can people forward wind adverts  can also forget abiding network channel schedules  putting together a-la-carte entertainment. us networks cable satellite companies worried means terms advertising revenues well  brand identity  viewer loyalty channels. although us leads technology moment  also concern raised europe  particularly growing uptake services like sky+.  happens today  will see nine months years  time uk   adam hume  bbc broadcast s futurologist told bbc news website. likes bbc  no issues lost advertising revenue yet. pressing issue moment commercial uk broadcasters  brand loyalty important everyone.  will talking content brands rather network brands   said tim hanlon  brand communications firm starcom mediavest.  reality broadband connections  anybody can producer content.  added:  challenge now hard promote programme much choice.   means  said stacey jolna  senior vice president tv guide tv group  way people find content want watch simplified tv viewers. means networks  us terms  channels take leaf google s book search engine future  instead scheduler help people find want watch. kind channel model might work younger ipod generation used taking control gadgets play them. might not suit everyone  panel recognised. older generations comfortable familiar schedules channel brands know getting. perhaps not want much choice put hands  mr hanlon suggested.  end  kids just diapers pushing buttons already - everything possible available   said mr hanlon.  ultimately  consumer will tell market want.   50 000 new gadgets technologies showcased ces  many enhancing tv-watching experience. high-definition tv sets everywhere many new models lcd (liquid crystal display) tvs launched dvr capability built  instead external boxes. one example launched show humax s 26-inch lcd tv 80-hour tivo dvr dvd recorder. one us s biggest satellite tv companies  directtv  even launched branded dvr show 100-hours recording capability  instant replay  search function. set can pause rewind tv 90 hours. microsoft chief bill gates announced pre-show keynote speech partnership tivo  called tivotogo  means people can play recorded programmes windows pcs mobile devices. reflect increasing trend freeing multimedia people can watch want  want."
      ],
      "execution_count": 7,
      "outputs": [
        {
          "output_type": "stream",
          "text": [
            "2225\n",
            "2225\n",
            "tv future in the hands of viewers with home theatre systems  plasma high-definition tvs  and digital video recorders moving into the living room  the way people watch tv will be radically different in five years  time.  that is according to an expert panel which gathered at the annual consumer electronics show in las vegas to discuss how these new technologies will impact one of our favourite pastimes. with the us leading the trend  programmes and other content will be delivered to viewers via home networks  through cable  satellite  telecoms companies  and broadband service providers to front rooms and portable devices.  one of the most talked-about technologies of ces has been digital and personal video recorders (dvr and pvr). these set-top boxes  like the us s tivo and the uk s sky+ system  allow people to record  store  play  pause and forward wind tv programmes when they want.  essentially  the technology allows for much more personalised tv. they are also being built-in to high-definition tv sets  which are big business in japan and the us  but slower to take off in europe because of the lack of high-definition programming. not only can people forward wind through adverts  they can also forget about abiding by network and channel schedules  putting together their own a-la-carte entertainment. but some us networks and cable and satellite companies are worried about what it means for them in terms of advertising revenues as well as  brand identity  and viewer loyalty to channels. although the us leads in this technology at the moment  it is also a concern that is being raised in europe  particularly with the growing uptake of services like sky+.  what happens here today  we will see in nine months to a years  time in the uk   adam hume  the bbc broadcast s futurologist told the bbc news website. for the likes of the bbc  there are no issues of lost advertising revenue yet. it is a more pressing issue at the moment for commercial uk broadcasters  but brand loyalty is important for everyone.  we will be talking more about content brands rather than network brands   said tim hanlon  from brand communications firm starcom mediavest.  the reality is that with broadband connections  anybody can be the producer of content.  he added:  the challenge now is that it is hard to promote a programme with so much choice.   what this means  said stacey jolna  senior vice president of tv guide tv group  is that the way people find the content they want to watch has to be simplified for tv viewers. it means that networks  in us terms  or channels could take a leaf out of google s book and be the search engine of the future  instead of the scheduler to help people find what they want to watch. this kind of channel model might work for the younger ipod generation which is used to taking control of their gadgets and what they play on them. but it might not suit everyone  the panel recognised. older generations are more comfortable with familiar schedules and channel brands because they know what they are getting. they perhaps do not want so much of the choice put into their hands  mr hanlon suggested.  on the other end  you have the kids just out of diapers who are pushing buttons already - everything is possible and available to them   said mr hanlon.  ultimately  the consumer will tell the market they want.   of the 50 000 new gadgets and technologies being showcased at ces  many of them are about enhancing the tv-watching experience. high-definition tv sets are everywhere and many new models of lcd (liquid crystal display) tvs have been launched with dvr capability built into them  instead of being external boxes. one such example launched at the show is humax s 26-inch lcd tv with an 80-hour tivo dvr and dvd recorder. one of the us s biggest satellite tv companies  directtv  has even launched its own branded dvr at the show with 100-hours of recording capability  instant replay  and a search function. the set can pause and rewind tv for up to 90 hours. and microsoft chief bill gates announced in his pre-show keynote speech a partnership with tivo  called tivotogo  which means people can play recorded programmes on windows pcs and mobile devices. all these reflect the increasing trend of freeing up multimedia so that people can watch what they want  when they want.\n"
          ],
          "name": "stdout"
        }
      ]
    },
    {
      "cell_type": "code",
      "metadata": {
        "colab": {
          "base_uri": "https://localhost:8080/"
        },
        "id": "XfdaWh06ZGe3",
        "outputId": "bd236d38-9278-48a3-92b1-94da127594f2"
      },
      "source": [
        "train_size = int(len(sentences)*training_portion)\n",
        "\n",
        "train_sentences = sentences[:train_size] #np.array(sentences[:train_size])\n",
        "train_labels = labels[:train_size] #np.array(labels[:train_size])\n",
        "\n",
        "validation_sentences = sentences[train_size:] #np.array(sentences[train_size:])\n",
        "validation_labels = labels[train_size:] #np.array(labels[train_size:])\n",
        "\n",
        "print(train_size)\n",
        "print(len(train_sentences))\n",
        "print(len(train_labels))\n",
        "print(len(validation_sentences))\n",
        "print(len(validation_labels))\n",
        "\n",
        "# Expected output (if training_portion=.8)\n",
        "# 1780\n",
        "# 1780\n",
        "# 1780\n",
        "# 445\n",
        "# 445"
      ],
      "execution_count": 62,
      "outputs": [
        {
          "output_type": "stream",
          "text": [
            "1780\n",
            "1780\n",
            "1780\n",
            "445\n",
            "445\n"
          ],
          "name": "stdout"
        }
      ]
    },
    {
      "cell_type": "code",
      "metadata": {
        "id": "3k0ozLxEdXOm"
      },
      "source": [
        "tokenizer.texts"
      ],
      "execution_count": 9,
      "outputs": []
    },
    {
      "cell_type": "code",
      "metadata": {
        "id": "nYBFKlqEgSh_",
        "outputId": "92afd036-6c8c-491a-eb5a-5abc8cdc34df",
        "colab": {
          "base_uri": "https://localhost:8080/"
        }
      },
      "source": [
        "train_padded"
      ],
      "execution_count": 27,
      "outputs": [
        {
          "output_type": "execute_result",
          "data": {
            "text/plain": [
              "array([[ 183,  259,    7, ..., 7888,    5, 5393],\n",
              "       [1957,  673,  322, ...,   27,  406, 1635],\n",
              "       [4378, 6178,    4, ...,   26, 1012,    3],\n",
              "       ...,\n",
              "       [6167,   35, 2767, ...,    1,    7,    6],\n",
              "       [2031,  153, 8312, ...,    6, 2431,   13],\n",
              "       [ 183, 3901,    1, ...,  637,  191, 7133]], dtype=int32)"
            ]
          },
          "metadata": {
            "tags": []
          },
          "execution_count": 27
        }
      ]
    },
    {
      "cell_type": "code",
      "metadata": {
        "colab": {
          "base_uri": "https://localhost:8080/"
        },
        "id": "ULzA8xhwZI22",
        "outputId": "ae2bdff8-2b5d-4b80-f5d4-671cfcb5b2f8"
      },
      "source": [
        "tokenizer = Tokenizer(num_words=vocab_size, oov_token=oov_tok)\n",
        "tokenizer.fit_on_texts(train_sentences)\n",
        "word_index = tokenizer.word_index\n",
        "\n",
        "train_sequences = tokenizer.texts_to_sequences(train_sentences)\n",
        "train_padded = pad_sequences(train_sequences, maxlen=max_length, padding=padding_type, truncating=trunc_type)\n",
        "\n",
        "print(len(train_sequences[0]))\n",
        "print(len(train_padded[0]))\n",
        "\n",
        "print(len(train_sequences[1]))\n",
        "print(len(train_padded[1]))\n",
        "\n",
        "print(len(train_sequences[10]))\n",
        "print(len(train_padded[10]))\n",
        "\n",
        "# Expected Ouput\n",
        "# 449\n",
        "# 120\n",
        "# 200\n",
        "# 120\n",
        "# 192\n",
        "# 120"
      ],
      "execution_count": 63,
      "outputs": [
        {
          "output_type": "stream",
          "text": [
            "750\n",
            "120\n",
            "300\n",
            "120\n",
            "311\n",
            "120\n"
          ],
          "name": "stdout"
        }
      ]
    },
    {
      "cell_type": "code",
      "metadata": {
        "colab": {
          "base_uri": "https://localhost:8080/"
        },
        "id": "c8PeFWzPZLW_",
        "outputId": "9fa91201-6b47-4453-b5fc-965730629e3f"
      },
      "source": [
        "validation_sequences = tokenizer.texts_to_sequences(validation_sentences)\n",
        "validation_padded = pad_sequences(validation_sequences, maxlen=max_length, padding=padding_type, truncating=trunc_type)\n",
        "\n",
        "print(len(validation_sequences))\n",
        "print(validation_padded.shape)\n",
        "\n",
        "# Expected output\n",
        "# 445\n",
        "# (445, 120)"
      ],
      "execution_count": 64,
      "outputs": [
        {
          "output_type": "stream",
          "text": [
            "445\n",
            "(445, 120)\n"
          ],
          "name": "stdout"
        }
      ]
    },
    {
      "cell_type": "code",
      "metadata": {
        "colab": {
          "base_uri": "https://localhost:8080/"
        },
        "id": "XkWiQ_FKZNp2",
        "outputId": "09e4930b-baf9-4fd5-897b-7fede266164c"
      },
      "source": [
        "label_tokenizer = Tokenizer()\n",
        "label_tokenizer.fit_on_texts(labels)\n",
        "\n",
        "training_label_seq = np.array(label_tokenizer.texts_to_sequences(train_labels))\n",
        "validation_label_seq = np.array(label_tokenizer.texts_to_sequences(validation_labels))\n",
        "\n",
        "print(training_label_seq[0])\n",
        "print(training_label_seq[1])\n",
        "print(training_label_seq[2])\n",
        "print(training_label_seq.shape)\n",
        "\n",
        "print(validation_label_seq[0])\n",
        "print(validation_label_seq[1])\n",
        "print(validation_label_seq[2])\n",
        "print(validation_label_seq.shape)\n",
        "\n",
        "# Expected output\n",
        "# [4]\n",
        "# [2]\n",
        "# [1]\n",
        "# (1780, 1)\n",
        "# [5]\n",
        "# [4]\n",
        "# [3]\n",
        "# (445, 1)"
      ],
      "execution_count": 66,
      "outputs": [
        {
          "output_type": "stream",
          "text": [
            "[4]\n",
            "[2]\n",
            "[1]\n",
            "(1780, 1)\n",
            "[5]\n",
            "[4]\n",
            "[3]\n",
            "(445, 1)\n"
          ],
          "name": "stdout"
        }
      ]
    },
    {
      "cell_type": "code",
      "metadata": {
        "id": "L5hBU2cBek86",
        "outputId": "669b460a-c076-45e1-8b05-f5d420b4f928",
        "colab": {
          "base_uri": "https://localhost:8080/"
        }
      },
      "source": [
        "# unique values of labels\r\n",
        "np.unique(np.array(labels))"
      ],
      "execution_count": 81,
      "outputs": [
        {
          "output_type": "execute_result",
          "data": {
            "text/plain": [
              "array(['business', 'entertainment', 'politics', 'sport', 'tech'],\n",
              "      dtype='<U13')"
            ]
          },
          "metadata": {
            "tags": []
          },
          "execution_count": 81
        }
      ]
    },
    {
      "cell_type": "code",
      "metadata": {
        "id": "dqSrbdqoucMH",
        "outputId": "7c577a37-24dd-42c3-8e68-e689326476a2",
        "colab": {
          "base_uri": "https://localhost:8080/"
        }
      },
      "source": [
        "label_tokenizer.word_index"
      ],
      "execution_count": 82,
      "outputs": [
        {
          "output_type": "execute_result",
          "data": {
            "text/plain": [
              "{'business': 2, 'entertainment': 5, 'politics': 3, 'sport': 1, 'tech': 4}"
            ]
          },
          "metadata": {
            "tags": []
          },
          "execution_count": 82
        }
      ]
    },
    {
      "cell_type": "code",
      "metadata": {
        "colab": {
          "base_uri": "https://localhost:8080/"
        },
        "id": "HZ5um4MWZP-W",
        "outputId": "09995500-cbfd-4cb4-e2f3-ff3a72bc01f6"
      },
      "source": [
        "model = tf.keras.Sequential([\n",
        "                             tf.keras.layers.Embedding(input_dim=vocab_size, \n",
        "                                                       output_dim=embedding_dim, \n",
        "                                                       input_length=max_length),\n",
        "                            #  tf.keras.layers.Flatten(),\n",
        "                             tf.keras.layers.GlobalAveragePooling1D(),\n",
        "                            #  tf.keras.layers.Dense(units=2048, activation=tf.keras.layers.LeakyReLU(alpha=0.1)),\n",
        "                            #  tf.keras.layers.Dense(units=128, activation=tf.keras.layers.LeakyReLU(alpha=0.1)),\n",
        "                             tf.keras.layers.Dense(units=24, activation=tf.keras.layers.LeakyReLU(alpha=0.1)),\n",
        "                             tf.keras.layers.Dense(units=6, activation='softmax')\n",
        "                             ],\n",
        "                            name='course3_week2_exercise'\n",
        "                            )\n",
        "model.compile(loss='sparse_categorical_crossentropy',optimizer='adam',metrics=['accuracy'])\n",
        "model.summary()\n",
        "\n",
        "# Expected Output\n",
        "# Layer (type)                 Output Shape              Param #   \n",
        "# =================================================================\n",
        "# embedding (Embedding)        (None, 120, 16)           16000     \n",
        "# _________________________________________________________________\n",
        "# global_average_pooling1d (Gl (None, 16)                0         \n",
        "# _________________________________________________________________\n",
        "# dense (Dense)                (None, 24)                408       \n",
        "# _________________________________________________________________\n",
        "# dense_1 (Dense)              (None, 6)                 150       \n",
        "# =================================================================\n",
        "# Total params: 16,558\n",
        "# Trainable params: 16,558\n",
        "# Non-trainable params: 0"
      ],
      "execution_count": 85,
      "outputs": [
        {
          "output_type": "stream",
          "text": [
            "Model: \"course3_week2_exercise\"\n",
            "_________________________________________________________________\n",
            "Layer (type)                 Output Shape              Param #   \n",
            "=================================================================\n",
            "embedding_13 (Embedding)     (None, 120, 16)           16000     \n",
            "_________________________________________________________________\n",
            "global_average_pooling1d_12  (None, 16)                0         \n",
            "_________________________________________________________________\n",
            "dense_30 (Dense)             (None, 24)                408       \n",
            "_________________________________________________________________\n",
            "dense_31 (Dense)             (None, 6)                 150       \n",
            "=================================================================\n",
            "Total params: 16,558\n",
            "Trainable params: 16,558\n",
            "Non-trainable params: 0\n",
            "_________________________________________________________________\n"
          ],
          "name": "stdout"
        }
      ]
    },
    {
      "cell_type": "code",
      "metadata": {
        "colab": {
          "base_uri": "https://localhost:8080/"
        },
        "id": "XsfdxySKZSXu",
        "outputId": "244cb255-eea4-4d25-ed3b-1b28d4b2ca68"
      },
      "source": [
        "num_epochs = 30\n",
        "history = model.fit(x=train_padded, \n",
        "                    y=training_label_seq, \n",
        "                    batch_size=16, \n",
        "                    epochs=num_epochs, \n",
        "                    validation_data=(validation_padded, validation_label_seq))"
      ],
      "execution_count": 86,
      "outputs": [
        {
          "output_type": "stream",
          "text": [
            "Epoch 1/30\n",
            "112/112 [==============================] - 1s 4ms/step - loss: 1.7672 - accuracy: 0.2120 - val_loss: 1.6650 - val_accuracy: 0.2719\n",
            "Epoch 2/30\n",
            "112/112 [==============================] - 0s 3ms/step - loss: 1.6315 - accuracy: 0.3794 - val_loss: 1.5071 - val_accuracy: 0.4629\n",
            "Epoch 3/30\n",
            "112/112 [==============================] - 0s 4ms/step - loss: 1.4468 - accuracy: 0.4830 - val_loss: 1.2857 - val_accuracy: 0.6427\n",
            "Epoch 4/30\n",
            "112/112 [==============================] - 0s 4ms/step - loss: 1.1953 - accuracy: 0.6206 - val_loss: 1.0417 - val_accuracy: 0.7596\n",
            "Epoch 5/30\n",
            "112/112 [==============================] - 0s 4ms/step - loss: 0.9331 - accuracy: 0.7540 - val_loss: 0.8305 - val_accuracy: 0.8427\n",
            "Epoch 6/30\n",
            "112/112 [==============================] - 0s 4ms/step - loss: 0.7247 - accuracy: 0.8493 - val_loss: 0.6783 - val_accuracy: 0.8517\n",
            "Epoch 7/30\n",
            "112/112 [==============================] - 0s 3ms/step - loss: 0.5726 - accuracy: 0.8796 - val_loss: 0.5616 - val_accuracy: 0.8831\n",
            "Epoch 8/30\n",
            "112/112 [==============================] - 0s 3ms/step - loss: 0.4533 - accuracy: 0.9137 - val_loss: 0.4860 - val_accuracy: 0.8854\n",
            "Epoch 9/30\n",
            "112/112 [==============================] - 0s 3ms/step - loss: 0.3342 - accuracy: 0.9435 - val_loss: 0.4199 - val_accuracy: 0.8854\n",
            "Epoch 10/30\n",
            "112/112 [==============================] - 0s 4ms/step - loss: 0.2651 - accuracy: 0.9543 - val_loss: 0.3737 - val_accuracy: 0.9034\n",
            "Epoch 11/30\n",
            "112/112 [==============================] - 0s 4ms/step - loss: 0.1974 - accuracy: 0.9677 - val_loss: 0.3410 - val_accuracy: 0.9101\n",
            "Epoch 12/30\n",
            "112/112 [==============================] - 0s 3ms/step - loss: 0.1626 - accuracy: 0.9749 - val_loss: 0.3193 - val_accuracy: 0.9169\n",
            "Epoch 13/30\n",
            "112/112 [==============================] - 0s 3ms/step - loss: 0.1319 - accuracy: 0.9808 - val_loss: 0.3015 - val_accuracy: 0.9213\n",
            "Epoch 14/30\n",
            "112/112 [==============================] - 0s 3ms/step - loss: 0.1193 - accuracy: 0.9799 - val_loss: 0.2917 - val_accuracy: 0.9236\n",
            "Epoch 15/30\n",
            "112/112 [==============================] - 0s 3ms/step - loss: 0.1050 - accuracy: 0.9857 - val_loss: 0.2804 - val_accuracy: 0.9213\n",
            "Epoch 16/30\n",
            "112/112 [==============================] - 0s 3ms/step - loss: 0.0829 - accuracy: 0.9916 - val_loss: 0.2720 - val_accuracy: 0.9236\n",
            "Epoch 17/30\n",
            "112/112 [==============================] - 0s 3ms/step - loss: 0.0752 - accuracy: 0.9892 - val_loss: 0.2682 - val_accuracy: 0.9281\n",
            "Epoch 18/30\n",
            "112/112 [==============================] - 0s 3ms/step - loss: 0.0715 - accuracy: 0.9935 - val_loss: 0.2638 - val_accuracy: 0.9236\n",
            "Epoch 19/30\n",
            "112/112 [==============================] - 0s 4ms/step - loss: 0.0630 - accuracy: 0.9939 - val_loss: 0.2625 - val_accuracy: 0.9303\n",
            "Epoch 20/30\n",
            "112/112 [==============================] - 0s 3ms/step - loss: 0.0486 - accuracy: 0.9948 - val_loss: 0.2612 - val_accuracy: 0.9326\n",
            "Epoch 21/30\n",
            "112/112 [==============================] - 0s 3ms/step - loss: 0.0473 - accuracy: 0.9967 - val_loss: 0.2615 - val_accuracy: 0.9258\n",
            "Epoch 22/30\n",
            "112/112 [==============================] - 0s 3ms/step - loss: 0.0363 - accuracy: 0.9965 - val_loss: 0.2577 - val_accuracy: 0.9326\n",
            "Epoch 23/30\n",
            "112/112 [==============================] - 0s 3ms/step - loss: 0.0337 - accuracy: 0.9977 - val_loss: 0.2523 - val_accuracy: 0.9371\n",
            "Epoch 24/30\n",
            "112/112 [==============================] - 0s 3ms/step - loss: 0.0282 - accuracy: 0.9995 - val_loss: 0.2531 - val_accuracy: 0.9371\n",
            "Epoch 25/30\n",
            "112/112 [==============================] - 0s 4ms/step - loss: 0.0271 - accuracy: 0.9999 - val_loss: 0.2583 - val_accuracy: 0.9326\n",
            "Epoch 26/30\n",
            "112/112 [==============================] - 0s 4ms/step - loss: 0.0218 - accuracy: 0.9997 - val_loss: 0.2595 - val_accuracy: 0.9348\n",
            "Epoch 27/30\n",
            "112/112 [==============================] - 0s 4ms/step - loss: 0.0188 - accuracy: 0.9994 - val_loss: 0.2581 - val_accuracy: 0.9416\n",
            "Epoch 28/30\n",
            "112/112 [==============================] - 0s 3ms/step - loss: 0.0190 - accuracy: 0.9999 - val_loss: 0.2529 - val_accuracy: 0.9393\n",
            "Epoch 29/30\n",
            "112/112 [==============================] - 0s 4ms/step - loss: 0.0152 - accuracy: 1.0000 - val_loss: 0.2560 - val_accuracy: 0.9393\n",
            "Epoch 30/30\n",
            "112/112 [==============================] - 0s 4ms/step - loss: 0.0135 - accuracy: 1.0000 - val_loss: 0.2551 - val_accuracy: 0.9393\n"
          ],
          "name": "stdout"
        }
      ]
    },
    {
      "cell_type": "code",
      "metadata": {
        "colab": {
          "base_uri": "https://localhost:8080/",
          "height": 541
        },
        "id": "dQ0BX2apXS9u",
        "outputId": "d0952ddb-9be3-42e5-9289-091e39b35bda"
      },
      "source": [
        "import matplotlib.pyplot as plt\n",
        "\n",
        "\n",
        "def plot_graphs(history, string):\n",
        "  plt.plot(history.history[string])\n",
        "  plt.plot(history.history['val_'+string])\n",
        "  plt.xlabel(\"Epochs\")\n",
        "  plt.ylabel(string)\n",
        "  plt.legend([string, 'val_'+string])\n",
        "  plt.show()\n",
        "  \n",
        "plot_graphs(history, \"accuracy\")\n",
        "plot_graphs(history, \"loss\")"
      ],
      "execution_count": 70,
      "outputs": [
        {
          "output_type": "display_data",
          "data": {
            "image/png": "[encoded data removed]",
            "text/plain": [
              "<Figure size 432x288 with 1 Axes>"
            ]
          },
          "metadata": {
            "tags": [],
            "needs_background": "light"
          }
        },
        {
          "output_type": "display_data",
          "data": {
            "image/png": "[encoded data removed]",
            "text/plain": [
              "<Figure size 432x288 with 1 Axes>"
            ]
          },
          "metadata": {
            "tags": [],
            "needs_background": "light"
          }
        }
      ]
    },
    {
      "cell_type": "code",
      "metadata": {
        "id": "w7Xc-uWxXhML"
      },
      "source": [
        "reverse_word_index = dict([(value, key) for (key, value) in word_index.items()])\n",
        "\n",
        "def decode_sentence(text):\n",
        "    return ' '.join([reverse_word_index.get(i, '?') for i in text])\n"
      ],
      "execution_count": 71,
      "outputs": []
    },
    {
      "cell_type": "code",
      "metadata": {
        "id": "TK3pNCcirBcU"
      },
      "source": [
        "sample_texts = ['''Arsenal midfielder Mesut Ozil is close to completing a move to Turkish club Fenerbahce.\r\n",
        "\r\n",
        "The 32-year-old still has half a season left on his Arsenal contract but both parties are in advanced talks which they expect to lead to an agreement to terminate it.\r\n",
        "\r\n",
        "That would pave the way for the move to Istanbul in the coming days.\r\n",
        "\r\n",
        "Ozil has not played for Arsenal since a 1-0 win over West Ham in March and has been frozen out by boss Mikel Arteta.\r\n",
        "\r\n",
        "He joined the club in a £42.4m move from Real Madrid in 2013 and helped them win the FA Cup three times.\r\n",
        "\r\n",
        "Ozil spoke of his admiration for the Turkish side during a social media question-and-answer session during the week.\r\n",
        "\r\n",
        "\"Fenerbahce is like Real Madrid in Spain. The biggest club in the country,\" he told followers.\r\n",
        "\r\n",
        "Media reports in Turkey earlier this month claimed Fenerbahce would be signing Ozil in January.\r\n",
        "\r\n",
        "And when asked about that manager Arteta said a move would only happen if it was \"the best solution for everybody\".''', \r\n",
        "'''WhatsApp has extended the deadline by which its two billion users must either accept its updated terms and conditions or stop using the service.\r\n",
        "\r\n",
        "The original cut-off date was 8 February, but users now have until 15 May to take action.\r\n",
        "\r\n",
        "The firm was criticised for sending the notification, which seemed to suggest changes to the data it would share with its parent company Facebook.\r\n",
        "\r\n",
        "It said there had been \"confusion\" about its message.\r\n",
        "\r\n",
        "Since the announcement and notifications went out across its platform, millions of people around the world have downloaded alternative encrypted messaging apps such as Signal and Telegram.\r\n",
        "\r\n",
        "WhatsApp users flock to rival message platforms\r\n",
        "In a blogpost, WhatsApp said personal messages had always been encrypted and would remain private. It added that its practice of sharing some user data with Facebook was not new, and was not going to be expanded.\r\n",
        "\r\n",
        "\"The update includes new options people will have to message a business on WhatsApp, and provides further transparency about how we collect and use data,\" it said.''', \r\n",
        "'''Uganda's long-time President Yoweri Museveni has been re-elected, electoral officials say, amid accusations of vote rigging by his main rival Bobi Wine.\r\n",
        "\r\n",
        "Mr Museveni won almost 59% of the vote, with Bobi Wine trailing with about 35%, the Electoral Commission said.\r\n",
        "\r\n",
        "Bobi Wine, a former pop star, earlier vowed to provide evidence of fraud. The Electoral Commission denies there was vote-rigging in Thursday's poll.\r\n",
        "\r\n",
        "Poll monitors have criticised the government closure of internet access.\r\n",
        "\r\n",
        "The say this undermined confidence. Bobi Wine said he would provide evidence of fraud once the internet was restored.''', \r\n",
        "'''Donald Trump has been impeached - again. So what now?\r\n",
        "\r\n",
        "The president has become the first in US history to twice suffer such ignominy - impeachment means to be charged with misconduct by the lower house of US Congress.\r\n",
        "\r\n",
        "The Democratic-controlled House of Representatives accused Mr Trump of encouraging violence with his false claims of election fraud and egging on a mob to storm the Capitol on 6 January.\r\n",
        "\r\n",
        "Some Republicans also backed impeachment in Wednesday's vote.\r\n",
        "\r\n",
        "What happens next?\r\n",
        "Mr Trump, a Republican, now faces trial in the upper chamber, the Senate.\r\n",
        "\r\n",
        "A two-thirds majority in the Senate means a conviction and removal from office.\r\n",
        "\r\n",
        "But the president is due to leave office anyway next Wednesday, when Democrat Joe Biden will be sworn in.\r\n",
        "\r\n",
        "So it's uncharted territory.''',\r\n",
        "'''It is rare for a fictional TV show or movie to capture real grief effectively and honestly, given the difficulty in striking a balance between over-sentimentality and abject gloom.\r\n",
        "\r\n",
        "But taking on such a challenge was considered worthwhile by the producers of the six-part ITV drama series Finding Alice.\r\n",
        "\r\n",
        "Alice is a young woman left suddenly floundering and trying to \"find\" herself after her partner Harry dies from apparently falling down the stairs of their flash dream \"smart\" home, which he devotedly built himself.\r\n",
        "\r\n",
        "Harry was Alice's rock, the one she relied on for everything and who gave her a sense of self, even though she is mother to 16-year-old Charlotte.\r\n",
        "\r\n",
        "And if the pain of Alice's loss and disorientation is not enough, Harry's death unearths a seething cauldron of loose ends, secrets and hidden debt, and stirs up wider family divisions that threaten to engulf her.\r\n",
        "\r\n",
        "The idea for the drama originated with Roger Goldby, notable as a director on the ITV series The Durrells.''',\r\n",
        "'''UK meat exporters have claimed post-Brexit customs systems are \"not fit for purpose\", with goods delayed for hours, sometimes days, at the border.\r\n",
        "\r\n",
        "The British Meat Processor Association said even experienced exporters were struggling with the system.\r\n",
        "\r\n",
        "It said meat exports to the EU were 25% of normal levels for this time of year.\r\n",
        "\r\n",
        "One large French meat importer told the BBC that he and his competitors were starting to look at alternative suppliers in Spain and Ireland.\r\n",
        "\r\n",
        "The BBC has contacted the government for comment.\r\n",
        "\r\n",
        "Nick Allen, chief executive of the British Meat Processor Association, said: \"Fundamentally, this is not a system that was designed for a 24/7, just-in-time supply chain.\r\n",
        "\r\n",
        "\"The export health certification process was designed for moving containers of frozen meat around the world where you have a bit of leeway on time.\r\n",
        "\r\n",
        "\"No matter how much better we get at filling in the forms, it's really not fit for purpose. This is going back to the dark ages in terms of a process really, in this digital age.\"''']\r\n",
        "\r\n",
        "sample_labels = ['sport','tech', 'politics', 'politics', 'entertainment', 'business']\r\n",
        "\r\n",
        "sample_urls = ['https://www.bbc.com/sport/football/55559952', 'https://www.bbc.com/news/technology-55683745', 'https://www.bbc.com/news/world-africa-55689665', 'https://www.bbc.com/news/world-us-canada-55586677', 'https://www.bbc.com/news/entertainment-arts-55543686', 'https://www.bbc.com/news/business-55680315']\r\n",
        "\r\n",
        "# preprocess the sample texts and labels\r\n",
        "sampletexts_seq = tokenizer.texts_to_sequences(sample_texts)\r\n",
        "sampletexts_padded = pad_sequences(sampletexts_seq, maxlen=max_length, padding=padding_type, truncating=trunc_type)\r\n",
        "samplelabels_seq = label_tokenizer.texts_to_sequences(sample_labels)\r\n",
        "\r\n",
        "# predict\r\n",
        "preds = model.predict(sampletexts_padded)"
      ],
      "execution_count": 87,
      "outputs": []
    },
    {
      "cell_type": "code",
      "metadata": {
        "id": "fAI2ygtFs8iA",
        "outputId": "114fd521-a91c-412c-da51-b257f674a212",
        "colab": {
          "base_uri": "https://localhost:8080/"
        }
      },
      "source": [
        "# check results\r\n",
        "for pred_label, true_label in zip(preds, sample_labels):\r\n",
        "    pred_label = label_tokenizer.index_word[np.argmax(pred_label)]\r\n",
        "    if pred_label == true_label:\r\n",
        "        print('predicted label:', pred_label)\r\n",
        "        print('true label:', true_label)\r\n",
        "        print('CORRECT')\r\n",
        "    else:\r\n",
        "        print('predicted label:', pred_label)\r\n",
        "        print('true label:', true_label)\r\n",
        "        print('INCORRECT')"
      ],
      "execution_count": 88,
      "outputs": [
        {
          "output_type": "stream",
          "text": [
            "predicted label: sport\n",
            "true label: sport\n",
            "CORRECT\n",
            "predicted label: tech\n",
            "true label: tech\n",
            "CORRECT\n",
            "predicted label: politics\n",
            "true label: politics\n",
            "CORRECT\n",
            "predicted label: politics\n",
            "true label: politics\n",
            "CORRECT\n",
            "predicted label: entertainment\n",
            "true label: entertainment\n",
            "CORRECT\n",
            "predicted label: politics\n",
            "true label: business\n",
            "INCORRECT\n"
          ],
          "name": "stdout"
        }
      ]
    },
    {
      "cell_type": "code",
      "metadata": {
        "colab": {
          "base_uri": "https://localhost:8080/"
        },
        "id": "OhnFA_TDXrih",
        "outputId": "2efa4471-38d2-4ad5-c544-24c761b8f6f8"
      },
      "source": [
        "e = model.layers[0]\n",
        "weights = e.get_weights()[0]\n",
        "print(weights.shape) # shape: (vocab_size, embedding_dim)\n",
        "\n",
        "# Expected output\n",
        "# (1000, 16)"
      ],
      "execution_count": 72,
      "outputs": [
        {
          "output_type": "stream",
          "text": [
            "(1000, 16)\n"
          ],
          "name": "stdout"
        }
      ]
    },
    {
      "cell_type": "code",
      "metadata": {
        "id": "_POzcWWAXudL"
      },
      "source": [
        "import io\n",
        "\n",
        "out_v = io.open('vecs.tsv', 'w', encoding='utf-8')\n",
        "out_m = io.open('meta.tsv', 'w', encoding='utf-8')\n",
        "for word_num in range(1, vocab_size):\n",
        "  word = reverse_word_index[word_num]\n",
        "  embeddings = weights[word_num]\n",
        "  out_m.write(word + \"\\n\")\n",
        "  out_v.write('\\t'.join([str(x) for x in embeddings]) + \"\\n\")\n",
        "out_v.close()\n",
        "out_m.close()"
      ],
      "execution_count": null,
      "outputs": []
    },
    {
      "cell_type": "code",
      "metadata": {
        "id": "VmqpQMZ_XyOa"
      },
      "source": [
        "try:\n",
        "  from google.colab import files\n",
        "except ImportError:\n",
        "  pass\n",
        "else:\n",
        "  files.download('vecs.tsv')\n",
        "  files.download('meta.tsv')"
      ],
      "execution_count": null,
      "outputs": []
    }
  ]
}